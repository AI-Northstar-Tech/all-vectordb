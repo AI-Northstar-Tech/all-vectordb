{
 "cells": [
  {
   "cell_type": "code",
   "execution_count": 1,
   "id": "66833dd4-97cf-4dcd-bff3-635a226646e4",
   "metadata": {},
   "outputs": [],
   "source": [
    "from getpass import getpass\n",
    "import kdbai_client as kdbai"
   ]
  },
  {
   "cell_type": "markdown",
   "id": "2ef38294-9cce-42f1-b193-ddffae041ecd",
   "metadata": {},
   "source": [
    "## Connect to KDB.AI cloud instance and verify table exists and has data"
   ]
  },
  {
   "cell_type": "code",
   "execution_count": 2,
   "id": "5f9392fc-87fd-42ae-bb5c-1518c2022028",
   "metadata": {},
   "outputs": [
    {
     "name": "stdout",
     "output_type": "stream",
     "text": [
      "KDB.AI endpoint:  ········\n",
      "KDB.AI API key:  ········\n"
     ]
    }
   ],
   "source": [
    "KDBAI_ENDPOINT = getpass(\"KDB.AI endpoint: \")\n",
    "KDBAI_API_KEY = getpass(\"KDB.AI API key: \")\n",
    "session = kdbai.Session(api_key=KDBAI_API_KEY, endpoint=KDBAI_ENDPOINT)"
   ]
  },
  {
   "cell_type": "code",
   "execution_count": 3,
   "id": "05292533-0f14-4edc-a011-924b92075abd",
   "metadata": {},
   "outputs": [],
   "source": [
    "table = session.table(\"openai_pdf\")"
   ]
  },
  {
   "cell_type": "code",
   "execution_count": 4,
   "id": "2e6d02c7-db75-497d-9dcd-c7855a56c3a0",
   "metadata": {},
   "outputs": [
    {
     "data": {
      "text/html": [
       "<div>\n",
       "<style scoped>\n",
       "    .dataframe tbody tr th:only-of-type {\n",
       "        vertical-align: middle;\n",
       "    }\n",
       "\n",
       "    .dataframe tbody tr th {\n",
       "        vertical-align: top;\n",
       "    }\n",
       "\n",
       "    .dataframe thead th {\n",
       "        text-align: right;\n",
       "    }\n",
       "</style>\n",
       "<table border=\"1\" class=\"dataframe\">\n",
       "  <thead>\n",
       "    <tr style=\"text-align: right;\">\n",
       "      <th></th>\n",
       "      <th>Embeddings</th>\n",
       "      <th>Sentences</th>\n",
       "    </tr>\n",
       "  </thead>\n",
       "  <tbody>\n",
       "    <tr>\n",
       "      <th>0</th>\n",
       "      <td>[-0.00248929625377059, 0.006371329538524151, -...</td>\n",
       "      <td>Draft version August 14, 2023\\nTypeset using L...</td>\n",
       "    </tr>\n",
       "    <tr>\n",
       "      <th>1</th>\n",
       "      <td>[0.006372543051838875, 0.002492946805432439, -...</td>\n",
       "      <td>Ted Mackereth\\n ,3, 4, 5, ∗and\\nJohn C. Forbes...</td>\n",
       "    </tr>\n",
       "    <tr>\n",
       "      <th>2</th>\n",
       "      <td>[0.0013814108679071069, 0.0014908972661942244,...</td>\n",
       "      <td>We define a novel framework: firstly to predic...</td>\n",
       "    </tr>\n",
       "    <tr>\n",
       "      <th>3</th>\n",
       "      <td>[0.014146137051284313, -0.0005565343308262527,...</td>\n",
       "      <td>We predict the spatial and compositional distr...</td>\n",
       "    </tr>\n",
       "    <tr>\n",
       "      <th>4</th>\n",
       "      <td>[0.01576417125761509, 0.004918665625154972, 0....</td>\n",
       "      <td>Selecting ISO water mass\\nfraction as an examp...</td>\n",
       "    </tr>\n",
       "    <tr>\n",
       "      <th>...</th>\n",
       "      <td>...</td>\n",
       "      <td>...</td>\n",
       "    </tr>\n",
       "    <tr>\n",
       "      <th>586</th>\n",
       "      <td>[-0.00573846697807312, -0.006318436004221439, ...</td>\n",
       "      <td>2021, ApJ, 922, 189,\\ndoi: 10.3847/1538-4357/a...</td>\n",
       "    </tr>\n",
       "    <tr>\n",
       "      <th>587</th>\n",
       "      <td>[0.0037363762967288494, -0.0014329071855172515...</td>\n",
       "      <td>2020,\\nNature Methods, 17, 261, doi: 10.1038/s...</td>\n",
       "    </tr>\n",
       "    <tr>\n",
       "      <th>588</th>\n",
       "      <td>[0.0008434861665591598, -0.01327595580369234, ...</td>\n",
       "      <td>A., Frinchaboy, P. M., et al.</td>\n",
       "    </tr>\n",
       "    <tr>\n",
       "      <th>589</th>\n",
       "      <td>[-0.01480394322425127, 0.0031033621635288, -0....</td>\n",
       "      <td>2013, AJ, 146, 81, doi: 10.1088/0004-6256/146/...</td>\n",
       "    </tr>\n",
       "    <tr>\n",
       "      <th>590</th>\n",
       "      <td>[-0.017208511009812355, 0.0005549969500862062,...</td>\n",
       "      <td>2017,\\nAJ, 154, 198, doi: 10.3847/1538-3881/aa...</td>\n",
       "    </tr>\n",
       "  </tbody>\n",
       "</table>\n",
       "<p>591 rows × 2 columns</p>\n",
       "</div>"
      ],
      "text/plain": [
       "                                            Embeddings  \\\n",
       "0    [-0.00248929625377059, 0.006371329538524151, -...   \n",
       "1    [0.006372543051838875, 0.002492946805432439, -...   \n",
       "2    [0.0013814108679071069, 0.0014908972661942244,...   \n",
       "3    [0.014146137051284313, -0.0005565343308262527,...   \n",
       "4    [0.01576417125761509, 0.004918665625154972, 0....   \n",
       "..                                                 ...   \n",
       "586  [-0.00573846697807312, -0.006318436004221439, ...   \n",
       "587  [0.0037363762967288494, -0.0014329071855172515...   \n",
       "588  [0.0008434861665591598, -0.01327595580369234, ...   \n",
       "589  [-0.01480394322425127, 0.0031033621635288, -0....   \n",
       "590  [-0.017208511009812355, 0.0005549969500862062,...   \n",
       "\n",
       "                                             Sentences  \n",
       "0    Draft version August 14, 2023\\nTypeset using L...  \n",
       "1    Ted Mackereth\\n ,3, 4, 5, ∗and\\nJohn C. Forbes...  \n",
       "2    We define a novel framework: firstly to predic...  \n",
       "3    We predict the spatial and compositional distr...  \n",
       "4    Selecting ISO water mass\\nfraction as an examp...  \n",
       "..                                                 ...  \n",
       "586  2021, ApJ, 922, 189,\\ndoi: 10.3847/1538-4357/a...  \n",
       "587  2020,\\nNature Methods, 17, 261, doi: 10.1038/s...  \n",
       "588                      A., Frinchaboy, P. M., et al.  \n",
       "589  2013, AJ, 146, 81, doi: 10.1088/0004-6256/146/...  \n",
       "590  2017,\\nAJ, 154, 198, doi: 10.3847/1538-3881/aa...  \n",
       "\n",
       "[591 rows x 2 columns]"
      ]
     },
     "execution_count": 4,
     "metadata": {},
     "output_type": "execute_result"
    }
   ],
   "source": [
    "table.query()"
   ]
  },
  {
   "cell_type": "markdown",
   "id": "094f816e-b8be-4165-a573-1edd00fe6abf",
   "metadata": {},
   "source": [
    "## Export Vector DB data using vector-io "
   ]
  },
  {
   "cell_type": "code",
   "execution_count": 5,
   "id": "1178a222-462c-4600-8725-53a6d907046e",
   "metadata": {},
   "outputs": [
    {
     "name": "stdout",
     "output_type": "stream",
     "text": [
      "Enter the KDB.AI endpoint instance:  https://cloud.kdb.ai/instance/pwjhnuwjez\n",
      "Enter the name of table to export: openai_pdf\n",
      "Enter the embedding model used: text-embedding-ada-002\n",
      "Enter your KDB.AI API key:  ········\n"
     ]
    },
    {
     "name": "stdout",
     "output_type": "stream",
     "text": [
      "Export to disk completed. Exported to: vdf_20240205_101022_82f0d/\n",
      "Time taken to export data:  00:00:20\n"
     ]
    }
   ],
   "source": [
    "%run src/export_vdf.py kdbai"
   ]
  },
  {
   "cell_type": "markdown",
   "id": "7de087de-5fb1-4826-bb52-cce0d22a0255",
   "metadata": {},
   "source": [
    "## Drop table from KDB.AI instance and query to confirm its deleted"
   ]
  },
  {
   "cell_type": "code",
   "execution_count": 5,
   "id": "5a411ce3-5dbc-46db-bc6c-26f552efdb1c",
   "metadata": {},
   "outputs": [
    {
     "data": {
      "text/plain": [
       "True"
      ]
     },
     "execution_count": 5,
     "metadata": {},
     "output_type": "execute_result"
    }
   ],
   "source": [
    "table.drop()"
   ]
  },
  {
   "cell_type": "code",
   "execution_count": 7,
   "id": "93046e19-fb05-4aa3-8618-6e72bfb1da4a",
   "metadata": {},
   "outputs": [
    {
     "name": "stdout",
     "output_type": "stream",
     "text": [
      "Caught an exception: Failed to process the query {'table': 'openai_pdf'} on table named: openai_pdf, because of: Table not found, table=openai_pdf.\n"
     ]
    }
   ],
   "source": [
    "try:\n",
    "    table.query()\n",
    "    time.sleep(5)\n",
    "except kdbai.KDBAIException as e:\n",
    "    print(f\"Caught an exception: {e}\")"
   ]
  },
  {
   "cell_type": "markdown",
   "id": "f853bdf2-4f6a-4287-ae9a-39e5d4f4e054",
   "metadata": {},
   "source": [
    "## Try to import the table data into KDB.AI using vector-io"
   ]
  },
  {
   "cell_type": "code",
   "execution_count": 6,
   "id": "85a2ebc8-04a0-44ce-a3ce-278526146e94",
   "metadata": {},
   "outputs": [
    {
     "name": "stderr",
     "output_type": "stream",
     "text": [
      "/Users/christos/anaconda3/envs/threedotten/lib/python3.10/site-packages/pinecone/data/index.py:1: TqdmWarning: IProgress not found. Please update jupyter and ipywidgets. See https://ipywidgets.readthedocs.io/en/stable/user_install.html\n",
      "  from tqdm.autonotebook import tqdm\n"
     ]
    },
    {
     "name": "stdout",
     "output_type": "stream",
     "text": [
      "Enter the endpoint for KDB.AI Cloud instance:  https://cloud.kdb.ai/instance/pwjhnuwjez\n",
      "Enter your KDB.AI API key:  ········\n"
     ]
    },
    {
     "name": "stdout",
     "output_type": "stream",
     "text": [
      "Table created\n",
      "Inserted 250 out of 591 rows.\n",
      "Inserted 500 out of 591 rows.\n",
      "Inserted 591 out of 591 rows.\n",
      "Data fully added\n",
      "Time taken: 37.84 seconds\n"
     ]
    }
   ],
   "source": [
    "%run src/import_vdf.py  -d \"vdf_20240205_101022_82f0d\" kdbai"
   ]
  },
  {
   "cell_type": "markdown",
   "id": "2aa4bcb8-bb07-4f88-9309-255fb627a36b",
   "metadata": {},
   "source": [
    "## Confirm table exists and data available"
   ]
  },
  {
   "cell_type": "code",
   "execution_count": 9,
   "id": "e2178947-ecea-4e37-b330-3849be7012ce",
   "metadata": {},
   "outputs": [
    {
     "data": {
      "text/html": [
       "<div>\n",
       "<style scoped>\n",
       "    .dataframe tbody tr th:only-of-type {\n",
       "        vertical-align: middle;\n",
       "    }\n",
       "\n",
       "    .dataframe tbody tr th {\n",
       "        vertical-align: top;\n",
       "    }\n",
       "\n",
       "    .dataframe thead th {\n",
       "        text-align: right;\n",
       "    }\n",
       "</style>\n",
       "<table border=\"1\" class=\"dataframe\">\n",
       "  <thead>\n",
       "    <tr style=\"text-align: right;\">\n",
       "      <th></th>\n",
       "      <th>Embeddings</th>\n",
       "      <th>Sentences</th>\n",
       "    </tr>\n",
       "  </thead>\n",
       "  <tbody>\n",
       "    <tr>\n",
       "      <th>0</th>\n",
       "      <td>[-0.00248929625377059, 0.006371329538524151, -...</td>\n",
       "      <td>Draft version August 14, 2023\\nTypeset using L...</td>\n",
       "    </tr>\n",
       "    <tr>\n",
       "      <th>1</th>\n",
       "      <td>[0.006372543051838875, 0.002492946805432439, -...</td>\n",
       "      <td>Ted Mackereth\\n ,3, 4, 5, ∗and\\nJohn C. Forbes...</td>\n",
       "    </tr>\n",
       "    <tr>\n",
       "      <th>2</th>\n",
       "      <td>[0.0013814108679071069, 0.0014908972661942244,...</td>\n",
       "      <td>We define a novel framework: firstly to predic...</td>\n",
       "    </tr>\n",
       "    <tr>\n",
       "      <th>3</th>\n",
       "      <td>[0.014146137051284313, -0.0005565343308262527,...</td>\n",
       "      <td>We predict the spatial and compositional distr...</td>\n",
       "    </tr>\n",
       "    <tr>\n",
       "      <th>4</th>\n",
       "      <td>[0.01576417125761509, 0.004918665625154972, 0....</td>\n",
       "      <td>Selecting ISO water mass\\nfraction as an examp...</td>\n",
       "    </tr>\n",
       "    <tr>\n",
       "      <th>...</th>\n",
       "      <td>...</td>\n",
       "      <td>...</td>\n",
       "    </tr>\n",
       "    <tr>\n",
       "      <th>586</th>\n",
       "      <td>[-0.00573846697807312, -0.006318436004221439, ...</td>\n",
       "      <td>2021, ApJ, 922, 189,\\ndoi: 10.3847/1538-4357/a...</td>\n",
       "    </tr>\n",
       "    <tr>\n",
       "      <th>587</th>\n",
       "      <td>[0.0037363762967288494, -0.0014329071855172515...</td>\n",
       "      <td>2020,\\nNature Methods, 17, 261, doi: 10.1038/s...</td>\n",
       "    </tr>\n",
       "    <tr>\n",
       "      <th>588</th>\n",
       "      <td>[0.0008434861665591598, -0.01327595580369234, ...</td>\n",
       "      <td>A., Frinchaboy, P. M., et al.</td>\n",
       "    </tr>\n",
       "    <tr>\n",
       "      <th>589</th>\n",
       "      <td>[-0.01480394322425127, 0.0031033621635288, -0....</td>\n",
       "      <td>2013, AJ, 146, 81, doi: 10.1088/0004-6256/146/...</td>\n",
       "    </tr>\n",
       "    <tr>\n",
       "      <th>590</th>\n",
       "      <td>[-0.017208511009812355, 0.0005549969500862062,...</td>\n",
       "      <td>2017,\\nAJ, 154, 198, doi: 10.3847/1538-3881/aa...</td>\n",
       "    </tr>\n",
       "  </tbody>\n",
       "</table>\n",
       "<p>591 rows × 2 columns</p>\n",
       "</div>"
      ],
      "text/plain": [
       "                                            Embeddings  \\\n",
       "0    [-0.00248929625377059, 0.006371329538524151, -...   \n",
       "1    [0.006372543051838875, 0.002492946805432439, -...   \n",
       "2    [0.0013814108679071069, 0.0014908972661942244,...   \n",
       "3    [0.014146137051284313, -0.0005565343308262527,...   \n",
       "4    [0.01576417125761509, 0.004918665625154972, 0....   \n",
       "..                                                 ...   \n",
       "586  [-0.00573846697807312, -0.006318436004221439, ...   \n",
       "587  [0.0037363762967288494, -0.0014329071855172515...   \n",
       "588  [0.0008434861665591598, -0.01327595580369234, ...   \n",
       "589  [-0.01480394322425127, 0.0031033621635288, -0....   \n",
       "590  [-0.017208511009812355, 0.0005549969500862062,...   \n",
       "\n",
       "                                             Sentences  \n",
       "0    Draft version August 14, 2023\\nTypeset using L...  \n",
       "1    Ted Mackereth\\n ,3, 4, 5, ∗and\\nJohn C. Forbes...  \n",
       "2    We define a novel framework: firstly to predic...  \n",
       "3    We predict the spatial and compositional distr...  \n",
       "4    Selecting ISO water mass\\nfraction as an examp...  \n",
       "..                                                 ...  \n",
       "586  2021, ApJ, 922, 189,\\ndoi: 10.3847/1538-4357/a...  \n",
       "587  2020,\\nNature Methods, 17, 261, doi: 10.1038/s...  \n",
       "588                      A., Frinchaboy, P. M., et al.  \n",
       "589  2013, AJ, 146, 81, doi: 10.1088/0004-6256/146/...  \n",
       "590  2017,\\nAJ, 154, 198, doi: 10.3847/1538-3881/aa...  \n",
       "\n",
       "[591 rows x 2 columns]"
      ]
     },
     "execution_count": 9,
     "metadata": {},
     "output_type": "execute_result"
    }
   ],
   "source": [
    "table.query()"
   ]
  }
 ],
 "metadata": {
  "kernelspec": {
   "display_name": "base",
   "language": "python",
   "name": "python3"
  },
  "language_info": {
   "codemirror_mode": {
    "name": "ipython",
    "version": 3
   },
   "file_extension": ".py",
   "mimetype": "text/x-python",
   "name": "python",
   "nbconvert_exporter": "python",
   "pygments_lexer": "ipython3",
   "version": "3.10.12"
  }
 },
 "nbformat": 4,
 "nbformat_minor": 5
}
