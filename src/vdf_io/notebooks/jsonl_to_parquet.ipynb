{
 "cells": [
  {
   "cell_type": "markdown",
   "metadata": {},
   "source": [
    "# Import Required Libraries\n",
    "Import the necessary libraries, including pandas and pyarrow."
   ]
  },
  {
   "cell_type": "code",
   "execution_count": 2,
   "metadata": {},
   "outputs": [],
   "source": [
    "# Importing required libraries\n",
    "import pandas as pd\n",
    "import pyarrow as pa\n",
    "import pyarrow.parquet as pq"
   ]
  },
  {
   "cell_type": "markdown",
   "metadata": {},
   "source": [
    "# Load JSONL File\n",
    "Use pandas to load the jsonl file into a DataFrame."
   ]
  },
  {
   "cell_type": "code",
   "execution_count": 5,
   "metadata": {},
   "outputs": [],
   "source": [
    "# Load JSONL File\n",
    "jsonl_file = '/Users/dhruvanand/Code/datasets-dumps/shard-00000.jsonl'  # replace with your jsonl file path\n"
   ]
  },
  {
   "cell_type": "markdown",
   "metadata": {},
   "source": [
    "# Convert JSONL to DataFrame\n",
    "Convert the loaded jsonl data into a pandas DataFrame."
   ]
  },
  {
   "cell_type": "code",
   "execution_count": 6,
   "metadata": {},
   "outputs": [],
   "source": [
    "# Convert JSONL to DataFrame\n",
    "df = pd.read_json(jsonl_file, lines=True)  # Convert the loaded jsonl data into a pandas DataFrame"
   ]
  },
  {
   "cell_type": "code",
   "execution_count": 8,
   "metadata": {},
   "outputs": [
    {
     "data": {
      "text/html": [
       "<div>\n",
       "<style scoped>\n",
       "    .dataframe tbody tr th:only-of-type {\n",
       "        vertical-align: middle;\n",
       "    }\n",
       "\n",
       "    .dataframe tbody tr th {\n",
       "        vertical-align: top;\n",
       "    }\n",
       "\n",
       "    .dataframe thead th {\n",
       "        text-align: right;\n",
       "    }\n",
       "</style>\n",
       "<table border=\"1\" class=\"dataframe\">\n",
       "  <thead>\n",
       "    <tr style=\"text-align: right;\">\n",
       "      <th></th>\n",
       "      <th>anchor</th>\n",
       "      <th>entailment</th>\n",
       "      <th>contradiction</th>\n",
       "      <th>metadata</th>\n",
       "    </tr>\n",
       "  </thead>\n",
       "  <tbody>\n",
       "    <tr>\n",
       "      <th>0</th>\n",
       "      <td>A woman talks to two other women and a man wit...</td>\n",
       "      <td>a woman in an office building talks to two oth...</td>\n",
       "      <td>a man talks to ducks in a pond</td>\n",
       "      <td>{'topic': 'Women's Conversation', 'objective':...</td>\n",
       "    </tr>\n",
       "    <tr>\n",
       "      <th>1</th>\n",
       "      <td>An elderly woman and another younger woman gre...</td>\n",
       "      <td>An elderly woman and another younger woman</td>\n",
       "      <td>An elderly alien and another younger alien</td>\n",
       "      <td>{'topic': 'Women's Conversation', 'objective':...</td>\n",
       "    </tr>\n",
       "    <tr>\n",
       "      <th>2</th>\n",
       "      <td>Two women wearing sunglasses are walking next ...</td>\n",
       "      <td>The women are having a conversation.</td>\n",
       "      <td>The women are ignoring each other.</td>\n",
       "      <td>{'topic': 'Women's Conversation', 'objective':...</td>\n",
       "    </tr>\n",
       "    <tr>\n",
       "      <th>3</th>\n",
       "      <td>Two young women are holding a conversation whi...</td>\n",
       "      <td>The women are outside.</td>\n",
       "      <td>The women are asleep.</td>\n",
       "      <td>{'topic': 'Women's Conversation', 'objective':...</td>\n",
       "    </tr>\n",
       "    <tr>\n",
       "      <th>4</th>\n",
       "      <td>A group of women talk outside of a store.</td>\n",
       "      <td>Some people talk.</td>\n",
       "      <td>Some people sleep.</td>\n",
       "      <td>{'topic': 'Women's Conversation', 'objective':...</td>\n",
       "    </tr>\n",
       "  </tbody>\n",
       "</table>\n",
       "</div>"
      ],
      "text/plain": [
       "                                              anchor  \\\n",
       "0  A woman talks to two other women and a man wit...   \n",
       "1  An elderly woman and another younger woman gre...   \n",
       "2  Two women wearing sunglasses are walking next ...   \n",
       "3  Two young women are holding a conversation whi...   \n",
       "4          A group of women talk outside of a store.   \n",
       "\n",
       "                                          entailment  \\\n",
       "0  a woman in an office building talks to two oth...   \n",
       "1         An elderly woman and another younger woman   \n",
       "2               The women are having a conversation.   \n",
       "3                             The women are outside.   \n",
       "4                                  Some people talk.   \n",
       "\n",
       "                                contradiction  \\\n",
       "0              a man talks to ducks in a pond   \n",
       "1  An elderly alien and another younger alien   \n",
       "2          The women are ignoring each other.   \n",
       "3                       The women are asleep.   \n",
       "4                          Some people sleep.   \n",
       "\n",
       "                                            metadata  \n",
       "0  {'topic': 'Women's Conversation', 'objective':...  \n",
       "1  {'topic': 'Women's Conversation', 'objective':...  \n",
       "2  {'topic': 'Women's Conversation', 'objective':...  \n",
       "3  {'topic': 'Women's Conversation', 'objective':...  \n",
       "4  {'topic': 'Women's Conversation', 'objective':...  "
      ]
     },
     "execution_count": 8,
     "metadata": {},
     "output_type": "execute_result"
    }
   ],
   "source": [
    "df.head()"
   ]
  },
  {
   "cell_type": "code",
   "execution_count": 10,
   "metadata": {},
   "outputs": [
    {
     "data": {
      "text/plain": [
       "{'topic': \"Women's Conversation\",\n",
       " 'objective': {'self': [],\n",
       "  'paired': [['anchor', 'entailment']],\n",
       "  'triplet': [['anchor', 'entailment', 'contradiction']]}}"
      ]
     },
     "execution_count": 10,
     "metadata": {},
     "output_type": "execute_result"
    }
   ],
   "source": [
    "df.iloc[0].metadata"
   ]
  },
  {
   "cell_type": "markdown",
   "metadata": {},
   "source": [
    "# Save DataFrame as Parquet\n",
    "Use the to_parquet() function to save the DataFrame as a parquet file."
   ]
  },
  {
   "cell_type": "code",
   "execution_count": 12,
   "metadata": {},
   "outputs": [],
   "source": [
    "# Save DataFrame as Parquet\n",
    "for comp in ['snappy', 'gzip', 'brotli', 'zstd']:\n",
    "    parquet_file = f'path_to_output_file-{comp}.parquet'  # replace with your desired output parquet file path\n",
    "    df.to_parquet(parquet_file, engine='pyarrow', compression=comp)"
   ]
  },
  {
   "cell_type": "code",
   "execution_count": null,
   "metadata": {},
   "outputs": [],
   "source": []
  }
 ],
 "metadata": {
  "kernelspec": {
   "display_name": "base",
   "language": "python",
   "name": "python3"
  },
  "language_info": {
   "codemirror_mode": {
    "name": "ipython",
    "version": 3
   },
   "file_extension": ".py",
   "mimetype": "text/x-python",
   "name": "python",
   "nbconvert_exporter": "python",
   "pygments_lexer": "ipython3",
   "version": "3.10.12"
  },
  "orig_nbformat": 4
 },
 "nbformat": 4,
 "nbformat_minor": 2
}
