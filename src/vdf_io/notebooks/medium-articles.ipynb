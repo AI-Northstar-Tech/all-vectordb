{
 "cells": [
  {
   "cell_type": "code",
   "execution_count": 1,
   "metadata": {},
   "outputs": [],
   "source": [
    "import pandas as pd\n",
    "import numpy as np\n",
    "from datasets import load_dataset\n",
    "import latentscope as ls"
   ]
  },
  {
   "cell_type": "code",
   "execution_count": 2,
   "metadata": {},
   "outputs": [],
   "source": [
    "dataset = load_dataset(\"aintech/vdf_20240125_130746_ac5a6_medium_articles\")"
   ]
  },
  {
   "cell_type": "code",
   "execution_count": 3,
   "metadata": {},
   "outputs": [],
   "source": [
    "df = dataset[\"train\"].to_pandas()"
   ]
  },
  {
   "cell_type": "code",
   "execution_count": 4,
   "metadata": {},
   "outputs": [
    {
     "data": {
      "text/plain": [
       "Index(['id', 'title', 'title_vector', 'link', 'reading_time', 'publication',\n",
       "       'claps', 'responses', 'vector_text-embedding-3-small'],\n",
       "      dtype='object')"
      ]
     },
     "execution_count": 4,
     "metadata": {},
     "output_type": "execute_result"
    }
   ],
   "source": [
    "df.columns"
   ]
  },
  {
   "cell_type": "code",
   "execution_count": 5,
   "metadata": {},
   "outputs": [
    {
     "data": {
      "text/html": [
       "<div>\n",
       "<style scoped>\n",
       "    .dataframe tbody tr th:only-of-type {\n",
       "        vertical-align: middle;\n",
       "    }\n",
       "\n",
       "    .dataframe tbody tr th {\n",
       "        vertical-align: top;\n",
       "    }\n",
       "\n",
       "    .dataframe thead th {\n",
       "        text-align: right;\n",
       "    }\n",
       "</style>\n",
       "<table border=\"1\" class=\"dataframe\">\n",
       "  <thead>\n",
       "    <tr style=\"text-align: right;\">\n",
       "      <th></th>\n",
       "      <th>id</th>\n",
       "      <th>title</th>\n",
       "      <th>title_vector</th>\n",
       "      <th>link</th>\n",
       "      <th>reading_time</th>\n",
       "      <th>publication</th>\n",
       "      <th>claps</th>\n",
       "      <th>responses</th>\n",
       "      <th>vector_text-embedding-3-small</th>\n",
       "    </tr>\n",
       "  </thead>\n",
       "  <tbody>\n",
       "    <tr>\n",
       "      <th>0</th>\n",
       "      <td>0</td>\n",
       "      <td>The Reported Mortality Rate of Coronavirus Is ...</td>\n",
       "      <td>[0.041732933, 0.013779674, -0.027564144, -0.01...</td>\n",
       "      <td>https://medium.com/swlh/the-reported-mortality...</td>\n",
       "      <td>13</td>\n",
       "      <td>The Startup</td>\n",
       "      <td>1100</td>\n",
       "      <td>18</td>\n",
       "      <td>[0.01815902255475521, -0.000556989514734596, 0...</td>\n",
       "    </tr>\n",
       "    <tr>\n",
       "      <th>1</th>\n",
       "      <td>1</td>\n",
       "      <td>Dashboards in Python: 3 Advanced Examples for ...</td>\n",
       "      <td>[0.0039737443, 0.003020432, -0.0006188639, 0.0...</td>\n",
       "      <td>https://medium.com/swlh/dashboards-in-python-3...</td>\n",
       "      <td>14</td>\n",
       "      <td>The Startup</td>\n",
       "      <td>726</td>\n",
       "      <td>3</td>\n",
       "      <td>[-0.017228988930583, -0.03712876886129379, 0.0...</td>\n",
       "    </tr>\n",
       "    <tr>\n",
       "      <th>2</th>\n",
       "      <td>2</td>\n",
       "      <td>How Can We Best Switch in Python?</td>\n",
       "      <td>[0.031961977, 0.00047043373, -0.018263113, 0.0...</td>\n",
       "      <td>https://medium.com/swlh/how-can-we-best-switch...</td>\n",
       "      <td>6</td>\n",
       "      <td>The Startup</td>\n",
       "      <td>500</td>\n",
       "      <td>7</td>\n",
       "      <td>[-0.0027948690112680197, -0.006100953556597233...</td>\n",
       "    </tr>\n",
       "    <tr>\n",
       "      <th>3</th>\n",
       "      <td>3</td>\n",
       "      <td>Maternity leave shouldn’t set women back</td>\n",
       "      <td>[0.032572296, -0.011148319, -0.01688577, -0.00...</td>\n",
       "      <td>https://medium.com/swlh/maternity-leave-should...</td>\n",
       "      <td>9</td>\n",
       "      <td>The Startup</td>\n",
       "      <td>460</td>\n",
       "      <td>1</td>\n",
       "      <td>[0.04098882898688316, 0.054017066955566406, 0....</td>\n",
       "    </tr>\n",
       "    <tr>\n",
       "      <th>4</th>\n",
       "      <td>4</td>\n",
       "      <td>Python NLP Tutorial: Information Extraction an...</td>\n",
       "      <td>[-0.011735886, -0.016938083, -0.027233299, 0.0...</td>\n",
       "      <td>https://medium.com/swlh/python-nlp-tutorial-in...</td>\n",
       "      <td>7</td>\n",
       "      <td>The Startup</td>\n",
       "      <td>163</td>\n",
       "      <td>0</td>\n",
       "      <td>[-0.0338607020676136, 0.005243391264230013, -0...</td>\n",
       "    </tr>\n",
       "  </tbody>\n",
       "</table>\n",
       "</div>"
      ],
      "text/plain": [
       "   id                                              title  \\\n",
       "0   0  The Reported Mortality Rate of Coronavirus Is ...   \n",
       "1   1  Dashboards in Python: 3 Advanced Examples for ...   \n",
       "2   2                  How Can We Best Switch in Python?   \n",
       "3   3           Maternity leave shouldn’t set women back   \n",
       "4   4  Python NLP Tutorial: Information Extraction an...   \n",
       "\n",
       "                                        title_vector  \\\n",
       "0  [0.041732933, 0.013779674, -0.027564144, -0.01...   \n",
       "1  [0.0039737443, 0.003020432, -0.0006188639, 0.0...   \n",
       "2  [0.031961977, 0.00047043373, -0.018263113, 0.0...   \n",
       "3  [0.032572296, -0.011148319, -0.01688577, -0.00...   \n",
       "4  [-0.011735886, -0.016938083, -0.027233299, 0.0...   \n",
       "\n",
       "                                                link  reading_time  \\\n",
       "0  https://medium.com/swlh/the-reported-mortality...            13   \n",
       "1  https://medium.com/swlh/dashboards-in-python-3...            14   \n",
       "2  https://medium.com/swlh/how-can-we-best-switch...             6   \n",
       "3  https://medium.com/swlh/maternity-leave-should...             9   \n",
       "4  https://medium.com/swlh/python-nlp-tutorial-in...             7   \n",
       "\n",
       "   publication  claps  responses  \\\n",
       "0  The Startup   1100         18   \n",
       "1  The Startup    726          3   \n",
       "2  The Startup    500          7   \n",
       "3  The Startup    460          1   \n",
       "4  The Startup    163          0   \n",
       "\n",
       "                       vector_text-embedding-3-small  \n",
       "0  [0.01815902255475521, -0.000556989514734596, 0...  \n",
       "1  [-0.017228988930583, -0.03712876886129379, 0.0...  \n",
       "2  [-0.0027948690112680197, -0.006100953556597233...  \n",
       "3  [0.04098882898688316, 0.054017066955566406, 0....  \n",
       "4  [-0.0338607020676136, 0.005243391264230013, -0...  "
      ]
     },
     "execution_count": 5,
     "metadata": {},
     "output_type": "execute_result"
    }
   ],
   "source": [
    "df.head()\n"
   ]
  },
  {
   "cell_type": "code",
   "execution_count": 6,
   "metadata": {},
   "outputs": [],
   "source": [
    "# embeddings = df[\"title_vector\"].to_numpy()\n",
    "embeddings = df[\"vector_text-embedding-3-small\"].to_numpy()"
   ]
  },
  {
   "cell_type": "code",
   "execution_count": 7,
   "metadata": {},
   "outputs": [
    {
     "data": {
      "text/plain": [
       "(5979,)"
      ]
     },
     "execution_count": 7,
     "metadata": {},
     "output_type": "execute_result"
    }
   ],
   "source": [
    "embeddings.shape"
   ]
  },
  {
   "cell_type": "code",
   "execution_count": 8,
   "metadata": {},
   "outputs": [],
   "source": [
    "# Convert the numpy array of lists into a numpy array of numpy arrays\n",
    "embeddings = np.array([np.array(embedding) for embedding in embeddings])\n"
   ]
  },
  {
   "cell_type": "code",
   "execution_count": 9,
   "metadata": {},
   "outputs": [
    {
     "data": {
      "text/plain": [
       "(5979, 1536)"
      ]
     },
     "execution_count": 9,
     "metadata": {},
     "output_type": "execute_result"
    }
   ],
   "source": [
    "embeddings.shape"
   ]
  },
  {
   "cell_type": "code",
   "execution_count": 10,
   "metadata": {},
   "outputs": [],
   "source": [
    "# Copy the dataframe excluding the vector columns\n",
    "df2 = df.drop(columns=[\"title_vector\", \"vector_text-embedding-3-small\"])"
   ]
  },
  {
   "cell_type": "code",
   "execution_count": 11,
   "metadata": {},
   "outputs": [
    {
     "name": "stdout",
     "output_type": "stream",
     "text": [
      "Loading environment variables from: /Users/dhruvanand/Code/vector-io/.env\n",
      "DATA DIR ./\n",
      "DIRECTORY ./medium_articles\n",
      "   id                                              title  \\\n",
      "0   0  The Reported Mortality Rate of Coronavirus Is ...   \n",
      "1   1  Dashboards in Python: 3 Advanced Examples for ...   \n",
      "2   2                  How Can We Best Switch in Python?   \n",
      "3   3           Maternity leave shouldn’t set women back   \n",
      "4   4  Python NLP Tutorial: Information Extraction an...   \n",
      "\n",
      "                                                link  reading_time  \\\n",
      "0  https://medium.com/swlh/the-reported-mortality...            13   \n",
      "1  https://medium.com/swlh/dashboards-in-python-3...            14   \n",
      "2  https://medium.com/swlh/how-can-we-best-switch...             6   \n",
      "3  https://medium.com/swlh/maternity-leave-should...             9   \n",
      "4  https://medium.com/swlh/python-nlp-tutorial-in...             7   \n",
      "\n",
      "   publication  claps  responses  \n",
      "0  The Startup   1100         18  \n",
      "1  The Startup    726          3  \n",
      "2  The Startup    500          7  \n",
      "3  The Startup    460          1  \n",
      "4  The Startup    163          0  \n",
      "        id                                              title  \\\n",
      "5974  5974  5 steps to create a simple digital coloring bo...   \n",
      "5975  5975                       A Brief History of Paul Rand   \n",
      "5976  5976            The user experience of public restrooms   \n",
      "5977  5977                   Is it really all about the user?   \n",
      "5978  5978          Goers UX Case Study — Kano Model Research   \n",
      "\n",
      "                                                   link  reading_time  \\\n",
      "5974  https://uxdesign.cc/5-steps-to-create-a-simple...             6   \n",
      "5975  https://uxdesign.cc/a-brief-history-of-paul-ra...             3   \n",
      "5976  https://uxdesign.cc/the-user-experience-of-pub...             4   \n",
      "5977  https://uxdesign.cc/is-it-really-all-about-the...             3   \n",
      "5978  https://uxdesign.cc/goers-ux-case-study-kano-m...             6   \n",
      "\n",
      "        publication  claps  responses  \n",
      "5974  UX Collective    432          0  \n",
      "5975  UX Collective    224          0  \n",
      "5976  UX Collective     20          0  \n",
      "5977  UX Collective     22          0  \n",
      "5978  UX Collective      8          0  \n",
      "Index(['id', 'title', 'link', 'reading_time', 'publication', 'claps',\n",
      "       'responses'],\n",
      "      dtype='object')\n",
      "wrote ./medium_articles/input.parquet\n"
     ]
    }
   ],
   "source": [
    "ls.ingest(\"medium_articles\", df2, \"title\")"
   ]
  },
  {
   "cell_type": "code",
   "execution_count": 12,
   "metadata": {},
   "outputs": [],
   "source": [
    "# %pip install latentscope -U"
   ]
  },
  {
   "cell_type": "code",
   "execution_count": 14,
   "metadata": {},
   "outputs": [
    {
     "name": "stderr",
     "output_type": "stream",
     "text": [
      "/Users/dhruvanand/miniforge3/lib/python3.10/pty.py:89: RuntimeWarning: os.fork() was called. os.fork() is incompatible with multithreaded code, and JAX is multithreaded, so this will likely lead to a deadlock.\n",
      "  pid, fd = os.forkpty()\n"
     ]
    },
    {
     "name": "stdout",
     "output_type": "stream",
     "text": [
      "Name: latentscope\n",
      "Version: 0.1.2\n",
      "Summary: Quickly embed, project, cluster and explore a dataset.\n",
      "Home-page: https://github.com/enjalot/latent-scope\n",
      "Author: \n",
      "Author-email: \n",
      "License: \n",
      "Location: /Users/dhruvanand/miniforge3/lib/python3.10/site-packages\n",
      "Requires: accelerate, aiohttp, aiolimiter, aiosignal, annotated-types, anyio, appnope, argon2-cffi, argon2-cffi-bindings, arrow, asttokens, async-lru, attrs, Babel, backoff, beautifulsoup4, bleach, blinker, certifi, cffi, charset-normalizer, click, cohere, comm, contourpy, cycler, Cython, debugpy, decorator, defusedxml, distro, einops, executing, fastavro, fastjsonschema, filelock, Flask, Flask-Cors, fonttools, fqdn, frozenlist, fsspec, h11, h5py, hdbscan, httpcore, httpx, huggingface-hub, idna, importlib-metadata, ipykernel, ipython, ipywidgets, isoduration, itsdangerous, jedi, Jinja2, joblib, json5, jsonpointer, jsonschema, jsonschema-specifications, jupyter, jupyter-client, jupyter-console, jupyter-core, jupyter-events, jupyter-lsp, jupyter-server, jupyter-server-terminals, jupyterlab, jupyterlab-pygments, jupyterlab-server, jupyterlab-widgets, kiwisolver, llvmlite, MarkupSafe, matplotlib, matplotlib-inline, mistralai, mistune, mpmath, multidict, nbclient, nbconvert, nbformat, nest-asyncio, networkx, notebook, notebook-shim, numba, numpy, openai, opt-einsum, orjson, overrides, packaging, pandas, pandocfilters, parso, pexpect, pillow, platformdirs, prometheus-client, prompt-toolkit, psutil, ptyprocess, pure-eval, pyarrow, pycparser, pydantic, pydantic-core, Pygments, pynndescent, pyparsing, python-dateutil, python-dotenv, python-json-logger, pytz, PyYAML, pyzmq, qtconsole, QtPy, referencing, regex, requests, rfc3339-validator, rfc3986-validator, rpds-py, safetensors, scikit-learn, scipy, Send2Trash, six, sniffio, soupsieve, sseclient-py, stack-data, sympy, tabulate, tenacity, terminado, threadpoolctl, tiktoken, tinycss2, together, tokenizers, torch, tornado, tqdm, traitlets, transformers, typer, types-python-dateutil, typing-extensions, tzdata, umap-learn, uri-template, urllib3, voyageai, wcwidth, webcolors, webencodings, websocket-client, Werkzeug, widgetsnbextension, yarl, zipp\n",
      "Required-by: \n",
      "Note: you may need to restart the kernel to use updated packages.\n"
     ]
    }
   ],
   "source": [
    "%pip show latentscope"
   ]
  },
  {
   "cell_type": "code",
   "execution_count": 15,
   "metadata": {},
   "outputs": [
    {
     "ename": "AttributeError",
     "evalue": "module 'latentscope' has no attribute 'import_embeddings'",
     "output_type": "error",
     "traceback": [
      "\u001b[0;31m---------------------------------------------------------------------------\u001b[0m",
      "\u001b[0;31mAttributeError\u001b[0m                            Traceback (most recent call last)",
      "Cell \u001b[0;32mIn[15], line 1\u001b[0m\n\u001b[0;32m----> 1\u001b[0m \u001b[43mls\u001b[49m\u001b[38;5;241;43m.\u001b[39;49m\u001b[43mimport_embeddings\u001b[49m(\u001b[38;5;124m\"\u001b[39m\u001b[38;5;124mmedium_articles\u001b[39m\u001b[38;5;124m\"\u001b[39m, embeddings, text_column\u001b[38;5;241m=\u001b[39m\u001b[38;5;124m\"\u001b[39m\u001b[38;5;124mtitle\u001b[39m\u001b[38;5;124m\"\u001b[39m, model_id\u001b[38;5;241m=\u001b[39m\u001b[38;5;124m\"\u001b[39m\u001b[38;5;124mopenai-text-embedding-3-small\u001b[39m\u001b[38;5;124m\"\u001b[39m)\n",
      "\u001b[0;31mAttributeError\u001b[0m: module 'latentscope' has no attribute 'import_embeddings'"
     ]
    }
   ],
   "source": [
    "\n",
    "ls.import_embeddings(\"medium_articles\", embeddings, text_column=\"title\", model_id=\"openai-text-embedding-3-small\")"
   ]
  },
  {
   "cell_type": "code",
   "execution_count": null,
   "metadata": {},
   "outputs": [],
   "source": [
    "\n",
    "embeddings2 = df[\"title_vector\"].to_numpy()\n",
    "embeddings2 = np.array([np.array(embedding) for embedding in embeddings2])"
   ]
  },
  {
   "cell_type": "code",
   "execution_count": null,
   "metadata": {},
   "outputs": [],
   "source": [
    "# the model (facebook/dpr-ctx_encoder-single-nq-base) isn't in our supported list yet. \n",
    "# we can still import the embeddings, but we won't be able to use the model for similarity search\n",
    "ls.import_embeddings(\"medium_articles\", embeddings2, text_column=\"title\", model_id=\"\") "
   ]
  },
  {
   "cell_type": "code",
   "execution_count": null,
   "metadata": {},
   "outputs": [],
   "source": []
  }
 ],
 "metadata": {
  "kernelspec": {
   "display_name": "testenv",
   "language": "python",
   "name": "python3"
  },
  "language_info": {
   "codemirror_mode": {
    "name": "ipython",
    "version": 3
   },
   "file_extension": ".py",
   "mimetype": "text/x-python",
   "name": "python",
   "nbconvert_exporter": "python",
   "pygments_lexer": "ipython3",
   "version": "3.10.12"
  }
 },
 "nbformat": 4,
 "nbformat_minor": 2
}
