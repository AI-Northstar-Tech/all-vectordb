{
 "cells": [
  {
   "cell_type": "code",
   "execution_count": 1,
   "metadata": {},
   "outputs": [
    {
     "name": "stderr",
     "output_type": "stream",
     "text": [
      "/Users/dhruvanand/miniforge3/lib/python3.10/site-packages/pinecone/index.py:4: TqdmWarning: IProgress not found. Please update jupyter and ipywidgets. See https://ipywidgets.readthedocs.io/en/stable/user_install.html\n",
      "  from tqdm.autonotebook import tqdm\n"
     ]
    }
   ],
   "source": [
    "import os\n",
    "import pinecone\n",
    "from dotenv import load_dotenv\n",
    "\n",
    "load_dotenv(dotenv_path=\"../.env\")\n",
    "\n",
    "# get api key from app.pinecone.io for .env file\n",
    "lines = open(\"../.env\").read().splitlines()\n",
    "for line in lines:\n",
    "    if line.startswith(\"PINECONE_API_KEY\"):\n",
    "        api_key = line.split(\"=\")[1]\n",
    "        break\n",
    "api_key = api_key or os.environ.get(\"PINECONE_API_KEY\")\n",
    "# find your environment next to the api key in pinecone console\n",
    "env = os.environ.get(\"PINECONE_ENVIRONMENT\") or \"gcp-starter\"\n",
    "\n",
    "pinecone.init(api_key=api_key, environment=env)"
   ]
  },
  {
   "cell_type": "code",
   "execution_count": 2,
   "metadata": {},
   "outputs": [
    {
     "data": {
      "text/plain": [
       "[]"
      ]
     },
     "execution_count": 2,
     "metadata": {},
     "output_type": "execute_result"
    }
   ],
   "source": [
    "# list all indexes\n",
    "indexes = pinecone.list_indexes()\n",
    "indexes"
   ]
  },
  {
   "cell_type": "code",
   "execution_count": 3,
   "metadata": {},
   "outputs": [],
   "source": [
    "# delete an index\n",
    "for index in indexes:\n",
    "    pinecone.delete_index(index.name)"
   ]
  },
  {
   "cell_type": "code",
   "execution_count": 4,
   "metadata": {},
   "outputs": [],
   "source": [
    "# create an index with dimension 100\n",
    "pinecone.create_index(\"test-1\", dimension=100)"
   ]
  },
  {
   "cell_type": "code",
   "execution_count": 5,
   "metadata": {},
   "outputs": [],
   "source": [
    "index = pinecone.Index(\"test-1\")"
   ]
  },
  {
   "cell_type": "code",
   "execution_count": 6,
   "metadata": {},
   "outputs": [
    {
     "name": "stdout",
     "output_type": "stream",
     "text": [
      "Created 20000 vectors\n"
     ]
    },
    {
     "name": "stderr",
     "output_type": "stream",
     "text": [
      "100%|██████████| 20/20 [00:26<00:00,  1.33s/it]\n"
     ]
    }
   ],
   "source": [
    "import numpy as np\n",
    "from tqdm import tqdm\n",
    "\n",
    "batch_size = 1000\n",
    "dim = 100\n",
    "vectors = [\n",
    "    {\n",
    "        \"id\": str(i),\n",
    "        \"values\": np.random.rand(dim).tolist(),\n",
    "        \"metadata\": {\n",
    "            \"a\": \"X\" if np.random.rand(1) > 0.5 else \"Y\",\n",
    "            \"b\": \"X\" if np.random.rand(1) > 0.5 else \"Y\",\n",
    "            \"c\": \"X\" if np.random.rand(1) > 0.5 else \"Y\",\n",
    "            \"d\": \"X\" if np.random.rand(1) > 0.5 else \"Y\",\n",
    "        },\n",
    "    }\n",
    "    for i in range(20_000)\n",
    "]\n",
    "print(f\"Created {len(vectors)} vectors\")\n",
    "successful_count = 0\n",
    "# upsert 20000 random vectors\n",
    "for i in tqdm(range(0, len(vectors), batch_size)):\n",
    "    batch_vectors = vectors[i : i + batch_size]\n",
    "    index.upsert(batch_vectors)"
   ]
  },
  {
   "cell_type": "code",
   "execution_count": 7,
   "metadata": {},
   "outputs": [
    {
     "data": {
      "text/plain": [
       "10000"
      ]
     },
     "execution_count": 7,
     "metadata": {},
     "output_type": "execute_result"
    }
   ],
   "source": [
    "# search for nearest neighbors of a random vector with k=10_000\n",
    "query_vector = np.random.rand(dim).tolist()\n",
    "results = index.query(vector=query_vector, top_k=10_000)\n",
    "len(results[\"matches\"])"
   ]
  },
  {
   "cell_type": "code",
   "execution_count": 8,
   "metadata": {},
   "outputs": [
    {
     "name": "stderr",
     "output_type": "stream",
     "text": [
      "100%|██████████| 10/10 [00:19<00:00,  1.96s/it]\n"
     ]
    }
   ],
   "source": [
    "# mark all results as \"e\": \"X\"\n",
    "for j in tqdm(range(0, len(results[\"matches\"]), batch_size)):\n",
    "    batch_ids = results[\"matches\"][j : j + batch_size]\n",
    "    # fetch all results\n",
    "    data = index.fetch(ids=[i[\"id\"] for i in batch_ids])\n",
    "    batch_vectors = data[\"vectors\"]\n",
    "    upsert_data = []\n",
    "    for id, vector_data in batch_vectors.items():\n",
    "        if \"metadata\" not in vector_data:\n",
    "            vector_data[\"metadata\"] = {}\n",
    "        vector_data[\"metadata\"][\"e\"] = \"X\"\n",
    "        cur_vec = pinecone.Vector(\n",
    "            id=id,\n",
    "            values=vector_data[\"values\"],\n",
    "            metadata=vector_data[\"metadata\"],\n",
    "        )\n",
    "        if vector_data.get(\"sparseValues\"):\n",
    "            cur_vec.sparse_values = vector_data[\"sparseValues\"]\n",
    "        upsert_data.append(cur_vec)\n",
    "    index.upsert(upsert_data)"
   ]
  },
  {
   "cell_type": "code",
   "execution_count": 9,
   "metadata": {},
   "outputs": [
    {
     "data": {
      "text/plain": [
       "7000"
      ]
     },
     "execution_count": 9,
     "metadata": {},
     "output_type": "execute_result"
    }
   ],
   "source": [
    "# search for nearest neighbors of a random vector with k=10_000 and filter by metadata $ne: {\"e\": \"X\"}\n",
    "query_vector = np.random.rand(dim).tolist()\n",
    "results2 = index.query(vector=query_vector, top_k=10_000, filter={\"e\": {\"$eq\": \"X\"}})\n",
    "len(results2[\"matches\"])"
   ]
  }
 ],
 "metadata": {
  "kernelspec": {
   "display_name": "base",
   "language": "python",
   "name": "python3"
  },
  "language_info": {
   "codemirror_mode": {
    "name": "ipython",
    "version": 3
   },
   "file_extension": ".py",
   "mimetype": "text/x-python",
   "name": "python",
   "nbconvert_exporter": "python",
   "pygments_lexer": "ipython3",
   "version": "3.10.12"
  }
 },
 "nbformat": 4,
 "nbformat_minor": 2
}
