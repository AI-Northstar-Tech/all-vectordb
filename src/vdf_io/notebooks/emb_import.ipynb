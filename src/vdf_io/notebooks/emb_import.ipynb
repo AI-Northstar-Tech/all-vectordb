{
 "cells": [
  {
   "cell_type": "code",
   "execution_count": 4,
   "metadata": {},
   "outputs": [
    {
     "data": {
      "text/html": [
       "<div>\n",
       "<style scoped>\n",
       "    .dataframe tbody tr th:only-of-type {\n",
       "        vertical-align: middle;\n",
       "    }\n",
       "\n",
       "    .dataframe tbody tr th {\n",
       "        vertical-align: top;\n",
       "    }\n",
       "\n",
       "    .dataframe thead th {\n",
       "        text-align: right;\n",
       "    }\n",
       "</style>\n",
       "<table border=\"1\" class=\"dataframe\">\n",
       "  <thead>\n",
       "    <tr style=\"text-align: right;\">\n",
       "      <th></th>\n",
       "      <th>proverb</th>\n",
       "      <th>meaning</th>\n",
       "      <th>embedding</th>\n",
       "    </tr>\n",
       "  </thead>\n",
       "  <tbody>\n",
       "    <tr>\n",
       "      <th>0</th>\n",
       "      <td>가갸 뒤 자〔뒷다리〕도 모른다</td>\n",
       "      <td>글자를 모르는 사람을 비유적으로 이르는 말.,사리에 어두운 사람을 놀림조로 이르는 말.</td>\n",
       "      <td>[0.005334234796464443, -0.014505433849990368, ...</td>\n",
       "    </tr>\n",
       "    <tr>\n",
       "      <th>1</th>\n",
       "      <td>가까운 남이 먼 일가보다 낫다</td>\n",
       "      <td>이웃끼리 서로 친하게 지내다 보면 먼 곳에 있는 일가보다 더 친하게 되어 서로 도우...</td>\n",
       "      <td>[-0.007843011058866978, -0.018381033092737198,...</td>\n",
       "    </tr>\n",
       "    <tr>\n",
       "      <th>2</th>\n",
       "      <td>가까운 데 집은 깎이고 먼 데 절은 비친다</td>\n",
       "      <td>가까운 데 있는 절이나 집은 자잘한 흠도 잘 드러나서 좋지 않아 보이고 먼 곳에 윤...</td>\n",
       "      <td>[-0.0012391135096549988, -0.012439466081559658...</td>\n",
       "    </tr>\n",
       "    <tr>\n",
       "      <th>3</th>\n",
       "      <td>가까운 무당보다 먼 데 무당이 영하다</td>\n",
       "      <td>흔히 사람은 자신이 잘 알고 가까이 있는 것보다는 잘 모르고 멀리 있는 것을 더 좋...</td>\n",
       "      <td>[0.012985464185476303, -0.0004005177761428058,...</td>\n",
       "    </tr>\n",
       "    <tr>\n",
       "      <th>4</th>\n",
       "      <td>가까운 집 며느리일수록 흉이 많다</td>\n",
       "      <td>늘 가까이 있고 잘 아는 사이일수록 상대편의 결점이 눈에 더 많이 띈다는 말.</td>\n",
       "      <td>[-0.0019731209613382816, -0.02421422116458416,...</td>\n",
       "    </tr>\n",
       "    <tr>\n",
       "      <th>...</th>\n",
       "      <td>...</td>\n",
       "      <td>...</td>\n",
       "      <td>...</td>\n",
       "    </tr>\n",
       "    <tr>\n",
       "      <th>4475</th>\n",
       "      <td>힘 모르고 강가 씨름 갈까</td>\n",
       "      <td>자기 힘을 스스로 알아야 한다는 말.</td>\n",
       "      <td>[-0.0008280572947114706, -0.004768578801304102...</td>\n",
       "    </tr>\n",
       "    <tr>\n",
       "      <th>4476</th>\n",
       "      <td>힘과 마음을 합치면 하늘을 이긴다</td>\n",
       "      <td>여러 사람이 힘을 모으면 못 할 일이 없다는 말.</td>\n",
       "      <td>[-0.016299309208989143, -0.028758998960256577,...</td>\n",
       "    </tr>\n",
       "    <tr>\n",
       "      <th>4477</th>\n",
       "      <td>힘센 소가 왕 노릇 할까</td>\n",
       "      <td>소가 아무리 크고 힘이 세다 할지라도 왕 노릇은 할 수 없다는 뜻으로, 힘만 가지고...</td>\n",
       "      <td>[0.0032048693392425776, -0.019101480022072792,...</td>\n",
       "    </tr>\n",
       "    <tr>\n",
       "      <th>4478</th>\n",
       "      <td>힘써 보고 꾀써 보니 꾀써 본 게 낫더라</td>\n",
       "      <td>‘힘쓰기보다 꾀쓰기가 낫다’의 북한 속담.</td>\n",
       "      <td>[-0.021059442311525345, -0.0078013441525399685...</td>\n",
       "    </tr>\n",
       "    <tr>\n",
       "      <th>4479</th>\n",
       "      <td>힘장수가 꾀장수를 못 당한다</td>\n",
       "      <td>덮어놓고 미욱하게 뚝심을 쓰는 것보다 실정에 맞추어서 요령 있게 꾀를 쓰는 것이 더...</td>\n",
       "      <td>[-0.02626919373869896, -0.008652101270854473, ...</td>\n",
       "    </tr>\n",
       "  </tbody>\n",
       "</table>\n",
       "<p>4480 rows × 3 columns</p>\n",
       "</div>"
      ],
      "text/plain": [
       "                      proverb  \\\n",
       "0            가갸 뒤 자〔뒷다리〕도 모른다   \n",
       "1            가까운 남이 먼 일가보다 낫다   \n",
       "2     가까운 데 집은 깎이고 먼 데 절은 비친다   \n",
       "3        가까운 무당보다 먼 데 무당이 영하다   \n",
       "4          가까운 집 며느리일수록 흉이 많다   \n",
       "...                       ...   \n",
       "4475           힘 모르고 강가 씨름 갈까   \n",
       "4476       힘과 마음을 합치면 하늘을 이긴다   \n",
       "4477            힘센 소가 왕 노릇 할까   \n",
       "4478   힘써 보고 꾀써 보니 꾀써 본 게 낫더라   \n",
       "4479          힘장수가 꾀장수를 못 당한다   \n",
       "\n",
       "                                                meaning  \\\n",
       "0      글자를 모르는 사람을 비유적으로 이르는 말.,사리에 어두운 사람을 놀림조로 이르는 말.   \n",
       "1     이웃끼리 서로 친하게 지내다 보면 먼 곳에 있는 일가보다 더 친하게 되어 서로 도우...   \n",
       "2     가까운 데 있는 절이나 집은 자잘한 흠도 잘 드러나서 좋지 않아 보이고 먼 곳에 윤...   \n",
       "3     흔히 사람은 자신이 잘 알고 가까이 있는 것보다는 잘 모르고 멀리 있는 것을 더 좋...   \n",
       "4           늘 가까이 있고 잘 아는 사이일수록 상대편의 결점이 눈에 더 많이 띈다는 말.   \n",
       "...                                                 ...   \n",
       "4475                               자기 힘을 스스로 알아야 한다는 말.   \n",
       "4476                        여러 사람이 힘을 모으면 못 할 일이 없다는 말.   \n",
       "4477  소가 아무리 크고 힘이 세다 할지라도 왕 노릇은 할 수 없다는 뜻으로, 힘만 가지고...   \n",
       "4478                            ‘힘쓰기보다 꾀쓰기가 낫다’의 북한 속담.   \n",
       "4479  덮어놓고 미욱하게 뚝심을 쓰는 것보다 실정에 맞추어서 요령 있게 꾀를 쓰는 것이 더...   \n",
       "\n",
       "                                              embedding  \n",
       "0     [0.005334234796464443, -0.014505433849990368, ...  \n",
       "1     [-0.007843011058866978, -0.018381033092737198,...  \n",
       "2     [-0.0012391135096549988, -0.012439466081559658...  \n",
       "3     [0.012985464185476303, -0.0004005177761428058,...  \n",
       "4     [-0.0019731209613382816, -0.02421422116458416,...  \n",
       "...                                                 ...  \n",
       "4475  [-0.0008280572947114706, -0.004768578801304102...  \n",
       "4476  [-0.016299309208989143, -0.028758998960256577,...  \n",
       "4477  [0.0032048693392425776, -0.019101480022072792,...  \n",
       "4478  [-0.021059442311525345, -0.0078013441525399685...  \n",
       "4479  [-0.02626919373869896, -0.008652101270854473, ...  \n",
       "\n",
       "[4480 rows x 3 columns]"
      ]
     },
     "execution_count": 4,
     "metadata": {},
     "output_type": "execute_result"
    }
   ],
   "source": [
    "# read korean_proverbs_embs/kor_proverbs.pkl\n",
    "import pandas as pd\n",
    "\n",
    "file_path = \"~/Downloads/aint/llm/korean_proverbs_embs/\"\n",
    "kor_proverbs = pd.read_pickle(f\"{file_path}korean_proverbs_embs/kor_proverbs.pkl\")\n",
    "kor_proverbs"
   ]
  },
  {
   "cell_type": "code",
   "execution_count": 5,
   "metadata": {},
   "outputs": [],
   "source": [
    "df_direct = kor_proverbs[[\"embedding\"]]\n",
    "df_direct.to_parquet(f\"{file_path}korean_proverbs_embs/kor_proverbs_direct.parquet\")\n",
    "# print metadata of parquet file"
   ]
  },
  {
   "cell_type": "code",
   "execution_count": 7,
   "metadata": {},
   "outputs": [
    {
     "data": {
      "text/plain": [
       "1536"
      ]
     },
     "execution_count": 7,
     "metadata": {},
     "output_type": "execute_result"
    }
   ],
   "source": [
    "len(kor_proverbs[\"embedding\"].iloc[0])"
   ]
  },
  {
   "cell_type": "code",
   "execution_count": null,
   "metadata": {},
   "outputs": [],
   "source": []
  }
 ],
 "metadata": {
  "kernelspec": {
   "display_name": "base",
   "language": "python",
   "name": "python3"
  },
  "language_info": {
   "codemirror_mode": {
    "name": "ipython",
    "version": 3
   },
   "file_extension": ".py",
   "mimetype": "text/x-python",
   "name": "python",
   "nbconvert_exporter": "python",
   "pygments_lexer": "ipython3",
   "version": "3.9.13"
  },
  "orig_nbformat": 4
 },
 "nbformat": 4,
 "nbformat_minor": 2
}
