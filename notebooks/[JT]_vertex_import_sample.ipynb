{
 "cells": [
  {
   "cell_type": "markdown",
   "id": "0309530d-3358-447c-ade5-a110dec39148",
   "metadata": {},
   "source": [
    "# Testing import class for Vertex AI Vector Search"
   ]
  },
  {
   "cell_type": "code",
   "execution_count": 1,
   "id": "8907184b-229f-4125-a1c5-f3725d95a55c",
   "metadata": {
    "tags": []
   },
   "outputs": [
    {
     "data": {
      "text/plain": [
       "'/home/jupyter/vector-io'"
      ]
     },
     "execution_count": 1,
     "metadata": {},
     "output_type": "execute_result"
    }
   ],
   "source": [
    "import os\n",
    "\n",
    "root_path = '..'\n",
    "os.chdir(root_path)\n",
    "os.getcwd()"
   ]
  },
  {
   "cell_type": "code",
   "execution_count": 2,
   "id": "97c951cd-f693-4722-adea-9b9ba58ecab6",
   "metadata": {
    "tags": []
   },
   "outputs": [
    {
     "name": "stdout",
     "output_type": "stream",
     "text": [
      "/home/jupyter/vector-io\n"
     ]
    }
   ],
   "source": [
    "!pwd"
   ]
  },
  {
   "cell_type": "code",
   "execution_count": 3,
   "id": "ee5def52-1bd5-4b84-8c37-b765a9f5e071",
   "metadata": {
    "tags": []
   },
   "outputs": [
    {
     "name": "stdout",
     "output_type": "stream",
     "text": [
      "PREFIX = vvs-vectorio-pubv3\n"
     ]
    }
   ],
   "source": [
    "# naming convention for all cloud resources\n",
    "VERSION        = \"pubv3\"                     # TODO\n",
    "PREFIX         = f'vvs-vectorio-{VERSION}'   # TODO\n",
    "\n",
    "print(f\"PREFIX = {PREFIX}\")"
   ]
  },
  {
   "cell_type": "markdown",
   "id": "6961c375-5d91-4fbf-8dc9-ed82c6fa4e0f",
   "metadata": {},
   "source": [
    "## Load notebook config"
   ]
  },
  {
   "cell_type": "code",
   "execution_count": 4,
   "id": "b48cb465-ab53-46d5-a0df-1482ed2ccb87",
   "metadata": {
    "tags": []
   },
   "outputs": [
    {
     "name": "stdout",
     "output_type": "stream",
     "text": [
      "\n",
      "PREFIX                   = \"vvs-vectorio-pubv3\"\n",
      "VERSION                  = \"pubv3\"\n",
      "\n",
      "PROJECT_ID               = \"hybrid-vertex\"\n",
      "PROJECT_NUM              = \"934903580331\"\n",
      "\n",
      "REGION                   = \"us-central1\"\n",
      "BQ_REGION                = \"US\"\n",
      "\n",
      "VERTEX_SA                = \"934903580331-compute@developer.gserviceaccount.com\"\n",
      "\n",
      "VPC_NETWORK_NAME         = \"\"\n",
      "VPC_NETWORK_FULL         = \"None\"\n",
      "\n",
      "USE_PUBLIC_ENDPOINTS     = \"True\"\n",
      "\n",
      "BUCKET_NAME              = \"vvs-vectorio-pubv3-hybrid-vertex\"\n",
      "BUCKET_URI               = \"gs://vvs-vectorio-pubv3-hybrid-vertex\"\n",
      "\n",
      "REMOTE_GCS_FOLDER        = \"gs://vvs-vectorio-pubv3-hybrid-vertex/vvs-vectorio-pubv3/embedding_indexes/tmpig2laxe1/\"\n",
      "\n",
      "SO_PARQUET_GCS_DIR       = \"gs://vvs-vectorio-pubv3-hybrid-vertex/emb_vector_parquet/so_0_1000_200/tmpnb32rkne/\"\n",
      "\n",
      "LOCAL_TEST_DIR           = \"data/stack_overflow_parquet\"\n",
      "LOCAL_TEST_DATA_DIR      = \"data/stack_overflow_parquet/files\"\n",
      "\n",
      "DIMENSIONS               = \"768\"\n",
      "\n",
      "INDEX_DISPLAY_NAME       = \"soverflow_vvs_vectorio_pubv3\"\n",
      "INDEX_RESOURCE_NAME      = \"projects/934903580331/locations/us-central1/indexes/1081325705452584960\"\n",
      "MY_INDEX_ID              = \"1081325705452584960\"\n",
      "\n",
      "ENDPOINT_DISPLAY_NAME    = \"soverflow_vvs_vectorio_pubv3_endpoint\"\n",
      "ENDPOINT_RESOURCE_NAME   = \"projects/934903580331/locations/us-central1/indexEndpoints/5739455095037231104\"\n",
      "MY_INDEX_ENDPOINT_ID     = \"5739455095037231104\"\n",
      "\n",
      "DEPLOYED_INDEX_ID        = \"soverflow_vvs_vectorio_pubv3_20240130131739\"\n",
      "\n",
      "PUBLIC_ENDPOINT_URL      = \"139422526.us-central1-934903580331.vdb.vertexai.goog\"\n",
      "\n",
      "LOCAL_PARQUEST_FILE_LIST = \"data/stack_overflow_parquet/files/so_tmpig2laxe1_1.parquet|data/stack_overflow_parquet/files/so_tmpig2laxe1_2.parquet|data/stack_overflow_parquet/files/so_tmpig2laxe1_4.parquet|data/stack_overflow_parquet/files/so_tmpig2laxe1_0.parquet|data/stack_overflow_parquet/files/so_tmpig2laxe1_3.parquet\"\n",
      "\n"
     ]
    }
   ],
   "source": [
    "# staging GCS\n",
    "GCP_PROJECTS             = !gcloud config get-value project\n",
    "PROJECT_ID               = GCP_PROJECTS[0]\n",
    "\n",
    "# GCS bucket and paths\n",
    "BUCKET_NAME              = f'{PREFIX}-{PROJECT_ID}'\n",
    "BUCKET_URI               = f'gs://{BUCKET_NAME}'\n",
    "\n",
    "config = !gsutil cat {BUCKET_URI}/config/notebook_env.py\n",
    "print(config.n)\n",
    "exec(config.n)"
   ]
  },
  {
   "cell_type": "code",
   "execution_count": 5,
   "id": "5db6b85a-42bb-452c-b289-3067057670a8",
   "metadata": {
    "tags": []
   },
   "outputs": [],
   "source": [
    "# LOCAL_PARQUEST_FILE_LIST = LOCAL_PARQUEST_FILE_LIST.split(\"|\")\n",
    "# LOCAL_PARQUEST_FILE_LIST"
   ]
  },
  {
   "cell_type": "code",
   "execution_count": 6,
   "id": "14016903-3b24-4352-a9af-f5f45c3f9ec2",
   "metadata": {
    "tags": []
   },
   "outputs": [
    {
     "data": {
      "text/plain": [
       "['data/stack_overflow_parquet_v2/files/so_tmp3328v78o_1500.parquet',\n",
       " 'data/stack_overflow_parquet_v2/files/so_tmp3328v78o_1501.parquet',\n",
       " 'data/stack_overflow_parquet_v2/files/so_tmp3328v78o_1503.parquet',\n",
       " 'data/stack_overflow_parquet_v2/files/so_tmp3328v78o_1502.parquet',\n",
       " 'data/stack_overflow_parquet_v2/files/so_tmp3328v78o_1504.parquet']"
      ]
     },
     "execution_count": 6,
     "metadata": {},
     "output_type": "execute_result"
    }
   ],
   "source": [
    "# tmp\n",
    "LOCAL_PARQUEST_FILE_LIST = [\n",
    "    'data/stack_overflow_parquet_v2/files/so_tmp3328v78o_1500.parquet',\n",
    "    'data/stack_overflow_parquet_v2/files/so_tmp3328v78o_1501.parquet',\n",
    "    'data/stack_overflow_parquet_v2/files/so_tmp3328v78o_1503.parquet',\n",
    "    'data/stack_overflow_parquet_v2/files/so_tmp3328v78o_1502.parquet',\n",
    "    'data/stack_overflow_parquet_v2/files/so_tmp3328v78o_1504.parquet'\n",
    "]\n",
    "LOCAL_PARQUEST_FILE_LIST"
   ]
  },
  {
   "cell_type": "code",
   "execution_count": 7,
   "id": "8fdc9f78-0d88-4852-aadc-995de596aef9",
   "metadata": {
    "tags": []
   },
   "outputs": [],
   "source": [
    "LOCAL_TEST_DIR = 'data/stack_overflow_parquet_v2'\n",
    "LOCAL_TEST_DATA_DIR = 'data/stack_overflow_parquet_v2/files'"
   ]
  },
  {
   "cell_type": "markdown",
   "id": "4fa1ad36-d591-4fc5-9807-fbf8b3b41fd2",
   "metadata": {},
   "source": [
    "## Imports"
   ]
  },
  {
   "cell_type": "code",
   "execution_count": 8,
   "id": "734aa30c-31fb-456a-bb40-5d85b1e2eac1",
   "metadata": {
    "tags": []
   },
   "outputs": [
    {
     "name": "stdout",
     "output_type": "stream",
     "text": [
      "BigQuery SDK version      : 3.15.0\n",
      "Vertex AI SDK version     : 1.39.0\n",
      "Cloud Storage SDK version : 2.14.0\n"
     ]
    }
   ],
   "source": [
    "import pandas as pd\n",
    "import numpy as np\n",
    "import itertools\n",
    "import time \n",
    "import json\n",
    "import uuid\n",
    "\n",
    "from pprint import pprint\n",
    "\n",
    "from google.cloud import aiplatform as aip\n",
    "from google.cloud import storage\n",
    "from google.cloud import bigquery\n",
    "\n",
    "# logging\n",
    "import logging\n",
    "logging.disable(logging.WARNING)\n",
    "\n",
    "#python warning \n",
    "import warnings\n",
    "warnings.filterwarnings(\"ignore\")\n",
    "\n",
    "print(f'BigQuery SDK version      : {bigquery.__version__}')\n",
    "print(f'Vertex AI SDK version     : {aip.__version__}')\n",
    "print(f'Cloud Storage SDK version : {storage.__version__}')"
   ]
  },
  {
   "cell_type": "markdown",
   "id": "9002756a-ba05-4b3a-a25d-0a066da9bfba",
   "metadata": {},
   "source": [
    "### init Google Cloud SDK clients"
   ]
  },
  {
   "cell_type": "code",
   "execution_count": 9,
   "id": "edadf322-eabc-49f9-92ae-007019d41fcc",
   "metadata": {
    "tags": []
   },
   "outputs": [],
   "source": [
    "# cloud storage client\n",
    "storage_client = storage.Client(project=PROJECT_ID)\n",
    "\n",
    "# Vertex client\n",
    "aip.init(project=PROJECT_ID, location=REGION)"
   ]
  },
  {
   "cell_type": "markdown",
   "id": "014a428a-3ca6-4f14-ac0d-2315abfffcf6",
   "metadata": {},
   "source": [
    "### Vertex AI Vector Search Import class"
   ]
  },
  {
   "cell_type": "code",
   "execution_count": 10,
   "id": "5f8e34c7-2ead-4d8b-9740-70ae3d9b3229",
   "metadata": {
    "tags": []
   },
   "outputs": [],
   "source": [
    "import sys\n",
    "import os\n",
    "\n",
    "# sys.path.append(\"..\")\n",
    "from src.import_vdf.vertexai_vector_search_import import ImportVertexAIVectorSearch\n",
    "from src.names import DBNames"
   ]
  },
  {
   "cell_type": "markdown",
   "id": "38ccfce7-e5fd-4a65-baa5-3c3763400d12",
   "metadata": {},
   "source": [
    "## Get test data"
   ]
  },
  {
   "cell_type": "code",
   "execution_count": 11,
   "id": "47002977-789c-477b-b402-080ac770eb98",
   "metadata": {
    "tags": []
   },
   "outputs": [
    {
     "name": "stdout",
     "output_type": "stream",
     "text": [
      "\u001b[01;34mnotebooks/data\u001b[00m\n",
      "├── \u001b[01;34m1500_2000_100\u001b[00m\n",
      "│   ├── VDF_META.json\n",
      "│   └── \u001b[01;34mtmpqxi_pbxv\u001b[00m\n",
      "│       ├── tmpmee85mkz_1501.parquet\n",
      "│       ├── tmpmee85mkz_1502.parquet\n",
      "│       ├── tmpmee85mkz_1503.parquet\n",
      "│       └── tmpmee85mkz_1504.parquet\n",
      "├── \u001b[01;34mold_jt\u001b[00m\n",
      "│   └── so_1500_2000_100.parquet\n",
      "├── \u001b[01;34mstack_overflow_parquet\u001b[00m\n",
      "│   ├── VDF_META.json\n",
      "│   └── \u001b[01;34mfiles\u001b[00m\n",
      "│       ├── so_tmpig2laxe1_0.parquet\n",
      "│       ├── so_tmpig2laxe1_1.parquet\n",
      "│       ├── so_tmpig2laxe1_2.parquet\n",
      "│       ├── so_tmpig2laxe1_3.parquet\n",
      "│       └── so_tmpig2laxe1_4.parquet\n",
      "└── \u001b[01;34mstack_overflow_parquet_v2\u001b[00m\n",
      "    ├── VDF_META.json\n",
      "    └── \u001b[01;34mfiles\u001b[00m\n",
      "        ├── so_tmp3328v78o_1500.parquet\n",
      "        ├── so_tmp3328v78o_1501.parquet\n",
      "        ├── so_tmp3328v78o_1502.parquet\n",
      "        ├── so_tmp3328v78o_1503.parquet\n",
      "        └── so_tmp3328v78o_1504.parquet\n",
      "\n",
      "7 directories, 18 files\n"
     ]
    }
   ],
   "source": [
    "!tree notebooks/data"
   ]
  },
  {
   "cell_type": "code",
   "execution_count": 12,
   "id": "bcd95b8a-7d1f-495e-a5ab-4a86d2acd9e5",
   "metadata": {
    "tags": []
   },
   "outputs": [
    {
     "name": "stdout",
     "output_type": "stream",
     "text": [
      "TEST_VDF_META : notebooks/data/stack_overflow_parquet_v2/VDF_META.json\n",
      "DIMENSIONS    : 768\n",
      "VDF_VERSION   : v1\n",
      "TIMESTAMP_vdf : 20240130-184949\n",
      "\n"
     ]
    },
    {
     "data": {
      "text/plain": [
       "['notebooks/data/stack_overflow_parquet_v2/VDF_META.json',\n",
       " 'notebooks/data/stack_overflow_parquet_v2/files/so_tmp3328v78o_1500.parquet',\n",
       " 'notebooks/data/stack_overflow_parquet_v2/files/so_tmp3328v78o_1501.parquet',\n",
       " 'notebooks/data/stack_overflow_parquet_v2/files/so_tmp3328v78o_1503.parquet',\n",
       " 'notebooks/data/stack_overflow_parquet_v2/files/so_tmp3328v78o_1502.parquet',\n",
       " 'notebooks/data/stack_overflow_parquet_v2/files/so_tmp3328v78o_1504.parquet']"
      ]
     },
     "execution_count": 12,
     "metadata": {},
     "output_type": "execute_result"
    }
   ],
   "source": [
    "# LOCAL_TEST_DIR            # 'data/stack_overflow_parquet'\n",
    "# LOCAL_TEST_DATA_DIR       # 'data/stack_overflow_parquet/files'\n",
    "\n",
    "# local vdf json file\n",
    "TEST_VDF_META = f\"notebooks/{LOCAL_TEST_DIR}/VDF_META.json\"\n",
    "\n",
    "VDF_VERSION = \"v1\"\n",
    "TIMESTAMP_vdf = time.strftime(\"%Y%m%d-%H%M%S\")\n",
    "\n",
    "print(f\"TEST_VDF_META : {TEST_VDF_META}\")\n",
    "print(f\"DIMENSIONS    : {DIMENSIONS}\")\n",
    "print(f\"VDF_VERSION   : {VDF_VERSION}\")\n",
    "print(f\"TIMESTAMP_vdf : {TIMESTAMP_vdf}\\n\")\n",
    "\n",
    "FILE_STRUCTURE_V1 = []\n",
    "FILE_STRUCTURE_V1.append(f\"{TEST_VDF_META}\")\n",
    "for element in LOCAL_PARQUEST_FILE_LIST:\n",
    "    FILE_STRUCTURE_V1.append(f\"notebooks/{element}\")\n",
    "\n",
    "FILE_STRUCTURE_V1"
   ]
  },
  {
   "cell_type": "code",
   "execution_count": 13,
   "id": "0258a956-809e-479e-8f0a-a11f4cb6c7ef",
   "metadata": {
    "tags": []
   },
   "outputs": [
    {
     "name": "stdout",
     "output_type": "stream",
     "text": [
      "(100, 5)\n"
     ]
    },
    {
     "data": {
      "text/html": [
       "<div>\n",
       "<style scoped>\n",
       "    .dataframe tbody tr th:only-of-type {\n",
       "        vertical-align: middle;\n",
       "    }\n",
       "\n",
       "    .dataframe tbody tr th {\n",
       "        vertical-align: top;\n",
       "    }\n",
       "\n",
       "    .dataframe thead th {\n",
       "        text-align: right;\n",
       "    }\n",
       "</style>\n",
       "<table border=\"1\" class=\"dataframe\">\n",
       "  <thead>\n",
       "    <tr style=\"text-align: right;\">\n",
       "      <th></th>\n",
       "      <th>id</th>\n",
       "      <th>embedding</th>\n",
       "      <th>tag</th>\n",
       "      <th>score</th>\n",
       "      <th>crowding_tag</th>\n",
       "    </tr>\n",
       "  </thead>\n",
       "  <tbody>\n",
       "    <tr>\n",
       "      <th>0</th>\n",
       "      <td>1869123</td>\n",
       "      <td>[0.004282408859580755, -0.01166266854852438, 0...</td>\n",
       "      <td>wpf</td>\n",
       "      <td>2</td>\n",
       "      <td>frameworkelement</td>\n",
       "    </tr>\n",
       "    <tr>\n",
       "      <th>1</th>\n",
       "      <td>1948390</td>\n",
       "      <td>[0.040322981774806976, 0.007929936982691288, 0...</td>\n",
       "      <td>windows-7</td>\n",
       "      <td>2</td>\n",
       "      <td>restriction</td>\n",
       "    </tr>\n",
       "    <tr>\n",
       "      <th>2</th>\n",
       "      <td>1953791</td>\n",
       "      <td>[0.004021648317575455, -0.019918881356716156, ...</td>\n",
       "      <td>sql</td>\n",
       "      <td>2</td>\n",
       "      <td>full-text-search</td>\n",
       "    </tr>\n",
       "  </tbody>\n",
       "</table>\n",
       "</div>"
      ],
      "text/plain": [
       "        id                                          embedding        tag  \\\n",
       "0  1869123  [0.004282408859580755, -0.01166266854852438, 0...        wpf   \n",
       "1  1948390  [0.040322981774806976, 0.007929936982691288, 0...  windows-7   \n",
       "2  1953791  [0.004021648317575455, -0.019918881356716156, ...        sql   \n",
       "\n",
       "   score      crowding_tag  \n",
       "0      2  frameworkelement  \n",
       "1      2       restriction  \n",
       "2      2  full-text-search  "
      ]
     },
     "execution_count": 13,
     "metadata": {},
     "output_type": "execute_result"
    }
   ],
   "source": [
    "# validate parquet files\n",
    "df_from_pq = pd.read_parquet(FILE_STRUCTURE_V1[1])\n",
    "\n",
    "print(df_from_pq.shape)\n",
    "df_from_pq.head(3)"
   ]
  },
  {
   "cell_type": "markdown",
   "id": "7121a4eb-a452-4eab-ae0c-522f03d04b75",
   "metadata": {},
   "source": [
    "### Create VDF Metadata json"
   ]
  },
  {
   "cell_type": "code",
   "execution_count": 14,
   "id": "746f1816-575e-4d63-a32e-89da8932c51c",
   "metadata": {
    "tags": []
   },
   "outputs": [
    {
     "data": {
      "text/plain": [
       "{'name': 'projects/934903580331/locations/us-central1/indexes/1081325705452584960',\n",
       " 'displayName': 'soverflow_vvs_vectorio_pubv3',\n",
       " 'description': 'sample index for vectorio demo',\n",
       " 'metadataSchemaUri': 'gs://google-cloud-aiplatform/schema/matchingengine/metadata/nearest_neighbor_search_1.0.0.yaml',\n",
       " 'metadata': {'config': {'dimensions': 768.0,\n",
       "   'approximateNeighborsCount': 150.0,\n",
       "   'distanceMeasureType': 'DOT_PRODUCT_DISTANCE',\n",
       "   'algorithmConfig': {'treeAhConfig': {'leafNodeEmbeddingCount': '500',\n",
       "     'leafNodesToSearchPercent': 80.0}},\n",
       "   'shardSize': 'SHARD_SIZE_MEDIUM'}},\n",
       " 'deployedIndexes': [{'indexEndpoint': 'projects/934903580331/locations/us-central1/indexEndpoints/5739455095037231104',\n",
       "   'deployedIndexId': 'soverflow_vvs_vectorio_pubv3_20240130131739'}],\n",
       " 'etag': 'AMEw9yPF_gXj1ARAX6KLL8qg3_KloDJxKCnjr3Gi65A7038lkqZWOz2jV-WEcFrTCc0=',\n",
       " 'createTime': '2024-01-30T13:26:08.725251Z',\n",
       " 'updateTime': '2024-01-30T13:26:17.176312Z',\n",
       " 'indexStats': {'vectorsCount': '1', 'shardsCount': 1},\n",
       " 'indexUpdateMethod': 'STREAM_UPDATE',\n",
       " 'encryptionSpec': {}}"
      ]
     },
     "execution_count": 14,
     "metadata": {},
     "output_type": "execute_result"
    }
   ],
   "source": [
    "target_vs_index = aip.MatchingEngineIndex(INDEX_RESOURCE_NAME)\n",
    "target_vs_index.to_dict()"
   ]
  },
  {
   "cell_type": "code",
   "execution_count": 15,
   "id": "2edd9e68-d13c-477b-ba05-b3068b6f19fa",
   "metadata": {
    "tags": []
   },
   "outputs": [
    {
     "name": "stdout",
     "output_type": "stream",
     "text": [
      "{'author': 'jordantotten',\n",
      " 'exported_at': '20240130-184949',\n",
      " 'exported_from': 'vertex',\n",
      " 'file_structure': ['notebooks/data/stack_overflow_parquet_v2/VDF_META.json',\n",
      "                    'notebooks/data/stack_overflow_parquet_v2/files/so_tmp3328v78o_1500.parquet',\n",
      "                    'notebooks/data/stack_overflow_parquet_v2/files/so_tmp3328v78o_1501.parquet',\n",
      "                    'notebooks/data/stack_overflow_parquet_v2/files/so_tmp3328v78o_1503.parquet',\n",
      "                    'notebooks/data/stack_overflow_parquet_v2/files/so_tmp3328v78o_1502.parquet',\n",
      "                    'notebooks/data/stack_overflow_parquet_v2/files/so_tmp3328v78o_1504.parquet'],\n",
      " 'indexes': {'test_so_index': [{'data_path': 'notebooks/data/stack_overflow_parquet_v2/files',\n",
      "                                'dimensions': '768',\n",
      "                                'exported_vector_count': 1000,\n",
      "                                'metric': 'Dot',\n",
      "                                'model_name': 'textembedding-gecko@001',\n",
      "                                'namespace': 'so_questions',\n",
      "                                'total_vector_count': 1000,\n",
      "                                'vector_columns': ['embedding']}]},\n",
      " 'version': 'v1'}\n"
     ]
    }
   ],
   "source": [
    "my_vdf = {\n",
    "    \"author\": \"jordantotten\",\n",
    "    \"exported_from\": \"vertex\",\n",
    "    \"file_structure\": FILE_STRUCTURE_V1,\n",
    "    \"version\": VDF_VERSION,\n",
    "    \"exported_at\": TIMESTAMP_vdf,\n",
    "    \"indexes\": {\n",
    "            \"test_so_index\": [\n",
    "                {\n",
    "                    \"data_path\": f\"notebooks/{LOCAL_TEST_DATA_DIR}\",\n",
    "                    \"dimensions\": DIMENSIONS,\n",
    "                    \"exported_vector_count\": 1000,\n",
    "                    \"metric\": \"Dot\",\n",
    "                    \"model_name\": \"textembedding-gecko@001\",\n",
    "                    \"namespace\": \"so_questions\",\n",
    "                    \"total_vector_count\": 1000,\n",
    "                    \"vector_columns\": [\"embedding\"]\n",
    "                }\n",
    "            ]\n",
    "    }\n",
    "}\n",
    "pprint(my_vdf)"
   ]
  },
  {
   "cell_type": "markdown",
   "id": "4887557c-2143-4f89-b8d9-fcc67cbab6d9",
   "metadata": {},
   "source": [
    "*Write local VDF metadata json file*"
   ]
  },
  {
   "cell_type": "code",
   "execution_count": 16,
   "id": "4f4c8985-0357-40ab-b4ab-43de8b3fbe25",
   "metadata": {
    "tags": []
   },
   "outputs": [],
   "source": [
    "with open(f\"{TEST_VDF_META}\", 'w') as fp:\n",
    "    json.dump(my_vdf, fp)"
   ]
  },
  {
   "cell_type": "markdown",
   "id": "4216b107-301c-4123-9b98-886d007fa70c",
   "metadata": {},
   "source": [
    "*Validate json file*"
   ]
  },
  {
   "cell_type": "code",
   "execution_count": 17,
   "id": "a30beed4-5a92-4e76-9d30-812a7ea46e99",
   "metadata": {
    "tags": []
   },
   "outputs": [
    {
     "name": "stdout",
     "output_type": "stream",
     "text": [
      "{'author': 'jordantotten',\n",
      " 'exported_at': '20240130-184949',\n",
      " 'exported_from': 'vertex',\n",
      " 'file_structure': ['notebooks/data/stack_overflow_parquet_v2/VDF_META.json',\n",
      "                    'notebooks/data/stack_overflow_parquet_v2/files/so_tmp3328v78o_1500.parquet',\n",
      "                    'notebooks/data/stack_overflow_parquet_v2/files/so_tmp3328v78o_1501.parquet',\n",
      "                    'notebooks/data/stack_overflow_parquet_v2/files/so_tmp3328v78o_1503.parquet',\n",
      "                    'notebooks/data/stack_overflow_parquet_v2/files/so_tmp3328v78o_1502.parquet',\n",
      "                    'notebooks/data/stack_overflow_parquet_v2/files/so_tmp3328v78o_1504.parquet'],\n",
      " 'indexes': {'test_so_index': [{'data_path': 'notebooks/data/stack_overflow_parquet_v2/files',\n",
      "                                'dimensions': '768',\n",
      "                                'exported_vector_count': 1000,\n",
      "                                'metric': 'Dot',\n",
      "                                'model_name': 'textembedding-gecko@001',\n",
      "                                'namespace': 'so_questions',\n",
      "                                'total_vector_count': 1000,\n",
      "                                'vector_columns': ['embedding']}]},\n",
      " 'version': 'v1'}\n"
     ]
    }
   ],
   "source": [
    "with open(f\"{TEST_VDF_META}\") as f:\n",
    "    d = json.load(f)\n",
    "    pprint(d)"
   ]
  },
  {
   "cell_type": "markdown",
   "id": "b8d106f3-4297-45e2-bb0a-7c524ffe215d",
   "metadata": {},
   "source": [
    "# Initialize import class\n",
    "\n",
    "> Pass config for target index to import vectors t"
   ]
  },
  {
   "cell_type": "code",
   "execution_count": 18,
   "id": "f33a8b01-fa43-4e31-b5a8-9b840701e7c0",
   "metadata": {},
   "outputs": [
    {
     "name": "stdout",
     "output_type": "stream",
     "text": [
      "{'batch_size': 100,\n",
      " 'crowding_tag': 'crowding_tag',\n",
      " 'dir': 'notebooks/data/stack_overflow_parquet_v2',\n",
      " 'filter_restricts': [{'allow_list': ['tag'], 'namespace': 'tag'}],\n",
      " 'library_version': 'v1',\n",
      " 'location': 'us-central1',\n",
      " 'numeric_restricts': [{'data_type': 'value_int', 'namespace': 'score'}],\n",
      " 'project_id': 'hybrid-vertex',\n",
      " 'project_num': '934903580331',\n",
      " 'target_index_id': '1081325705452584960'}\n"
     ]
    }
   ],
   "source": [
    "my_import_args = {\n",
    "    \"project_id\": PROJECT_ID,\n",
    "    \"location\": REGION,\n",
    "    \"project_num\" : PROJECT_NUM,\n",
    "    \"target_index_id\": MY_INDEX_ID,\n",
    "    \"batch_size\": 100,\n",
    "    \"library_version\": VDF_VERSION,\n",
    "    \"dir\": f\"notebooks/{LOCAL_TEST_DIR}\",\n",
    "    \"filter_restricts\": [\n",
    "        {\n",
    "            \"namespace\": \"tag\",     # vertex VS namespace\n",
    "            \"allow_list\": [\"tag\"],  # col name\n",
    "        },\n",
    "    ],\n",
    "    \"numeric_restricts\" : [\n",
    "        {\n",
    "            \"namespace\": \"score\", \n",
    "            \"data_type\": \"value_int\"\n",
    "        }\n",
    "    ],\n",
    "    \"crowding_tag\" : \"crowding_tag\"\n",
    "}\n",
    "pprint(my_import_args)"
   ]
  },
  {
   "cell_type": "code",
   "execution_count": 19,
   "id": "7188aeca-3eda-4f7f-acd6-dbe70720019c",
   "metadata": {
    "tags": []
   },
   "outputs": [
    {
     "name": "stdout",
     "output_type": "stream",
     "text": [
      "list_of_ns_restrict_entries : [{'namespace': 'tag', 'allow_list': ['tag']}]\n",
      "list_of_numeric_entries : [{'namespace': 'score', 'data_type': 'value_int'}]\n",
      "Importing to index : soverflow_vvs_vectorio_pubv3\n",
      "Full resource name : projects/934903580331/locations/us-central1/indexes/1081325705452584960\n",
      "Target index config:\n",
      "{\n",
      "    \"dimensions\": 768.0,\n",
      "    \"approximateNeighborsCount\": 150.0,\n",
      "    \"distanceMeasureType\": \"DOT_PRODUCT_DISTANCE\",\n",
      "    \"algorithmConfig\": {\n",
      "        \"treeAhConfig\": {\n",
      "            \"leafNodeEmbeddingCount\": \"500\",\n",
      "            \"leafNodesToSearchPercent\": 80.0\n",
      "        }\n",
      "    },\n",
      "    \"shardSize\": \"SHARD_SIZE_MEDIUM\"\n",
      "}\n"
     ]
    },
    {
     "data": {
      "text/plain": [
       "<src.import_vdf.vertexai_vector_search_import.ImportVertexAIVectorSearch at 0x7fcf42602a70>"
      ]
     },
     "execution_count": 19,
     "metadata": {},
     "output_type": "execute_result"
    }
   ],
   "source": [
    "import_vvs = ImportVertexAIVectorSearch(\n",
    "    args=my_import_args \n",
    ")\n",
    "\n",
    "import_vvs"
   ]
  },
  {
   "cell_type": "code",
   "execution_count": 20,
   "id": "112a4dc2-314c-46e7-8890-97d6dd36714b",
   "metadata": {
    "tags": []
   },
   "outputs": [
    {
     "data": {
      "text/plain": [
       "{'author': 'jordantotten',\n",
       " 'exported_from': 'vertex',\n",
       " 'file_structure': ['notebooks/data/stack_overflow_parquet_v2/VDF_META.json',\n",
       "  'notebooks/data/stack_overflow_parquet_v2/files/so_tmp3328v78o_1500.parquet',\n",
       "  'notebooks/data/stack_overflow_parquet_v2/files/so_tmp3328v78o_1501.parquet',\n",
       "  'notebooks/data/stack_overflow_parquet_v2/files/so_tmp3328v78o_1503.parquet',\n",
       "  'notebooks/data/stack_overflow_parquet_v2/files/so_tmp3328v78o_1502.parquet',\n",
       "  'notebooks/data/stack_overflow_parquet_v2/files/so_tmp3328v78o_1504.parquet'],\n",
       " 'version': 'v1',\n",
       " 'exported_at': '20240130-184949',\n",
       " 'indexes': {'test_so_index': [{'data_path': 'notebooks/data/stack_overflow_parquet_v2/files',\n",
       "    'dimensions': '768',\n",
       "    'exported_vector_count': 1000,\n",
       "    'metric': 'Dot',\n",
       "    'model_name': 'textembedding-gecko@001',\n",
       "    'namespace': 'so_questions',\n",
       "    'total_vector_count': 1000,\n",
       "    'vector_columns': ['embedding']}]}}"
      ]
     },
     "execution_count": 20,
     "metadata": {},
     "output_type": "execute_result"
    }
   ],
   "source": [
    "import_vvs.vdf_meta"
   ]
  },
  {
   "cell_type": "code",
   "execution_count": 21,
   "id": "e5117400-bc8c-469c-8b12-08e3b5d0045f",
   "metadata": {
    "tags": []
   },
   "outputs": [
    {
     "name": "stdout",
     "output_type": "stream",
     "text": [
      "Importing data from: test_so_index\n",
      "index_meta: [{'data_path': 'notebooks/data/stack_overflow_parquet_v2/files', 'dimensions': '768', 'exported_vector_count': 1000, 'metric': 'Dot', 'model_name': 'textembedding-gecko@001', 'namespace': 'so_questions', 'total_vector_count': 1000, 'vector_columns': ['embedding']}]\n",
      "data_path: notebooks/data/stack_overflow_parquet_v2/files\n",
      "vector_column_name    : embedding\n",
      "vector_metadata_names : ['embedding']\n"
     ]
    },
    {
     "name": "stderr",
     "output_type": "stream",
     "text": [
      "Inserting data: 100%|██████████| 5/5 [00:02<00:00,  1.94it/s]"
     ]
    },
    {
     "name": "stdout",
     "output_type": "stream",
     "text": [
      "Index import complete\n",
      "Updated soverflow_vvs_vectorio_pubv3 with 500 vectors\n"
     ]
    },
    {
     "name": "stderr",
     "output_type": "stream",
     "text": [
      "\n"
     ]
    }
   ],
   "source": [
    "import_vvs.upsert_data()"
   ]
  },
  {
   "cell_type": "code",
   "execution_count": 22,
   "id": "9d85f0e3-0933-47ef-8ec2-7e6434965bef",
   "metadata": {
    "tags": []
   },
   "outputs": [
    {
     "data": {
      "text/plain": [
       "{'name': 'projects/934903580331/locations/us-central1/indexes/1081325705452584960',\n",
       " 'displayName': 'soverflow_vvs_vectorio_pubv3',\n",
       " 'description': 'sample index for vectorio demo',\n",
       " 'metadataSchemaUri': 'gs://google-cloud-aiplatform/schema/matchingengine/metadata/nearest_neighbor_search_1.0.0.yaml',\n",
       " 'metadata': {'config': {'dimensions': 768.0,\n",
       "   'approximateNeighborsCount': 150.0,\n",
       "   'distanceMeasureType': 'DOT_PRODUCT_DISTANCE',\n",
       "   'algorithmConfig': {'treeAhConfig': {'leafNodeEmbeddingCount': '500',\n",
       "     'leafNodesToSearchPercent': 80.0}},\n",
       "   'shardSize': 'SHARD_SIZE_MEDIUM'}},\n",
       " 'deployedIndexes': [{'indexEndpoint': 'projects/934903580331/locations/us-central1/indexEndpoints/5739455095037231104',\n",
       "   'deployedIndexId': 'soverflow_vvs_vectorio_pubv3_20240130131739'}],\n",
       " 'etag': 'AMEw9yPF_gXj1ARAX6KLL8qg3_KloDJxKCnjr3Gi65A7038lkqZWOz2jV-WEcFrTCc0=',\n",
       " 'createTime': '2024-01-30T13:26:08.725251Z',\n",
       " 'updateTime': '2024-01-30T13:26:17.176312Z',\n",
       " 'indexStats': {'vectorsCount': '1', 'shardsCount': 1},\n",
       " 'indexUpdateMethod': 'STREAM_UPDATE',\n",
       " 'encryptionSpec': {}}"
      ]
     },
     "execution_count": 22,
     "metadata": {},
     "output_type": "execute_result"
    }
   ],
   "source": [
    "target_vs_index.to_dict()"
   ]
  },
  {
   "cell_type": "code",
   "execution_count": 21,
   "id": "fa333f3a-56a5-41c2-a37f-350098caa799",
   "metadata": {
    "tags": []
   },
   "outputs": [],
   "source": [
    "# target_vs_index."
   ]
  },
  {
   "cell_type": "markdown",
   "id": "a1293777-28a6-4775-906e-f8f7c03b0839",
   "metadata": {},
   "source": [
    "## Remove data\n",
    "\n",
    "> TODO"
   ]
  },
  {
   "cell_type": "code",
   "execution_count": null,
   "id": "6916359c-9af4-4b22-b830-7e133a4fc2e1",
   "metadata": {},
   "outputs": [],
   "source": [
    "# parquet_files = sorted(\n",
    "#     [file for file in os.listdir(data_path) if file.endswith(\".parquet\")]\n",
    "# )"
   ]
  },
  {
   "cell_type": "code",
   "execution_count": null,
   "id": "1d7881c2-4818-4bdc-ad1c-171572f036cf",
   "metadata": {},
   "outputs": [],
   "source": []
  },
  {
   "cell_type": "markdown",
   "id": "99f96ae2-aa1c-4786-88f4-558dea53e676",
   "metadata": {
    "jp-MarkdownHeadingCollapsed": true,
    "tags": []
   },
   "source": [
    "# Notes"
   ]
  },
  {
   "cell_type": "markdown",
   "id": "8c02c005-a783-46f7-bae7-93f32ee39a62",
   "metadata": {},
   "source": [
    "### Format vectors\n",
    "\n",
    "```\n",
    "        # Append to file\n",
    "        embeddings_formatted = [\n",
    "            json.dumps(\n",
    "                {\n",
    "                    \"id\": str(id),\n",
    "                    \"embedding\": [\n",
    "                        str(value) for value in embedding\n",
    "                    ],\n",
    "                    \"restricts\": [\n",
    "                        {\"namespace\": \"tags\", \"allow\": [str(tag_r)]}\n",
    "                    ],\n",
    "                    \"numeric_restricts\": [\n",
    "                        {\"namespace\": \"score\", \"value_int\": int(score)}\n",
    "                    ],\n",
    "                    \"crowding_tag\": str(tag_crowd)\n",
    "                }\n",
    "            )\n",
    "            + \"\\n\"\n",
    "            # for id, embedding in zip(id_chunk[is_successful], question_chunk_embeddings)\n",
    "            for id, embedding, tag_r, score, tag_crowd in zip(\n",
    "                id_chunk[is_successful], \n",
    "                question_chunk_embeddings, \n",
    "                tags_restrict, \n",
    "                scores_chunk, \n",
    "                tags_crowd\n",
    "            )\n",
    "        ]\n",
    "        f.writelines(embeddings_formatted)\n",
    "```"
   ]
  },
  {
   "cell_type": "markdown",
   "id": "f8422ce2-2187-4539-b397-9a88b5bbfc11",
   "metadata": {},
   "source": [
    "**Finished**"
   ]
  }
 ],
 "metadata": {
  "environment": {
   "kernel": "python3",
   "name": "tf2-gpu.2-13.m115",
   "type": "gcloud",
   "uri": "gcr.io/deeplearning-platform-release/tf2-gpu.2-13:m115"
  },
  "kernelspec": {
   "display_name": "Python 3",
   "language": "python",
   "name": "python3"
  },
  "language_info": {
   "codemirror_mode": {
    "name": "ipython",
    "version": 3
   },
   "file_extension": ".py",
   "mimetype": "text/x-python",
   "name": "python",
   "nbconvert_exporter": "python",
   "pygments_lexer": "ipython3",
   "version": "3.10.13"
  }
 },
 "nbformat": 4,
 "nbformat_minor": 5
}
