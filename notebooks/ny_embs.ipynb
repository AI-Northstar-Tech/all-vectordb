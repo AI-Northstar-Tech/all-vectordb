{
 "cells": [
  {
   "cell_type": "code",
   "execution_count": 1,
   "metadata": {},
   "outputs": [],
   "source": [
    "import pandas as pd\n",
    "\n",
    "\n",
    "df = pd.read_csv('/Users/dhruvanand/Downloads/aint/llm/nyt_embs/articles_with_embeddings.csv')"
   ]
  },
  {
   "cell_type": "code",
   "execution_count": 2,
   "metadata": {},
   "outputs": [],
   "source": [
    "df.to_parquet('/Users/dhruvanand/Downloads/aint/llm/nyt_embs/articles_with_embeddings.parquet')"
   ]
  },
  {
   "cell_type": "code",
   "execution_count": 3,
   "metadata": {},
   "outputs": [
    {
     "data": {
      "text/plain": [
       "9101"
      ]
     },
     "execution_count": 3,
     "metadata": {},
     "output_type": "execute_result"
    }
   ],
   "source": [
    "len(df)"
   ]
  },
  {
   "cell_type": "code",
   "execution_count": 4,
   "metadata": {},
   "outputs": [
    {
     "data": {
      "text/html": [
       "<div>\n",
       "<style scoped>\n",
       "    .dataframe tbody tr th:only-of-type {\n",
       "        vertical-align: middle;\n",
       "    }\n",
       "\n",
       "    .dataframe tbody tr th {\n",
       "        vertical-align: top;\n",
       "    }\n",
       "\n",
       "    .dataframe thead th {\n",
       "        text-align: right;\n",
       "    }\n",
       "</style>\n",
       "<table border=\"1\" class=\"dataframe\">\n",
       "  <thead>\n",
       "    <tr style=\"text-align: right;\">\n",
       "      <th></th>\n",
       "      <th>id</th>\n",
       "      <th>title</th>\n",
       "      <th>full_url</th>\n",
       "      <th>comments</th>\n",
       "      <th>has_video</th>\n",
       "      <th>has_audio</th>\n",
       "      <th>n_tokens</th>\n",
       "      <th>embedding</th>\n",
       "    </tr>\n",
       "  </thead>\n",
       "  <tbody>\n",
       "    <tr>\n",
       "      <th>0</th>\n",
       "      <td>1512064169222287361</td>\n",
       "      <td>Finland seizes artwork shipments suspected of ...</td>\n",
       "      <td>https://www.nytimes.com/2022/04/07/world/europ...</td>\n",
       "      <td>NaN</td>\n",
       "      <td>False</td>\n",
       "      <td>False</td>\n",
       "      <td>454</td>\n",
       "      <td>[0.018884239718317986, -0.030246678739786148, ...</td>\n",
       "    </tr>\n",
       "    <tr>\n",
       "      <th>1</th>\n",
       "      <td>1488331283226894340</td>\n",
       "      <td>U.S. and Allies Close to Reviving Nuclear Deal...</td>\n",
       "      <td>https://www.nytimes.com/2022/01/31/us/politics...</td>\n",
       "      <td>NaN</td>\n",
       "      <td>False</td>\n",
       "      <td>False</td>\n",
       "      <td>1581</td>\n",
       "      <td>[-0.018842803314328194, -0.0316883847117424, 0...</td>\n",
       "    </tr>\n",
       "    <tr>\n",
       "      <th>2</th>\n",
       "      <td>1510781717744914441</td>\n",
       "      <td>After a long absence from social media, Lil Na...</td>\n",
       "      <td>https://www.nytimes.com/live/2022/04/03/arts/g...</td>\n",
       "      <td>NaN</td>\n",
       "      <td>False</td>\n",
       "      <td>False</td>\n",
       "      <td>353</td>\n",
       "      <td>[-0.015916012227535248, 0.0023487871512770653,...</td>\n",
       "    </tr>\n",
       "    <tr>\n",
       "      <th>3</th>\n",
       "      <td>1483514600406540288</td>\n",
       "      <td>Surprise in $216 Billion Budget Plan: New York...</td>\n",
       "      <td>https://www.nytimes.com/2022/01/18/nyregion/ne...</td>\n",
       "      <td>246.0</td>\n",
       "      <td>False</td>\n",
       "      <td>False</td>\n",
       "      <td>2149</td>\n",
       "      <td>[0.0005309077096171677, -0.010138625279068947,...</td>\n",
       "    </tr>\n",
       "    <tr>\n",
       "      <th>4</th>\n",
       "      <td>1479841992829980682</td>\n",
       "      <td>How to Think About Covid Data Right Now</td>\n",
       "      <td>https://www.nytimes.com/interactive/2022/01/07...</td>\n",
       "      <td>NaN</td>\n",
       "      <td>False</td>\n",
       "      <td>False</td>\n",
       "      <td>1383</td>\n",
       "      <td>[-0.00014960144471842796, -0.00964638311415910...</td>\n",
       "    </tr>\n",
       "  </tbody>\n",
       "</table>\n",
       "</div>"
      ],
      "text/plain": [
       "                    id                                              title  \\\n",
       "0  1512064169222287361  Finland seizes artwork shipments suspected of ...   \n",
       "1  1488331283226894340  U.S. and Allies Close to Reviving Nuclear Deal...   \n",
       "2  1510781717744914441  After a long absence from social media, Lil Na...   \n",
       "3  1483514600406540288  Surprise in $216 Billion Budget Plan: New York...   \n",
       "4  1479841992829980682            How to Think About Covid Data Right Now   \n",
       "\n",
       "                                            full_url  comments  has_video  \\\n",
       "0  https://www.nytimes.com/2022/04/07/world/europ...       NaN      False   \n",
       "1  https://www.nytimes.com/2022/01/31/us/politics...       NaN      False   \n",
       "2  https://www.nytimes.com/live/2022/04/03/arts/g...       NaN      False   \n",
       "3  https://www.nytimes.com/2022/01/18/nyregion/ne...     246.0      False   \n",
       "4  https://www.nytimes.com/interactive/2022/01/07...       NaN      False   \n",
       "\n",
       "   has_audio  n_tokens                                          embedding  \n",
       "0      False       454  [0.018884239718317986, -0.030246678739786148, ...  \n",
       "1      False      1581  [-0.018842803314328194, -0.0316883847117424, 0...  \n",
       "2      False       353  [-0.015916012227535248, 0.0023487871512770653,...  \n",
       "3      False      2149  [0.0005309077096171677, -0.010138625279068947,...  \n",
       "4      False      1383  [-0.00014960144471842796, -0.00964638311415910...  "
      ]
     },
     "execution_count": 4,
     "metadata": {},
     "output_type": "execute_result"
    }
   ],
   "source": [
    "df.head()"
   ]
  },
  {
   "cell_type": "code",
   "execution_count": 6,
   "metadata": {},
   "outputs": [
    {
     "data": {
      "text/plain": [
       "id             int64\n",
       "title         object\n",
       "full_url      object\n",
       "comments     float64\n",
       "has_video       bool\n",
       "has_audio       bool\n",
       "n_tokens       int64\n",
       "embedding     object\n",
       "dtype: object"
      ]
     },
     "execution_count": 6,
     "metadata": {},
     "output_type": "execute_result"
    }
   ],
   "source": [
    "df.dtypes"
   ]
  },
  {
   "cell_type": "code",
   "execution_count": null,
   "metadata": {},
   "outputs": [],
   "source": []
  }
 ],
 "metadata": {
  "kernelspec": {
   "display_name": "base",
   "language": "python",
   "name": "python3"
  },
  "language_info": {
   "codemirror_mode": {
    "name": "ipython",
    "version": 3
   },
   "file_extension": ".py",
   "mimetype": "text/x-python",
   "name": "python",
   "nbconvert_exporter": "python",
   "pygments_lexer": "ipython3",
   "version": "3.10.12"
  }
 },
 "nbformat": 4,
 "nbformat_minor": 2
}
