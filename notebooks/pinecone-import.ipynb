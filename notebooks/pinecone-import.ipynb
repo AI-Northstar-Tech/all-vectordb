{
 "cells": [
  {
   "cell_type": "code",
   "execution_count": 1,
   "metadata": {},
   "outputs": [],
   "source": [
    "# read /Users/dhruvanand/Downloads/aint/llm/quora_all-MiniLM-L6-bm25/documents/file1.parquet\n",
    "import pandas as pd\n",
    "\n",
    "df = pd.read_parquet(\n",
    "    \"/Users/dhruvanand/Downloads/aint/llm/quora_all-MiniLM-L6-bm25/documents/file1.parquet\"\n",
    ")"
   ]
  },
  {
   "cell_type": "code",
   "execution_count": 2,
   "metadata": {},
   "outputs": [
    {
     "data": {
      "text/html": [
       "<div>\n",
       "<style scoped>\n",
       "    .dataframe tbody tr th:only-of-type {\n",
       "        vertical-align: middle;\n",
       "    }\n",
       "\n",
       "    .dataframe tbody tr th {\n",
       "        vertical-align: top;\n",
       "    }\n",
       "\n",
       "    .dataframe thead th {\n",
       "        text-align: right;\n",
       "    }\n",
       "</style>\n",
       "<table border=\"1\" class=\"dataframe\">\n",
       "  <thead>\n",
       "    <tr style=\"text-align: right;\">\n",
       "      <th></th>\n",
       "      <th>id</th>\n",
       "      <th>values</th>\n",
       "      <th>sparse_values</th>\n",
       "      <th>metadata</th>\n",
       "      <th>blob</th>\n",
       "    </tr>\n",
       "  </thead>\n",
       "  <tbody>\n",
       "    <tr>\n",
       "      <th>0</th>\n",
       "      <td>1</td>\n",
       "      <td>[0.06814987, -0.039664183, -0.06096721, 0.0074...</td>\n",
       "      <td>{'indices': [7096, 8508, 13677, 23041, 24734, ...</td>\n",
       "      <td>None</td>\n",
       "      <td>{'text': ' What is the step by step guide to i...</td>\n",
       "    </tr>\n",
       "    <tr>\n",
       "      <th>1</th>\n",
       "      <td>2</td>\n",
       "      <td>[0.08983771, -0.03493085, -0.057357617, 0.0222...</td>\n",
       "      <td>{'indices': [7096, 8508, 13677, 24734, 26026, ...</td>\n",
       "      <td>None</td>\n",
       "      <td>{'text': ' What is the step by step guide to i...</td>\n",
       "    </tr>\n",
       "    <tr>\n",
       "      <th>2</th>\n",
       "      <td>3</td>\n",
       "      <td>[-0.046798065, 0.1551149, -0.03920019, 0.04878...</td>\n",
       "      <td>{'indices': [6065, 13677, 17109, 20780, 24734,...</td>\n",
       "      <td>None</td>\n",
       "      <td>{'text': ' What is the story of Kohinoor (Koh-...</td>\n",
       "    </tr>\n",
       "    <tr>\n",
       "      <th>3</th>\n",
       "      <td>4</td>\n",
       "      <td>[-0.077349104, 0.14786911, -0.0128817065, -0.0...</td>\n",
       "      <td>{'indices': [2408, 6065, 7582, 12225, 17109, 2...</td>\n",
       "      <td>None</td>\n",
       "      <td>{'text': ' What would happen if the Indian gov...</td>\n",
       "    </tr>\n",
       "    <tr>\n",
       "      <th>4</th>\n",
       "      <td>5</td>\n",
       "      <td>[-0.028324936, 0.037209604, -0.00040033547, 0....</td>\n",
       "      <td>{'indices': [5388, 12812, 18181, 19960, 20780,...</td>\n",
       "      <td>None</td>\n",
       "      <td>{'text': ' How can I increase the speed of my ...</td>\n",
       "    </tr>\n",
       "  </tbody>\n",
       "</table>\n",
       "</div>"
      ],
      "text/plain": [
       "  id                                             values  \\\n",
       "0  1  [0.06814987, -0.039664183, -0.06096721, 0.0074...   \n",
       "1  2  [0.08983771, -0.03493085, -0.057357617, 0.0222...   \n",
       "2  3  [-0.046798065, 0.1551149, -0.03920019, 0.04878...   \n",
       "3  4  [-0.077349104, 0.14786911, -0.0128817065, -0.0...   \n",
       "4  5  [-0.028324936, 0.037209604, -0.00040033547, 0....   \n",
       "\n",
       "                                       sparse_values metadata  \\\n",
       "0  {'indices': [7096, 8508, 13677, 23041, 24734, ...     None   \n",
       "1  {'indices': [7096, 8508, 13677, 24734, 26026, ...     None   \n",
       "2  {'indices': [6065, 13677, 17109, 20780, 24734,...     None   \n",
       "3  {'indices': [2408, 6065, 7582, 12225, 17109, 2...     None   \n",
       "4  {'indices': [5388, 12812, 18181, 19960, 20780,...     None   \n",
       "\n",
       "                                                blob  \n",
       "0  {'text': ' What is the step by step guide to i...  \n",
       "1  {'text': ' What is the step by step guide to i...  \n",
       "2  {'text': ' What is the story of Kohinoor (Koh-...  \n",
       "3  {'text': ' What would happen if the Indian gov...  \n",
       "4  {'text': ' How can I increase the speed of my ...  "
      ]
     },
     "execution_count": 2,
     "metadata": {},
     "output_type": "execute_result"
    }
   ],
   "source": [
    "df.head()"
   ]
  },
  {
   "cell_type": "code",
   "execution_count": null,
   "metadata": {},
   "outputs": [],
   "source": []
  }
 ],
 "metadata": {
  "kernelspec": {
   "display_name": "base",
   "language": "python",
   "name": "python3"
  },
  "language_info": {
   "codemirror_mode": {
    "name": "ipython",
    "version": 3
   },
   "file_extension": ".py",
   "mimetype": "text/x-python",
   "name": "python",
   "nbconvert_exporter": "python",
   "pygments_lexer": "ipython3",
   "version": "3.9.13"
  },
  "orig_nbformat": 4
 },
 "nbformat": 4,
 "nbformat_minor": 2
}
