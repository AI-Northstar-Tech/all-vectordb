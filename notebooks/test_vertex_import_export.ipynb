{
 "cells": [
  {
   "cell_type": "markdown",
   "id": "1b771f52-8176-4a35-9bb4-7c017fd2b45b",
   "metadata": {},
   "source": [
    "# Testing import and export classes for Vertex AI Vecto Search\n",
    "\n",
    "> TODO: test public and private endpoints"
   ]
  },
  {
   "cell_type": "code",
   "execution_count": 45,
   "id": "be6ef8e4-e141-4673-8b1d-bc43770b03fb",
   "metadata": {
    "tags": []
   },
   "outputs": [
    {
     "name": "stdout",
     "output_type": "stream",
     "text": [
      "/home/jupyter/vector-io\n"
     ]
    }
   ],
   "source": [
    "!pwd"
   ]
  },
  {
   "cell_type": "code",
   "execution_count": 2,
   "id": "71130123-7986-40ca-b7fd-fca6fcba782c",
   "metadata": {
    "tags": []
   },
   "outputs": [],
   "source": [
    "# create new gcs bucket, vs index, etc.?\n",
    "CREATE_NEW_ASSETS         = False "
   ]
  },
  {
   "cell_type": "code",
   "execution_count": 3,
   "id": "de21ad21-547a-4039-ba8e-77feab44de0a",
   "metadata": {
    "tags": []
   },
   "outputs": [
    {
     "name": "stdout",
     "output_type": "stream",
     "text": [
      "PREFIX = vvs-vectorio-vpc1\n"
     ]
    }
   ],
   "source": [
    "# naming convention for all cloud resources\n",
    "VERSION        = \"vpc1\"                        # TODO\n",
    "PREFIX         = f'vvs-vectorio-{VERSION}'   # TODO\n",
    "\n",
    "print(f\"PREFIX = {PREFIX}\")"
   ]
  },
  {
   "cell_type": "markdown",
   "id": "4e9c65c4-3a2e-4724-8296-06deddfd21a0",
   "metadata": {},
   "source": [
    "## Load notebook config"
   ]
  },
  {
   "cell_type": "code",
   "execution_count": 4,
   "id": "f3a2a3d3-c1d0-48eb-bede-1939b4d77e78",
   "metadata": {
    "tags": []
   },
   "outputs": [
    {
     "name": "stdout",
     "output_type": "stream",
     "text": [
      "\n",
      "PREFIX                   = \"vvs-vectorio-vpc1\"\n",
      "VERSION                  = \"vpc1\"\n",
      "\n",
      "PROJECT_ID               = \"hybrid-vertex\"\n",
      "PROJECT_NUM              = \"934903580331\"\n",
      "\n",
      "REGION                   = \"us-central1\"\n",
      "BQ_REGION                = \"US\"\n",
      "\n",
      "VERTEX_SA                = \"934903580331-compute@developer.gserviceaccount.com\"\n",
      "\n",
      "VPC_NETWORK_NAME         = \"ucaip-haystack-vpc-network\"\n",
      "VPC_NETWORK_FULL         = \"projects/934903580331/global/networks/ucaip-haystack-vpc-network\"\n",
      "\n",
      "USE_PUBLIC_ENDPOINTS     = \"False\"\n",
      "\n",
      "BUCKET_NAME              = \"vvs-vectorio-vpc1-hybrid-vertex\"\n",
      "BUCKET_URI               = \"gs://vvs-vectorio-vpc1-hybrid-vertex\"\n",
      "\n"
     ]
    }
   ],
   "source": [
    "# staging GCS\n",
    "GCP_PROJECTS             = !gcloud config get-value project\n",
    "PROJECT_ID               = GCP_PROJECTS[0]\n",
    "\n",
    "# GCS bucket and paths\n",
    "BUCKET_NAME              = f'{PREFIX}-{PROJECT_ID}'\n",
    "BUCKET_URI               = f'gs://{BUCKET_NAME}'\n",
    "\n",
    "config = !gsutil cat {BUCKET_URI}/config/notebook_env.py\n",
    "print(config.n)\n",
    "exec(config.n)"
   ]
  },
  {
   "cell_type": "markdown",
   "id": "a29b1b2d-2129-4eb4-9459-8eaa13a2ea5e",
   "metadata": {},
   "source": [
    "## Imports"
   ]
  },
  {
   "cell_type": "code",
   "execution_count": 5,
   "id": "2c3a217d-3220-4b0b-98d7-30b3ce718680",
   "metadata": {
    "tags": []
   },
   "outputs": [
    {
     "name": "stdout",
     "output_type": "stream",
     "text": [
      "BigQuery SDK version      : 3.15.0\n",
      "Vertex AI SDK version     : 1.39.0\n",
      "Cloud Storage SDK version : 2.14.0\n"
     ]
    }
   ],
   "source": [
    "import pandas as pd\n",
    "import numpy as np\n",
    "import time \n",
    "import json\n",
    "import uuid\n",
    "\n",
    "from pprint import pprint\n",
    "\n",
    "from google.cloud import aiplatform as aip\n",
    "from google.cloud import storage\n",
    "from google.cloud import bigquery\n",
    "\n",
    "# logging\n",
    "import logging\n",
    "logging.disable(logging.WARNING)\n",
    "\n",
    "#python warning \n",
    "import warnings\n",
    "warnings.filterwarnings(\"ignore\")\n",
    "\n",
    "print(f'BigQuery SDK version      : {bigquery.__version__}')\n",
    "print(f'Vertex AI SDK version     : {aip.__version__}')\n",
    "print(f'Cloud Storage SDK version : {storage.__version__}')"
   ]
  },
  {
   "cell_type": "markdown",
   "id": "8abc7647-6323-44e9-b52e-878da310e222",
   "metadata": {},
   "source": [
    "### init Google Cloud SDK clients"
   ]
  },
  {
   "cell_type": "code",
   "execution_count": 6,
   "id": "265fc1aa-cc73-47aa-b672-ed1ca7ed71c8",
   "metadata": {
    "tags": []
   },
   "outputs": [],
   "source": [
    "# cloud storage client\n",
    "storage_client = storage.Client(project=PROJECT_ID)\n",
    "\n",
    "# Vertex client\n",
    "aip.init(project=PROJECT_ID, location=REGION)"
   ]
  },
  {
   "cell_type": "markdown",
   "id": "3303f83d-36f1-4aa7-a50f-115f1e68e5b3",
   "metadata": {},
   "source": [
    "### Vertex AI import & export classes"
   ]
  },
  {
   "cell_type": "code",
   "execution_count": 7,
   "id": "1b0ee514-c92b-4c8c-ab8e-ccde62eecbd3",
   "metadata": {
    "tags": []
   },
   "outputs": [],
   "source": [
    "import sys\n",
    "import os\n",
    "\n",
    "sys.path.append(\"..\")\n",
    "from src.import_vdf.vertexai_vector_search_import import ImportVertexAIVectorSearch\n",
    "from src.export_vdf.vertexai_vector_search_export import ExportVertexAIVectorSearch\n",
    "from src.names import DBNames"
   ]
  },
  {
   "cell_type": "markdown",
   "id": "fbd04cac-de41-47ee-86e0-4303773415a2",
   "metadata": {},
   "source": [
    "## Create test import data"
   ]
  },
  {
   "cell_type": "code",
   "execution_count": null,
   "id": "6d059861-8302-46c7-a60d-2827104ab0ca",
   "metadata": {},
   "outputs": [],
   "source": []
  },
  {
   "cell_type": "code",
   "execution_count": null,
   "id": "141271bb-3e0c-4200-b377-8da66ab261c0",
   "metadata": {},
   "outputs": [],
   "source": []
  },
  {
   "cell_type": "code",
   "execution_count": null,
   "id": "c3d20195-1143-4159-ae90-f422a3e7e8d6",
   "metadata": {},
   "outputs": [],
   "source": []
  },
  {
   "cell_type": "markdown",
   "id": "92289e76-629f-4ab7-8cae-570d2c5b247e",
   "metadata": {},
   "source": [
    "## VDF Metadata json"
   ]
  },
  {
   "cell_type": "code",
   "execution_count": 29,
   "id": "74abb440-7fd5-4bf6-8907-7d66425042fb",
   "metadata": {
    "tags": []
   },
   "outputs": [
    {
     "name": "stdout",
     "output_type": "stream",
     "text": [
      "TEST_FILE     : notebooks/data/1500_2000_100/tmpqxi_pbxv/tmpmee85mkz_1502.parquet\n",
      "TEST_VDF_META : notebooks/data/1500_2000_100/VDF_META.json\n",
      "TIMESTAMP_vdf : 20240130-031033\n",
      "DIMENSIONS    : 768\n"
     ]
    }
   ],
   "source": [
    "# TEST_DATA_DIR = \"data/stack_overflow_parquet\"\n",
    "TEST_DATA_DIR = \"notebooks/data/1500_2000_100/tmpqxi_pbxv\"\n",
    "\n",
    "TEST_FILE = f\"{TEST_DATA_DIR}/tmpmee85mkz_1502.parquet\"\n",
    "\n",
    "TEST_VDF_META = \"notebooks/data/1500_2000_100/VDF_META.json\"\n",
    "\n",
    "TIMESTAMP_vdf = time.strftime(\"%Y%m%d-%H%M%S\")\n",
    "\n",
    "DIMENSIONS = 768\n",
    "VDF_VERSION = \"v1\"\n",
    "\n",
    "print(f\"TEST_FILE     : {TEST_FILE}\")\n",
    "print(f\"TEST_VDF_META : {TEST_VDF_META}\")\n",
    "\n",
    "print(f\"TIMESTAMP_vdf : {TIMESTAMP_vdf}\")\n",
    "print(f\"DIMENSIONS    : {DIMENSIONS}\")"
   ]
  },
  {
   "cell_type": "code",
   "execution_count": 30,
   "id": "acad715d-5565-4e0a-9af7-66a7a47ff524",
   "metadata": {
    "tags": []
   },
   "outputs": [
    {
     "name": "stdout",
     "output_type": "stream",
     "text": [
      "{'author': 'jordantotten',\n",
      " 'exported_at': '20240130-031033',\n",
      " 'exported_from': 'vertex',\n",
      " 'file_structure': ['notebooks/data/1500_2000_100/tmpqxi_pbxv/tmpmee85mkz_1502.parquet',\n",
      "                    'notebooks/data/1500_2000_100/VDF_META.json'],\n",
      " 'indexes': {'test_tmp_index': [{'data_path': 'notebooks/data/1500_2000_100/tmpqxi_pbxv',\n",
      "                                 'dimensions': 768,\n",
      "                                 'exported_vector_count': 100,\n",
      "                                 'metric': 'Dot',\n",
      "                                 'model_name': 'vertex',\n",
      "                                 'namespace': 'so_questions',\n",
      "                                 'total_vector_count': 100,\n",
      "                                 'vector_columns': ['embedding']}]},\n",
      " 'version': 'v1'}\n"
     ]
    }
   ],
   "source": [
    "my_vdf = {\n",
    "    \"author\": \"jordantotten\",\n",
    "    \"exported_from\": \"vertex\",\n",
    "    \"file_structure\": [\n",
    "        TEST_FILE,\n",
    "        TEST_VDF_META\n",
    "    ],\n",
    "    \"version\": VDF_VERSION,\n",
    "    \"exported_at\": TIMESTAMP_vdf, #'2024-01-28T00:00:00Z',\n",
    "    \"indexes\": {\n",
    "            \"test_tmp_index\": [\n",
    "                {\n",
    "                    \"data_path\": TEST_DATA_DIR,\n",
    "                    \"dimensions\": DIMENSIONS,\n",
    "                    \"exported_vector_count\": 100,\n",
    "                    \"metric\": \"Dot\",\n",
    "                    \"model_name\": \"vertex\",\n",
    "                    \"namespace\": \"so_questions\",\n",
    "                    \"total_vector_count\": 100,\n",
    "                    \"vector_columns\": [\"embedding\"]\n",
    "                }\n",
    "            ]\n",
    "    }\n",
    "}\n",
    "pprint(my_vdf)"
   ]
  },
  {
   "cell_type": "code",
   "execution_count": 31,
   "id": "19a5246b-bcf8-420d-8528-abefd441c5a9",
   "metadata": {
    "tags": []
   },
   "outputs": [
    {
     "name": "stdout",
     "output_type": "stream",
     "text": [
      "notebooks/data/1500_2000_100/tmpqxi_pbxv\n"
     ]
    }
   ],
   "source": [
    "for index_name, index_meta in my_vdf[\"indexes\"].items():\n",
    "    # print(index_name)\n",
    "    # print(index_meta)\n",
    "    for namespace_meta in index_meta:\n",
    "        # pprint(namespace_meta)\n",
    "        print(namespace_meta['data_path'])"
   ]
  },
  {
   "cell_type": "code",
   "execution_count": 32,
   "id": "5af570bd-4113-4609-827c-44a5adf5667b",
   "metadata": {
    "tags": []
   },
   "outputs": [],
   "source": [
    "import json\n",
    "with open(f\"{TEST_VDF_META}\", 'w') as fp:\n",
    "    json.dump(my_vdf, fp)"
   ]
  },
  {
   "cell_type": "code",
   "execution_count": 33,
   "id": "da320e73-d942-4260-ac13-bcdb167a09a1",
   "metadata": {
    "tags": []
   },
   "outputs": [],
   "source": [
    "# with open('VDF_META.json') as f:\n",
    "#     d = json.load(f)\n",
    "#     pprint(d)"
   ]
  },
  {
   "cell_type": "markdown",
   "id": "30cd0776-5c7b-4257-bdae-015fb1ede48c",
   "metadata": {},
   "source": [
    "# Vertex AI Vector Search Index"
   ]
  },
  {
   "cell_type": "code",
   "execution_count": 56,
   "id": "c643f5ca-f730-4873-8609-28c9c83c5555",
   "metadata": {
    "tags": []
   },
   "outputs": [
    {
     "name": "stdout",
     "output_type": "stream",
     "text": [
      "TARGET_INDEX_DISPLAY_NAME : soverflow_vvs_vectorio_pubv2\n"
     ]
    }
   ],
   "source": [
    "TARGET_INDEX_DISPLAY_NAME = \"soverflow_vvs_vectorio_pubv2\"\n",
    "TARGET_INDEX_ID = \"7264767993832275968\"\n",
    "\n",
    "# # tmp\n",
    "# TARGET_INDEX_DISPLAY_NAME = \"vectorstore_thd_v1\"\n",
    "# TARGET_INDEX_ID = \"5271278645883699200\"\n",
    "\n",
    "print(f\"TARGET_INDEX_DISPLAY_NAME : {TARGET_INDEX_DISPLAY_NAME}\")"
   ]
  },
  {
   "cell_type": "markdown",
   "id": "fdbd0bd5-e244-4500-a63e-000109364bed",
   "metadata": {},
   "source": [
    "### Existing VDF json"
   ]
  },
  {
   "cell_type": "code",
   "execution_count": 57,
   "id": "63964057-cf03-4609-929f-0c04c6b53bcb",
   "metadata": {
    "tags": []
   },
   "outputs": [],
   "source": [
    "# VDF_DIR_PATH = \"./vdf_20240129_230804_742d6\"\n",
    "VDF_DIR_PATH = \"./notebooks/data/1500_2000_100\""
   ]
  },
  {
   "cell_type": "code",
   "execution_count": 58,
   "id": "075869ae-aa02-434f-bf0e-e68d608e4a47",
   "metadata": {
    "tags": []
   },
   "outputs": [
    {
     "name": "stdout",
     "output_type": "stream",
     "text": [
      "{'author': 'jordantotten',\n",
      " 'exported_at': '20240130-031033',\n",
      " 'exported_from': 'vertex',\n",
      " 'file_structure': ['notebooks/data/1500_2000_100/tmpqxi_pbxv/tmpmee85mkz_1502.parquet',\n",
      "                    'notebooks/data/1500_2000_100/VDF_META.json'],\n",
      " 'indexes': {'test_tmp_index': [{'data_path': 'notebooks/data/1500_2000_100/tmpqxi_pbxv',\n",
      "                                 'dimensions': 768,\n",
      "                                 'exported_vector_count': 100,\n",
      "                                 'metric': 'Dot',\n",
      "                                 'model_name': 'vertex',\n",
      "                                 'namespace': 'so_questions',\n",
      "                                 'total_vector_count': 100,\n",
      "                                 'vector_columns': ['embedding']}]},\n",
      " 'version': 'v1'}\n"
     ]
    }
   ],
   "source": [
    "with open(f\"{VDF_DIR_PATH}/VDF_META.json\") as f:\n",
    "    d = json.load(f)\n",
    "    pprint(d)"
   ]
  },
  {
   "cell_type": "markdown",
   "id": "7648600a-e6c0-42ff-859a-2223a0cb4452",
   "metadata": {},
   "source": [
    "## Initialize import class\n",
    "\n",
    "> Pass config for target index to import vectors to"
   ]
  },
  {
   "cell_type": "code",
   "execution_count": 59,
   "id": "97034ecf-34cc-4337-861c-6f68a843fe8f",
   "metadata": {
    "tags": []
   },
   "outputs": [],
   "source": [
    "# sys.path.append(\"..\")\n",
    "# from src.import_vdf.vertexai_vector_search_import_v13 import ImportVertexAIVectorSearch"
   ]
  },
  {
   "cell_type": "code",
   "execution_count": 60,
   "id": "07f9eef5-f860-470c-aba6-f19da570b9af",
   "metadata": {
    "tags": []
   },
   "outputs": [
    {
     "name": "stdout",
     "output_type": "stream",
     "text": [
      "{'batch_size': 50,\n",
      " 'dir': './notebooks/data/1500_2000_100',\n",
      " 'library_version': 'v1',\n",
      " 'location': 'us-central1',\n",
      " 'project_id': 'hybrid-vertex',\n",
      " 'project_num': '934903580331',\n",
      " 'target_index_id': '7264767993832275968'}\n"
     ]
    }
   ],
   "source": [
    "my_import_args = {\n",
    "    \"project_id\": PROJECT_ID,\n",
    "    \"location\": REGION,\n",
    "    \"project_num\" : PROJECT_NUM,\n",
    "    \"target_index_id\": TARGET_INDEX_ID,\n",
    "    \"batch_size\": 50,\n",
    "    \"library_version\": VDF_VERSION,\n",
    "    \"dir\": VDF_DIR_PATH,\n",
    "}\n",
    "pprint(my_import_args)"
   ]
  },
  {
   "cell_type": "code",
   "execution_count": 61,
   "id": "1346e6de-1cda-40f0-b6c8-81ed0fe52e58",
   "metadata": {
    "tags": []
   },
   "outputs": [
    {
     "name": "stdout",
     "output_type": "stream",
     "text": [
      "Importing to index : soverflow_vvs_vectorio_pubv2\n",
      "Full resource name : projects/934903580331/locations/us-central1/indexes/7264767993832275968\n",
      "Target index config:\n",
      "{\n",
      "    \"dimensions\": 768.0,\n",
      "    \"approximateNeighborsCount\": 150.0,\n",
      "    \"distanceMeasureType\": \"DOT_PRODUCT_DISTANCE\",\n",
      "    \"algorithmConfig\": {\n",
      "        \"treeAhConfig\": {\n",
      "            \"leafNodeEmbeddingCount\": \"500\",\n",
      "            \"leafNodesToSearchPercent\": 80.0\n",
      "        }\n",
      "    },\n",
      "    \"shardSize\": \"SHARD_SIZE_MEDIUM\"\n",
      "}\n"
     ]
    },
    {
     "data": {
      "text/plain": [
       "<src.import_vdf.vertexai_vector_search_import.ImportVertexAIVectorSearch at 0x7fa19e37b580>"
      ]
     },
     "execution_count": 61,
     "metadata": {},
     "output_type": "execute_result"
    }
   ],
   "source": [
    "import_vvs = ImportVertexAIVectorSearch(\n",
    "    args=my_import_args \n",
    ")\n",
    "\n",
    "import_vvs"
   ]
  },
  {
   "cell_type": "code",
   "execution_count": 62,
   "id": "b22f76ad-cc06-48bf-9153-17b05d7a07d9",
   "metadata": {
    "tags": []
   },
   "outputs": [
    {
     "data": {
      "text/plain": [
       "{'author': 'jordantotten',\n",
       " 'exported_from': 'vertex',\n",
       " 'file_structure': ['notebooks/data/1500_2000_100/tmpqxi_pbxv/tmpmee85mkz_1502.parquet',\n",
       "  'notebooks/data/1500_2000_100/VDF_META.json'],\n",
       " 'version': 'v1',\n",
       " 'exported_at': '20240130-031033',\n",
       " 'indexes': {'test_tmp_index': [{'data_path': 'notebooks/data/1500_2000_100/tmpqxi_pbxv',\n",
       "    'dimensions': 768,\n",
       "    'exported_vector_count': 100,\n",
       "    'metric': 'Dot',\n",
       "    'model_name': 'vertex',\n",
       "    'namespace': 'so_questions',\n",
       "    'total_vector_count': 100,\n",
       "    'vector_columns': ['embedding']}]}}"
      ]
     },
     "execution_count": 62,
     "metadata": {},
     "output_type": "execute_result"
    }
   ],
   "source": [
    "import_vvs.vdf_meta"
   ]
  },
  {
   "cell_type": "code",
   "execution_count": 63,
   "id": "969f5da2-f8c6-48c6-babc-a5c9e5d21e48",
   "metadata": {
    "tags": []
   },
   "outputs": [
    {
     "name": "stdout",
     "output_type": "stream",
     "text": [
      "Importing data from: test_tmp_index\n",
      "index_meta: [{'data_path': 'notebooks/data/1500_2000_100/tmpqxi_pbxv', 'dimensions': 768, 'exported_vector_count': 100, 'metric': 'Dot', 'model_name': 'vertex', 'namespace': 'so_questions', 'total_vector_count': 100, 'vector_columns': ['embedding']}]\n",
      "data_path: notebooks/data/1500_2000_100/tmpqxi_pbxv\n",
      "vector_column_name    : embedding\n",
      "vector_metadata_names : ['embedding']\n"
     ]
    },
    {
     "name": "stderr",
     "output_type": "stream",
     "text": [
      "Inserting data: 100%|██████████| 4/4 [00:02<00:00,  1.75it/s]"
     ]
    },
    {
     "name": "stdout",
     "output_type": "stream",
     "text": [
      "Index import complete\n",
      "Updated soverflow_vvs_vectorio_pubv2 with 400 vectors\n"
     ]
    },
    {
     "name": "stderr",
     "output_type": "stream",
     "text": [
      "\n"
     ]
    }
   ],
   "source": [
    "import_vvs.upsert_data_jt()"
   ]
  },
  {
   "cell_type": "code",
   "execution_count": 42,
   "id": "238e9a87-0951-4d36-8f18-ee974bfa11b6",
   "metadata": {
    "tags": []
   },
   "outputs": [],
   "source": [
    "# import_vvs.upsert_data(\n",
    "#     index_names = EXISTING_INDEX_ID,\n",
    "#     data = [init_embedding]\n",
    "# )"
   ]
  },
  {
   "cell_type": "markdown",
   "id": "4b0e3067-4eac-441f-a00a-021396e70bc3",
   "metadata": {},
   "source": [
    "### check index vector count"
   ]
  },
  {
   "cell_type": "code",
   "execution_count": 64,
   "id": "60b99ec6-9512-4300-a24f-da347529518d",
   "metadata": {
    "tags": []
   },
   "outputs": [
    {
     "name": "stdout",
     "output_type": "stream",
     "text": [
      "TARGET_INDEX_NAME : projects/934903580331/locations/us-central1/indexes/7264767993832275968\n"
     ]
    }
   ],
   "source": [
    "# # set index full resource name\n",
    "TARGET_INDEX_NAME = f'projects/{PROJECT_NUM}/locations/{REGION}/indexes/{TARGET_INDEX_ID}'\n",
    "print(f\"TARGET_INDEX_NAME : {TARGET_INDEX_NAME}\")"
   ]
  },
  {
   "cell_type": "code",
   "execution_count": 65,
   "id": "d95da0ea-e243-4748-93d8-db6759009460",
   "metadata": {
    "tags": []
   },
   "outputs": [
    {
     "data": {
      "text/plain": [
       "{'name': 'projects/934903580331/locations/us-central1/indexes/7264767993832275968',\n",
       " 'displayName': 'soverflow_vvs_vectorio_pubv2',\n",
       " 'description': 'sample index for vectorio demo',\n",
       " 'metadataSchemaUri': 'gs://google-cloud-aiplatform/schema/matchingengine/metadata/nearest_neighbor_search_1.0.0.yaml',\n",
       " 'metadata': {'config': {'dimensions': 768.0,\n",
       "   'approximateNeighborsCount': 150.0,\n",
       "   'distanceMeasureType': 'DOT_PRODUCT_DISTANCE',\n",
       "   'algorithmConfig': {'treeAhConfig': {'leafNodeEmbeddingCount': '500',\n",
       "     'leafNodesToSearchPercent': 80.0}},\n",
       "   'shardSize': 'SHARD_SIZE_MEDIUM'}},\n",
       " 'etag': 'AMEw9yMmXtdMcYDbw_cvxb6ePZW1Rq-5PadBCPK4fZb9FwDvahCVYaxFp7WqouqrzJE=',\n",
       " 'labels': {'prefix': 'vvs-vectorio-pubv2'},\n",
       " 'createTime': '2024-01-30T03:36:56.951497Z',\n",
       " 'updateTime': '2024-01-30T03:37:10.208162Z',\n",
       " 'indexStats': {'vectorsCount': '100', 'shardsCount': 1},\n",
       " 'indexUpdateMethod': 'STREAM_UPDATE',\n",
       " 'encryptionSpec': {}}"
      ]
     },
     "execution_count": 65,
     "metadata": {},
     "output_type": "execute_result"
    }
   ],
   "source": [
    "my_vs_index = aip.MatchingEngineIndex(TARGET_INDEX_NAME)\n",
    "\n",
    "my_vs_index.to_dict()"
   ]
  },
  {
   "cell_type": "markdown",
   "id": "475bd87d-40f6-4b50-ba24-6d420ddd6130",
   "metadata": {},
   "source": [
    "## Export from existing Vertex AI Vector Search index"
   ]
  },
  {
   "cell_type": "code",
   "execution_count": 66,
   "id": "2b438f55-c6af-4346-b5dd-f67ead096017",
   "metadata": {
    "tags": []
   },
   "outputs": [
    {
     "name": "stdout",
     "output_type": "stream",
     "text": [
      "TARGET_INDEX_NAME : projects/934903580331/locations/us-central1/indexes/7264767993832275968\n"
     ]
    }
   ],
   "source": [
    "# # set index full resource name\n",
    "TARGET_INDEX_NAME = f'projects/{PROJECT_NUM}/locations/{REGION}/indexes/{TARGET_INDEX_ID}'\n",
    "print(f\"TARGET_INDEX_NAME : {TARGET_INDEX_NAME}\")"
   ]
  },
  {
   "cell_type": "code",
   "execution_count": 67,
   "id": "3fe3f1f6-c170-4b67-8b2d-65f1b2f057b3",
   "metadata": {
    "tags": []
   },
   "outputs": [
    {
     "data": {
      "text/plain": [
       "<src.export_vdf.vertexai_vector_search_export.ExportVertexAIVectorSearch at 0x7fa19e384f70>"
      ]
     },
     "execution_count": 67,
     "metadata": {},
     "output_type": "execute_result"
    }
   ],
   "source": [
    "my_export_args = {\n",
    "    \"project_id\": PROJECT_ID,\n",
    "    \"location\": REGION,\n",
    "    # \"index\": TARGET_INDEX_NAME,\n",
    "    \"index\": TARGET_INDEX_DISPLAY_NAME,\n",
    "    \"library_version\": VDF_VERSION,\n",
    "    \"dir\": \".\",\n",
    "    \"model_name\":\"jt-emb-model\",\n",
    "}\n",
    "\n",
    "export_vvs = ExportVertexAIVectorSearch(\n",
    "    args=my_export_args \n",
    ")\n",
    "\n",
    "export_vvs"
   ]
  },
  {
   "cell_type": "code",
   "execution_count": 68,
   "id": "c978e547-b4d6-4551-9e0e-71e3b731db77",
   "metadata": {
    "tags": []
   },
   "outputs": [
    {
     "data": {
      "text/plain": [
       "{'project_id': 'hybrid-vertex',\n",
       " 'location': 'us-central1',\n",
       " 'index': 'soverflow_vvs_vectorio_pubv2',\n",
       " 'library_version': 'v1',\n",
       " 'dir': '.',\n",
       " 'model_name': 'jt-emb-model'}"
      ]
     },
     "execution_count": 68,
     "metadata": {},
     "output_type": "execute_result"
    }
   ],
   "source": [
    "export_vvs.args"
   ]
  },
  {
   "cell_type": "code",
   "execution_count": 69,
   "id": "a3ed070e-12ca-463b-b29c-bd5979a2f4a4",
   "metadata": {
    "tags": []
   },
   "outputs": [
    {
     "data": {
      "text/plain": [
       "'vdf_20240130_033945_6b1d0'"
      ]
     },
     "execution_count": 69,
     "metadata": {},
     "output_type": "execute_result"
    }
   ],
   "source": [
    "export_vvs.vdf_directory"
   ]
  },
  {
   "cell_type": "code",
   "execution_count": 70,
   "id": "ee14449e-d014-483e-909e-1abb87576156",
   "metadata": {
    "tags": []
   },
   "outputs": [
    {
     "name": "stderr",
     "output_type": "stream",
     "text": [
      "Fetching indexes:   0%|          | 0/1 [00:00<?, ?it/s]\n"
     ]
    },
    {
     "ename": "Exception",
     "evalue": "Index not deployed to an endpoint. Cannot export index data",
     "output_type": "error",
     "traceback": [
      "\u001b[0;31m---------------------------------------------------------------------------\u001b[0m",
      "\u001b[0;31mException\u001b[0m                                 Traceback (most recent call last)",
      "Cell \u001b[0;32mIn[70], line 1\u001b[0m\n\u001b[0;32m----> 1\u001b[0m \u001b[43mexport_vvs\u001b[49m\u001b[38;5;241;43m.\u001b[39;49m\u001b[43mget_data\u001b[49m\u001b[43m(\u001b[49m\u001b[43m)\u001b[49m\n",
      "File \u001b[0;32m~/vector-io/src/export_vdf/vertexai_vector_search_export.py:63\u001b[0m, in \u001b[0;36mExportVertexAIVectorSearch.get_data\u001b[0;34m(self)\u001b[0m\n\u001b[1;32m     61\u001b[0m index_metas \u001b[38;5;241m=\u001b[39m {}\n\u001b[1;32m     62\u001b[0m \u001b[38;5;28;01mfor\u001b[39;00m index_name \u001b[38;5;129;01min\u001b[39;00m tqdm(index_names, desc\u001b[38;5;241m=\u001b[39m\u001b[38;5;124m\"\u001b[39m\u001b[38;5;124mFetching indexes\u001b[39m\u001b[38;5;124m\"\u001b[39m):\n\u001b[0;32m---> 63\u001b[0m     index_meta \u001b[38;5;241m=\u001b[39m \u001b[38;5;28;43mself\u001b[39;49m\u001b[38;5;241;43m.\u001b[39;49m\u001b[43mget_data_for_index\u001b[49m\u001b[43m(\u001b[49m\u001b[43mindex_name\u001b[49m\u001b[43m)\u001b[49m\n\u001b[1;32m     64\u001b[0m     index_metas[index_name] \u001b[38;5;241m=\u001b[39m index_meta\n\u001b[1;32m     66\u001b[0m \u001b[38;5;66;03m# Create and save internal metadata JSON\u001b[39;00m\n",
      "File \u001b[0;32m~/vector-io/src/export_vdf/vertexai_vector_search_export.py:101\u001b[0m, in \u001b[0;36mExportVertexAIVectorSearch.get_data_for_index\u001b[0;34m(self, index_name)\u001b[0m\n\u001b[1;32m     98\u001b[0m index_meta_list \u001b[38;5;241m=\u001b[39m []\n\u001b[1;32m     99\u001b[0m \u001b[38;5;66;03m# get index endpoint resource id and deployed index id\u001b[39;00m\n\u001b[1;32m    100\u001b[0m index_endpoint_name, deployed_index_id \u001b[38;5;241m=\u001b[39m (\n\u001b[0;32m--> 101\u001b[0m     \u001b[38;5;28;43mself\u001b[39;49m\u001b[38;5;241;43m.\u001b[39;49m\u001b[43mget_index_endpoint_name\u001b[49m\u001b[43m(\u001b[49m\u001b[43mindex_name\u001b[49m\u001b[38;5;241;43m=\u001b[39;49m\u001b[43mindex_name\u001b[49m\u001b[43m)\u001b[49m)\n\u001b[1;32m    102\u001b[0m \u001b[38;5;66;03m# print(f\"index_endpoint_name = {index_endpoint_name}\")\u001b[39;00m\n\u001b[1;32m    103\u001b[0m \u001b[38;5;66;03m# print(f\"deployed_index_id   = {deployed_index_id}\")\u001b[39;00m\n\u001b[1;32m    104\u001b[0m \n\u001b[1;32m    105\u001b[0m \u001b[38;5;66;03m# define index and index endpoint\u001b[39;00m\n\u001b[1;32m    106\u001b[0m index \u001b[38;5;241m=\u001b[39m vs(index_name\u001b[38;5;241m=\u001b[39mindex_name)\n",
      "File \u001b[0;32m~/vector-io/src/export_vdf/vertexai_vector_search_export.py:92\u001b[0m, in \u001b[0;36mExportVertexAIVectorSearch.get_index_endpoint_name\u001b[0;34m(self, index_name)\u001b[0m\n\u001b[1;32m     90\u001b[0m     deployed_index_id \u001b[38;5;241m=\u001b[39m index_endpoints[\u001b[38;5;241m0\u001b[39m][\u001b[38;5;241m1\u001b[39m]\n\u001b[1;32m     91\u001b[0m \u001b[38;5;28;01melse\u001b[39;00m:\n\u001b[0;32m---> 92\u001b[0m     \u001b[38;5;28;01mraise\u001b[39;00m \u001b[38;5;167;01mException\u001b[39;00m(\u001b[38;5;124m\"\u001b[39m\u001b[38;5;124mIndex not deployed to an endpoint. Cannot export index data\u001b[39m\u001b[38;5;124m\"\u001b[39m)\n\u001b[1;32m     94\u001b[0m \u001b[38;5;28;01mreturn\u001b[39;00m index_endpoint_name, deployed_index_id\n",
      "\u001b[0;31mException\u001b[0m: Index not deployed to an endpoint. Cannot export index data"
     ]
    }
   ],
   "source": [
    "export_vvs.get_data()"
   ]
  },
  {
   "cell_type": "code",
   "execution_count": 51,
   "id": "07d83c55-f405-4962-a86d-5b0e07b3900a",
   "metadata": {
    "tags": []
   },
   "outputs": [],
   "source": [
    "VDF_EXPORT_DIR_PATH = \"./vdf_20240130_031423_0e2ed\""
   ]
  },
  {
   "cell_type": "code",
   "execution_count": 55,
   "id": "d933fd1e-a3ec-498e-bf97-a9f2740024b3",
   "metadata": {
    "tags": []
   },
   "outputs": [
    {
     "name": "stdout",
     "output_type": "stream",
     "text": [
      "{'version': 'v1', 'file_structure': ['vdf_20240130_031423_0e2ed/vectorstore_thd_v1/1.parquet', 'vdf_20240130_031423_0e2ed/VDF_META.json'], 'author': 'jupyter', 'exported_from': 'vertexai_vectorsearch', 'indexes': {'projects/934903580331/locations/us-central1/indexes/5271278645883699200': [{'index_name': 'vectorstore_thd_v1', 'namespace': 'namespace', 'total_vector_count': 631, 'exported_vector_count': 631, 'metric': 'Dot', 'dimensions': 768, 'model_name': 'jt-emb-model', 'vector_columns': ['vector'], 'data_path': 'vdf_20240130_031423_0e2ed/vectorstore_thd_v1'}]}}\n"
     ]
    }
   ],
   "source": [
    "with open(f\"{VDF_EXPORT_DIR_PATH}/VDF_META.json\") as f:\n",
    "    d = json.load(f)\n",
    "    print(d)"
   ]
  },
  {
   "cell_type": "code",
   "execution_count": 53,
   "id": "e1378bae-b7a3-48a2-8c52-cf8da46778a3",
   "metadata": {
    "tags": []
   },
   "outputs": [
    {
     "name": "stdout",
     "output_type": "stream",
     "text": [
      "{'data_path': 'vdf_20240130_031423_0e2ed/vectorstore_thd_v1',\n",
      " 'dimensions': 768,\n",
      " 'exported_vector_count': 631,\n",
      " 'index_name': 'vectorstore_thd_v1',\n",
      " 'metric': 'Dot',\n",
      " 'model_name': 'jt-emb-model',\n",
      " 'namespace': 'namespace',\n",
      " 'total_vector_count': 631,\n",
      " 'vector_columns': ['vector']}\n"
     ]
    }
   ],
   "source": [
    "for index_name, index_meta in d[\"indexes\"].items():\n",
    "    # print(index_name)\n",
    "    # print(index_meta)\n",
    "    for namespace_meta in index_meta:\n",
    "        pprint(namespace_meta)"
   ]
  },
  {
   "cell_type": "code",
   "execution_count": 54,
   "id": "10f856f5-0ef0-4fd1-8ed9-77dbca099879",
   "metadata": {
    "tags": []
   },
   "outputs": [
    {
     "data": {
      "text/html": [
       "<div>\n",
       "<style scoped>\n",
       "    .dataframe tbody tr th:only-of-type {\n",
       "        vertical-align: middle;\n",
       "    }\n",
       "\n",
       "    .dataframe tbody tr th {\n",
       "        vertical-align: top;\n",
       "    }\n",
       "\n",
       "    .dataframe thead th {\n",
       "        text-align: right;\n",
       "    }\n",
       "</style>\n",
       "<table border=\"1\" class=\"dataframe\">\n",
       "  <thead>\n",
       "    <tr style=\"text-align: right;\">\n",
       "      <th></th>\n",
       "      <th>id</th>\n",
       "      <th>vector</th>\n",
       "    </tr>\n",
       "  </thead>\n",
       "  <tbody>\n",
       "    <tr>\n",
       "      <th>0</th>\n",
       "      <td>817b6e36-3529-4d8b-afb8-bbf3ca25c9f5</td>\n",
       "      <td>[-0.023853905498981476, -0.027847183868288994,...</td>\n",
       "    </tr>\n",
       "  </tbody>\n",
       "</table>\n",
       "</div>"
      ],
      "text/plain": [
       "                                     id  \\\n",
       "0  817b6e36-3529-4d8b-afb8-bbf3ca25c9f5   \n",
       "\n",
       "                                              vector  \n",
       "0  [-0.023853905498981476, -0.027847183868288994,...  "
      ]
     },
     "execution_count": 54,
     "metadata": {},
     "output_type": "execute_result"
    }
   ],
   "source": [
    "file_path = f\"{VDF_EXPORT_DIR_PATH}/{TARGET_INDEX_DISPLAY_NAME}/1.parquet\"\n",
    "\n",
    "test_parquet_df = pd.read_parquet(file_path)\n",
    "test_parquet_df.head(1)"
   ]
  },
  {
   "cell_type": "code",
   "execution_count": null,
   "id": "2995a1f8-2040-4a85-b78b-8f4c6cc9a0d6",
   "metadata": {},
   "outputs": [],
   "source": []
  }
 ],
 "metadata": {
  "environment": {
   "kernel": "python3",
   "name": "tf2-gpu.2-13.m115",
   "type": "gcloud",
   "uri": "gcr.io/deeplearning-platform-release/tf2-gpu.2-13:m115"
  },
  "kernelspec": {
   "display_name": "Python 3",
   "language": "python",
   "name": "python3"
  },
  "language_info": {
   "codemirror_mode": {
    "name": "ipython",
    "version": 3
   },
   "file_extension": ".py",
   "mimetype": "text/x-python",
   "name": "python",
   "nbconvert_exporter": "python",
   "pygments_lexer": "ipython3",
   "version": "3.10.13"
  }
 },
 "nbformat": 4,
 "nbformat_minor": 5
}
