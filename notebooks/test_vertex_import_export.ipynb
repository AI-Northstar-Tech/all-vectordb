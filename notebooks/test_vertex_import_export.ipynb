{
 "cells": [
  {
   "cell_type": "markdown",
   "id": "1b771f52-8176-4a35-9bb4-7c017fd2b45b",
   "metadata": {},
   "source": [
    "# Testing import and export classes for Vertex AI Vecto Search\n",
    "\n",
    "> TODO: test public and private endpoints"
   ]
  },
  {
   "cell_type": "code",
   "execution_count": 1,
   "id": "be6ef8e4-e141-4673-8b1d-bc43770b03fb",
   "metadata": {
    "tags": []
   },
   "outputs": [
    {
     "name": "stdout",
     "output_type": "stream",
     "text": [
      "/home/jupyter/vector-io\n"
     ]
    }
   ],
   "source": [
    "!pwd"
   ]
  },
  {
   "cell_type": "code",
   "execution_count": 2,
   "id": "71130123-7986-40ca-b7fd-fca6fcba782c",
   "metadata": {
    "tags": []
   },
   "outputs": [],
   "source": [
    "# create new gcs bucket, vs index, etc.?\n",
    "CREATE_NEW_ASSETS         = False "
   ]
  },
  {
   "cell_type": "code",
   "execution_count": 3,
   "id": "de21ad21-547a-4039-ba8e-77feab44de0a",
   "metadata": {
    "tags": []
   },
   "outputs": [
    {
     "name": "stdout",
     "output_type": "stream",
     "text": [
      "PREFIX = vvs-vectorio-pubv2\n"
     ]
    }
   ],
   "source": [
    "# naming convention for all cloud resources\n",
    "VERSION        = \"pubv2\"                     # TODO\n",
    "PREFIX         = f'vvs-vectorio-{VERSION}'   # TODO\n",
    "\n",
    "print(f\"PREFIX = {PREFIX}\")"
   ]
  },
  {
   "cell_type": "markdown",
   "id": "4e9c65c4-3a2e-4724-8296-06deddfd21a0",
   "metadata": {},
   "source": [
    "## Load notebook config"
   ]
  },
  {
   "cell_type": "code",
   "execution_count": 4,
   "id": "f3a2a3d3-c1d0-48eb-bede-1939b4d77e78",
   "metadata": {
    "tags": []
   },
   "outputs": [
    {
     "name": "stdout",
     "output_type": "stream",
     "text": [
      "\n",
      "PREFIX                   = \"vvs-vectorio-pubv2\"\n",
      "VERSION                  = \"pubv2\"\n",
      "\n",
      "PROJECT_ID               = \"hybrid-vertex\"\n",
      "PROJECT_NUM              = \"934903580331\"\n",
      "\n",
      "REGION                   = \"us-central1\"\n",
      "BQ_REGION                = \"US\"\n",
      "\n",
      "VERTEX_SA                = \"934903580331-compute@developer.gserviceaccount.com\"\n",
      "\n",
      "VPC_NETWORK_NAME         = \"\"\n",
      "VPC_NETWORK_FULL         = \"projects/934903580331/global/networks/\"\n",
      "\n",
      "USE_PUBLIC_ENDPOINTS     = \"True\"\n",
      "\n",
      "BUCKET_NAME              = \"vvs-vectorio-pubv2-hybrid-vertex\"\n",
      "BUCKET_URI               = \"gs://vvs-vectorio-pubv2-hybrid-vertex\"\n",
      "\n"
     ]
    }
   ],
   "source": [
    "# staging GCS\n",
    "GCP_PROJECTS             = !gcloud config get-value project\n",
    "PROJECT_ID               = GCP_PROJECTS[0]\n",
    "\n",
    "# GCS bucket and paths\n",
    "BUCKET_NAME              = f'{PREFIX}-{PROJECT_ID}'\n",
    "BUCKET_URI               = f'gs://{BUCKET_NAME}'\n",
    "\n",
    "config = !gsutil cat {BUCKET_URI}/config/notebook_env.py\n",
    "print(config.n)\n",
    "exec(config.n)"
   ]
  },
  {
   "cell_type": "markdown",
   "id": "a29b1b2d-2129-4eb4-9459-8eaa13a2ea5e",
   "metadata": {},
   "source": [
    "## Imports"
   ]
  },
  {
   "cell_type": "code",
   "execution_count": 5,
   "id": "2c3a217d-3220-4b0b-98d7-30b3ce718680",
   "metadata": {
    "tags": []
   },
   "outputs": [
    {
     "name": "stdout",
     "output_type": "stream",
     "text": [
      "BigQuery SDK version      : 3.15.0\n",
      "Vertex AI SDK version     : 1.39.0\n",
      "Cloud Storage SDK version : 2.14.0\n"
     ]
    }
   ],
   "source": [
    "import pandas as pd\n",
    "import numpy as np\n",
    "import time \n",
    "import json\n",
    "import uuid\n",
    "\n",
    "from pprint import pprint\n",
    "\n",
    "from google.cloud import aiplatform as aip\n",
    "from google.cloud import storage\n",
    "from google.cloud import bigquery\n",
    "\n",
    "# logging\n",
    "import logging\n",
    "logging.disable(logging.WARNING)\n",
    "\n",
    "#python warning \n",
    "import warnings\n",
    "warnings.filterwarnings(\"ignore\")\n",
    "\n",
    "print(f'BigQuery SDK version      : {bigquery.__version__}')\n",
    "print(f'Vertex AI SDK version     : {aip.__version__}')\n",
    "print(f'Cloud Storage SDK version : {storage.__version__}')"
   ]
  },
  {
   "cell_type": "markdown",
   "id": "8abc7647-6323-44e9-b52e-878da310e222",
   "metadata": {},
   "source": [
    "### init Google Cloud SDK clients"
   ]
  },
  {
   "cell_type": "code",
   "execution_count": 6,
   "id": "265fc1aa-cc73-47aa-b672-ed1ca7ed71c8",
   "metadata": {
    "tags": []
   },
   "outputs": [],
   "source": [
    "# cloud storage client\n",
    "storage_client = storage.Client(project=PROJECT_ID)\n",
    "\n",
    "# Vertex client\n",
    "aip.init(project=PROJECT_ID, location=REGION)"
   ]
  },
  {
   "cell_type": "markdown",
   "id": "3303f83d-36f1-4aa7-a50f-115f1e68e5b3",
   "metadata": {},
   "source": [
    "### Vertex AI import & export classes"
   ]
  },
  {
   "cell_type": "code",
   "execution_count": 7,
   "id": "1b0ee514-c92b-4c8c-ab8e-ccde62eecbd3",
   "metadata": {
    "tags": []
   },
   "outputs": [],
   "source": [
    "import sys\n",
    "import os\n",
    "\n",
    "sys.path.append(\"..\")\n",
    "from src.import_vdf.vertexai_vector_search_import import ImportVertexAIVectorSearch\n",
    "from src.export_vdf.vertexai_vector_search_export import ExportVertexAIVectorSearch\n",
    "from src.names import DBNames"
   ]
  },
  {
   "cell_type": "markdown",
   "id": "fbd04cac-de41-47ee-86e0-4303773415a2",
   "metadata": {},
   "source": [
    "## Create test import data\n",
    "\n",
    "> TODO"
   ]
  },
  {
   "cell_type": "code",
   "execution_count": null,
   "id": "6d059861-8302-46c7-a60d-2827104ab0ca",
   "metadata": {},
   "outputs": [],
   "source": []
  },
  {
   "cell_type": "code",
   "execution_count": null,
   "id": "141271bb-3e0c-4200-b377-8da66ab261c0",
   "metadata": {},
   "outputs": [],
   "source": []
  },
  {
   "cell_type": "markdown",
   "id": "92289e76-629f-4ab7-8cae-570d2c5b247e",
   "metadata": {},
   "source": [
    "## VDF Metadata json"
   ]
  },
  {
   "cell_type": "code",
   "execution_count": 30,
   "id": "74abb440-7fd5-4bf6-8907-7d66425042fb",
   "metadata": {
    "tags": []
   },
   "outputs": [
    {
     "name": "stdout",
     "output_type": "stream",
     "text": [
      "TEST_FILE_1   : notebooks/data/1500_2000_100/tmpqxi_pbxv/tmpmee85mkz_1501.parquet\n",
      "TEST_VDF_META : notebooks/data/1500_2000_100/VDF_META.json\n",
      "DIMENSIONS    : 768\n",
      "VDF_VERSION   : v1\n",
      "TIMESTAMP_vdf : 20240130-044708\n"
     ]
    }
   ],
   "source": [
    "TEST_DIR = \"notebooks/data/1500_2000_100\"\n",
    "TEST_DATA_DIR = f\"{TEST_DIR}/tmpqxi_pbxv\"\n",
    "\n",
    "# local vdf json file\n",
    "TEST_VDF_META = f\"{TEST_DIR}/VDF_META.json\"\n",
    "\n",
    "# test parquet files\n",
    "TEST_FILE_1 = f\"{TEST_DATA_DIR}/tmpmee85mkz_1501.parquet\"\n",
    "TEST_FILE_2 = f\"{TEST_DATA_DIR}/tmpmee85mkz_1502.parquet\"\n",
    "TEST_FILE_3 = f\"{TEST_DATA_DIR}/tmpmee85mkz_1503.parquet\"\n",
    "TEST_FILE_4 = f\"{TEST_DATA_DIR}/tmpmee85mkz_1504.parquet\"\n",
    "\n",
    "DIMENSIONS = 768\n",
    "VDF_VERSION = \"v1\"\n",
    "TIMESTAMP_vdf = time.strftime(\"%Y%m%d-%H%M%S\")\n",
    "\n",
    "print(f\"TEST_FILE_1   : {TEST_FILE_1}\")\n",
    "print(f\"TEST_VDF_META : {TEST_VDF_META}\")\n",
    "print(f\"DIMENSIONS    : {DIMENSIONS}\")\n",
    "print(f\"VDF_VERSION   : {VDF_VERSION}\")\n",
    "print(f\"TIMESTAMP_vdf : {TIMESTAMP_vdf}\")"
   ]
  },
  {
   "cell_type": "code",
   "execution_count": 31,
   "id": "acad715d-5565-4e0a-9af7-66a7a47ff524",
   "metadata": {
    "tags": []
   },
   "outputs": [
    {
     "name": "stdout",
     "output_type": "stream",
     "text": [
      "{'author': 'jordantotten',\n",
      " 'exported_at': '20240130-044708',\n",
      " 'exported_from': 'vertex',\n",
      " 'file_structure': ['notebooks/data/1500_2000_100/tmpqxi_pbxv/tmpmee85mkz_1502.parquet',\n",
      "                    'notebooks/data/1500_2000_100/VDF_META.json'],\n",
      " 'indexes': {'test_tmp_index': [{'data_path': 'notebooks/data/1500_2000_100/tmpqxi_pbxv',\n",
      "                                 'dimensions': 768,\n",
      "                                 'exported_vector_count': 100,\n",
      "                                 'metric': 'Dot',\n",
      "                                 'model_name': 'vertex',\n",
      "                                 'namespace': 'so_questions',\n",
      "                                 'total_vector_count': 100,\n",
      "                                 'vector_columns': ['embedding']}]},\n",
      " 'version': 'v1'}\n"
     ]
    }
   ],
   "source": [
    "my_vdf = {\n",
    "    \"author\": \"jordantotten\",\n",
    "    \"exported_from\": \"vertex\",\n",
    "    \"file_structure\": [\n",
    "        # TEST_FILE_1,\n",
    "        TEST_FILE_2,\n",
    "        # TEST_FILE_3,\n",
    "        # TEST_FILE_4,\n",
    "        TEST_VDF_META\n",
    "    ],\n",
    "    \"version\": VDF_VERSION,\n",
    "    \"exported_at\": TIMESTAMP_vdf, #'2024-01-28T00:00:00Z',\n",
    "    \"indexes\": {\n",
    "            \"test_tmp_index\": [\n",
    "                {\n",
    "                    \"data_path\": TEST_DATA_DIR,\n",
    "                    \"dimensions\": DIMENSIONS,\n",
    "                    \"exported_vector_count\": 100,\n",
    "                    \"metric\": \"Dot\",\n",
    "                    \"model_name\": \"vertex\",\n",
    "                    \"namespace\": \"so_questions\",\n",
    "                    \"total_vector_count\": 100,\n",
    "                    \"vector_columns\": [\"embedding\"]\n",
    "                }\n",
    "            ]\n",
    "    }\n",
    "}\n",
    "pprint(my_vdf)"
   ]
  },
  {
   "cell_type": "code",
   "execution_count": 32,
   "id": "19a5246b-bcf8-420d-8528-abefd441c5a9",
   "metadata": {
    "tags": []
   },
   "outputs": [
    {
     "name": "stdout",
     "output_type": "stream",
     "text": [
      "notebooks/data/1500_2000_100/tmpqxi_pbxv\n"
     ]
    }
   ],
   "source": [
    "for index_name, index_meta in my_vdf[\"indexes\"].items():\n",
    "    # print(index_name)\n",
    "    # print(index_meta)\n",
    "    for namespace_meta in index_meta:\n",
    "        # pprint(namespace_meta)\n",
    "        print(namespace_meta['data_path'])"
   ]
  },
  {
   "cell_type": "code",
   "execution_count": 33,
   "id": "5af570bd-4113-4609-827c-44a5adf5667b",
   "metadata": {
    "tags": []
   },
   "outputs": [],
   "source": [
    "import json\n",
    "with open(f\"{TEST_VDF_META}\", 'w') as fp:\n",
    "    json.dump(my_vdf, fp)"
   ]
  },
  {
   "cell_type": "markdown",
   "id": "30cd0776-5c7b-4257-bdae-015fb1ede48c",
   "metadata": {},
   "source": [
    "# Vertex AI Vector Search Index"
   ]
  },
  {
   "cell_type": "markdown",
   "id": "fdbd0bd5-e244-4500-a63e-000109364bed",
   "metadata": {},
   "source": [
    "### Existing VDF json"
   ]
  },
  {
   "cell_type": "code",
   "execution_count": 34,
   "id": "075869ae-aa02-434f-bf0e-e68d608e4a47",
   "metadata": {
    "tags": []
   },
   "outputs": [
    {
     "name": "stdout",
     "output_type": "stream",
     "text": [
      "{'author': 'jordantotten',\n",
      " 'exported_at': '20240130-044708',\n",
      " 'exported_from': 'vertex',\n",
      " 'file_structure': ['notebooks/data/1500_2000_100/tmpqxi_pbxv/tmpmee85mkz_1502.parquet',\n",
      "                    'notebooks/data/1500_2000_100/VDF_META.json'],\n",
      " 'indexes': {'test_tmp_index': [{'data_path': 'notebooks/data/1500_2000_100/tmpqxi_pbxv',\n",
      "                                 'dimensions': 768,\n",
      "                                 'exported_vector_count': 100,\n",
      "                                 'metric': 'Dot',\n",
      "                                 'model_name': 'vertex',\n",
      "                                 'namespace': 'so_questions',\n",
      "                                 'total_vector_count': 100,\n",
      "                                 'vector_columns': ['embedding']}]},\n",
      " 'version': 'v1'}\n"
     ]
    }
   ],
   "source": [
    "with open(f\"{TEST_VDF_META}\") as f:\n",
    "    d = json.load(f)\n",
    "    pprint(d)"
   ]
  },
  {
   "cell_type": "markdown",
   "id": "7648600a-e6c0-42ff-859a-2223a0cb4452",
   "metadata": {},
   "source": [
    "## Initialize import class\n",
    "\n",
    "> Pass config for target index to import vectors to"
   ]
  },
  {
   "cell_type": "code",
   "execution_count": 35,
   "id": "97034ecf-34cc-4337-861c-6f68a843fe8f",
   "metadata": {
    "tags": []
   },
   "outputs": [
    {
     "name": "stdout",
     "output_type": "stream",
     "text": [
      "TARGET_INDEX_DISPLAY_NAME : soverflow_vvs_vectorio_pubv2\n"
     ]
    }
   ],
   "source": [
    "TARGET_INDEX_DISPLAY_NAME = \"soverflow_vvs_vectorio_pubv2\"\n",
    "TARGET_INDEX_ID = \"7264767993832275968\"\n",
    "\n",
    "print(f\"TARGET_INDEX_DISPLAY_NAME : {TARGET_INDEX_DISPLAY_NAME}\")"
   ]
  },
  {
   "cell_type": "code",
   "execution_count": 36,
   "id": "07f9eef5-f860-470c-aba6-f19da570b9af",
   "metadata": {
    "tags": []
   },
   "outputs": [
    {
     "name": "stdout",
     "output_type": "stream",
     "text": [
      "{'batch_size': 50,\n",
      " 'dir': './notebooks/data/1500_2000_100',\n",
      " 'library_version': 'v1',\n",
      " 'location': 'us-central1',\n",
      " 'project_id': 'hybrid-vertex',\n",
      " 'project_num': '934903580331',\n",
      " 'target_index_id': '7264767993832275968'}\n"
     ]
    }
   ],
   "source": [
    "my_import_args = {\n",
    "    \"project_id\": PROJECT_ID,\n",
    "    \"location\": REGION,\n",
    "    \"project_num\" : PROJECT_NUM,\n",
    "    \"target_index_id\": TARGET_INDEX_ID,\n",
    "    \"batch_size\": 50,\n",
    "    \"library_version\": VDF_VERSION,\n",
    "    \"dir\": VDF_DIR_PATH,\n",
    "}\n",
    "pprint(my_import_args)"
   ]
  },
  {
   "cell_type": "code",
   "execution_count": 37,
   "id": "1346e6de-1cda-40f0-b6c8-81ed0fe52e58",
   "metadata": {
    "tags": []
   },
   "outputs": [
    {
     "name": "stdout",
     "output_type": "stream",
     "text": [
      "Importing to index : soverflow_vvs_vectorio_pubv2\n",
      "Full resource name : projects/934903580331/locations/us-central1/indexes/7264767993832275968\n",
      "Target index config:\n",
      "{\n",
      "    \"dimensions\": 768.0,\n",
      "    \"approximateNeighborsCount\": 150.0,\n",
      "    \"distanceMeasureType\": \"DOT_PRODUCT_DISTANCE\",\n",
      "    \"algorithmConfig\": {\n",
      "        \"treeAhConfig\": {\n",
      "            \"leafNodeEmbeddingCount\": \"500\",\n",
      "            \"leafNodesToSearchPercent\": 80.0\n",
      "        }\n",
      "    },\n",
      "    \"shardSize\": \"SHARD_SIZE_MEDIUM\"\n",
      "}\n"
     ]
    },
    {
     "data": {
      "text/plain": [
       "<src.import_vdf.vertexai_vector_search_import.ImportVertexAIVectorSearch at 0x7f10da13b160>"
      ]
     },
     "execution_count": 37,
     "metadata": {},
     "output_type": "execute_result"
    }
   ],
   "source": [
    "import_vvs = ImportVertexAIVectorSearch(\n",
    "    args=my_import_args \n",
    ")\n",
    "\n",
    "import_vvs"
   ]
  },
  {
   "cell_type": "code",
   "execution_count": 38,
   "id": "b22f76ad-cc06-48bf-9153-17b05d7a07d9",
   "metadata": {
    "tags": []
   },
   "outputs": [
    {
     "data": {
      "text/plain": [
       "{'author': 'jordantotten',\n",
       " 'exported_from': 'vertex',\n",
       " 'file_structure': ['notebooks/data/1500_2000_100/tmpqxi_pbxv/tmpmee85mkz_1502.parquet',\n",
       "  'notebooks/data/1500_2000_100/VDF_META.json'],\n",
       " 'version': 'v1',\n",
       " 'exported_at': '20240130-044708',\n",
       " 'indexes': {'test_tmp_index': [{'data_path': 'notebooks/data/1500_2000_100/tmpqxi_pbxv',\n",
       "    'dimensions': 768,\n",
       "    'exported_vector_count': 100,\n",
       "    'metric': 'Dot',\n",
       "    'model_name': 'vertex',\n",
       "    'namespace': 'so_questions',\n",
       "    'total_vector_count': 100,\n",
       "    'vector_columns': ['embedding']}]}}"
      ]
     },
     "execution_count": 38,
     "metadata": {},
     "output_type": "execute_result"
    }
   ],
   "source": [
    "import_vvs.vdf_meta"
   ]
  },
  {
   "cell_type": "code",
   "execution_count": 39,
   "id": "969f5da2-f8c6-48c6-babc-a5c9e5d21e48",
   "metadata": {
    "tags": []
   },
   "outputs": [
    {
     "name": "stdout",
     "output_type": "stream",
     "text": [
      "Importing data from: test_tmp_index\n",
      "index_meta: [{'data_path': 'notebooks/data/1500_2000_100/tmpqxi_pbxv', 'dimensions': 768, 'exported_vector_count': 100, 'metric': 'Dot', 'model_name': 'vertex', 'namespace': 'so_questions', 'total_vector_count': 100, 'vector_columns': ['embedding']}]\n",
      "data_path: notebooks/data/1500_2000_100/tmpqxi_pbxv\n",
      "vector_column_name    : embedding\n",
      "vector_metadata_names : ['embedding']\n"
     ]
    },
    {
     "name": "stderr",
     "output_type": "stream",
     "text": [
      "Inserting data: 100%|██████████| 4/4 [00:02<00:00,  1.54it/s]"
     ]
    },
    {
     "name": "stdout",
     "output_type": "stream",
     "text": [
      "Index import complete\n",
      "Updated soverflow_vvs_vectorio_pubv2 with 400 vectors\n"
     ]
    },
    {
     "name": "stderr",
     "output_type": "stream",
     "text": [
      "\n"
     ]
    }
   ],
   "source": [
    "import_vvs.upsert_data()"
   ]
  },
  {
   "cell_type": "markdown",
   "id": "4b0e3067-4eac-441f-a00a-021396e70bc3",
   "metadata": {},
   "source": [
    "### check index vector count"
   ]
  },
  {
   "cell_type": "code",
   "execution_count": 40,
   "id": "60b99ec6-9512-4300-a24f-da347529518d",
   "metadata": {
    "tags": []
   },
   "outputs": [
    {
     "name": "stdout",
     "output_type": "stream",
     "text": [
      "TARGET_INDEX_NAME : projects/934903580331/locations/us-central1/indexes/7264767993832275968\n"
     ]
    }
   ],
   "source": [
    "# # set index full resource name\n",
    "TARGET_INDEX_NAME = f'projects/{PROJECT_NUM}/locations/{REGION}/indexes/{TARGET_INDEX_ID}'\n",
    "print(f\"TARGET_INDEX_NAME : {TARGET_INDEX_NAME}\")"
   ]
  },
  {
   "cell_type": "code",
   "execution_count": 41,
   "id": "d95da0ea-e243-4748-93d8-db6759009460",
   "metadata": {
    "tags": []
   },
   "outputs": [
    {
     "data": {
      "text/plain": [
       "{'name': 'projects/934903580331/locations/us-central1/indexes/7264767993832275968',\n",
       " 'displayName': 'soverflow_vvs_vectorio_pubv2',\n",
       " 'description': 'sample index for vectorio demo',\n",
       " 'metadataSchemaUri': 'gs://google-cloud-aiplatform/schema/matchingengine/metadata/nearest_neighbor_search_1.0.0.yaml',\n",
       " 'metadata': {'config': {'dimensions': 768.0,\n",
       "   'approximateNeighborsCount': 150.0,\n",
       "   'distanceMeasureType': 'DOT_PRODUCT_DISTANCE',\n",
       "   'algorithmConfig': {'treeAhConfig': {'leafNodeEmbeddingCount': '500',\n",
       "     'leafNodesToSearchPercent': 80.0}},\n",
       "   'shardSize': 'SHARD_SIZE_MEDIUM'}},\n",
       " 'deployedIndexes': [{'indexEndpoint': 'projects/934903580331/locations/us-central1/indexEndpoints/5915095480504680448',\n",
       "   'deployedIndexId': 'deployed_20240130_034024'}],\n",
       " 'etag': 'AMEw9yN-Ep-j9WByszWVykHkJk0cYb0HKSIbqnOjVE7XljP8lIm9JcQCP2Zbr7jUgtU=',\n",
       " 'labels': {'prefix': 'vvs-vectorio-pubv2'},\n",
       " 'createTime': '2024-01-30T03:36:56.951497Z',\n",
       " 'updateTime': '2024-01-30T03:37:10.208162Z',\n",
       " 'indexStats': {'vectorsCount': '100', 'shardsCount': 1},\n",
       " 'indexUpdateMethod': 'STREAM_UPDATE',\n",
       " 'encryptionSpec': {}}"
      ]
     },
     "execution_count": 41,
     "metadata": {},
     "output_type": "execute_result"
    }
   ],
   "source": [
    "my_vs_index = aip.MatchingEngineIndex(TARGET_INDEX_NAME)\n",
    "\n",
    "my_vs_index.to_dict()"
   ]
  },
  {
   "cell_type": "markdown",
   "id": "475bd87d-40f6-4b50-ba24-6d420ddd6130",
   "metadata": {},
   "source": [
    "## Export from existing Vertex AI Vector Search index"
   ]
  },
  {
   "cell_type": "code",
   "execution_count": 42,
   "id": "2b438f55-c6af-4346-b5dd-f67ead096017",
   "metadata": {
    "tags": []
   },
   "outputs": [
    {
     "name": "stdout",
     "output_type": "stream",
     "text": [
      "TARGET_INDEX_NAME : projects/934903580331/locations/us-central1/indexes/7264767993832275968\n"
     ]
    }
   ],
   "source": [
    "# # set index full resource name\n",
    "TARGET_INDEX_NAME = f'projects/{PROJECT_NUM}/locations/{REGION}/indexes/{TARGET_INDEX_ID}'\n",
    "print(f\"TARGET_INDEX_NAME : {TARGET_INDEX_NAME}\")"
   ]
  },
  {
   "cell_type": "code",
   "execution_count": 43,
   "id": "3fe3f1f6-c170-4b67-8b2d-65f1b2f057b3",
   "metadata": {
    "tags": []
   },
   "outputs": [
    {
     "data": {
      "text/plain": [
       "<src.export_vdf.vertexai_vector_search_export.ExportVertexAIVectorSearch at 0x7f10da138190>"
      ]
     },
     "execution_count": 43,
     "metadata": {},
     "output_type": "execute_result"
    }
   ],
   "source": [
    "my_export_args = {\n",
    "    \"project_id\": PROJECT_ID,\n",
    "    \"location\": REGION,\n",
    "    # \"index\": TARGET_INDEX_NAME,\n",
    "    \"index\": TARGET_INDEX_DISPLAY_NAME,\n",
    "    \"library_version\": VDF_VERSION,\n",
    "    \"dir\": \".\",\n",
    "    \"model_name\":\"jt-emb-model\",\n",
    "}\n",
    "\n",
    "export_vvs = ExportVertexAIVectorSearch(\n",
    "    args=my_export_args \n",
    ")\n",
    "\n",
    "export_vvs"
   ]
  },
  {
   "cell_type": "code",
   "execution_count": 44,
   "id": "c978e547-b4d6-4551-9e0e-71e3b731db77",
   "metadata": {
    "tags": []
   },
   "outputs": [
    {
     "data": {
      "text/plain": [
       "{'project_id': 'hybrid-vertex',\n",
       " 'location': 'us-central1',\n",
       " 'index': 'soverflow_vvs_vectorio_pubv2',\n",
       " 'library_version': 'v1',\n",
       " 'dir': '.',\n",
       " 'model_name': 'jt-emb-model'}"
      ]
     },
     "execution_count": 44,
     "metadata": {},
     "output_type": "execute_result"
    }
   ],
   "source": [
    "export_vvs.args"
   ]
  },
  {
   "cell_type": "code",
   "execution_count": 45,
   "id": "a3ed070e-12ca-463b-b29c-bd5979a2f4a4",
   "metadata": {
    "tags": []
   },
   "outputs": [
    {
     "data": {
      "text/plain": [
       "'vdf_20240130_044740_6b1d0'"
      ]
     },
     "execution_count": 45,
     "metadata": {},
     "output_type": "execute_result"
    }
   ],
   "source": [
    "export_vvs.vdf_directory"
   ]
  },
  {
   "cell_type": "code",
   "execution_count": 46,
   "id": "ee14449e-d014-483e-909e-1abb87576156",
   "metadata": {
    "tags": []
   },
   "outputs": [
    {
     "name": "stderr",
     "output_type": "stream",
     "text": [
      "Fetching indexes:   0%|          | 0/1 [00:00<?, ?it/s]\n",
      "Exporting soverflow_vvs_vectorio_pubv2:   0%|          | 0/100 [00:00<?, ?it/s]\u001b[A\n",
      "Exporting soverflow_vvs_vectorio_pubv2: 100%|██████████| 100/100 [00:00<00:00, 265.93it/s]\u001b[A\n",
      "Fetching indexes: 100%|██████████| 1/1 [00:00<00:00,  1.68it/s]"
     ]
    },
    {
     "name": "stdout",
     "output_type": "stream",
     "text": [
      "{\n",
      "    \"version\": \"v1\",\n",
      "    \"file_structure\": [\n",
      "        \"vdf_20240130_044740_6b1d0/soverflow_vvs_vectorio_pubv2/1.parquet\",\n",
      "        \"vdf_20240130_044740_6b1d0/VDF_META.json\"\n",
      "    ],\n",
      "    \"author\": \"jupyter\",\n",
      "    \"exported_from\": \"vertexai_vectorsearch\",\n",
      "    \"indexes\": {\n",
      "        \"projects/934903580331/locations/us-central1/indexes/7264767993832275968\": [\n",
      "            {\n",
      "                \"index_name\": \"soverflow_vvs_vectorio_pubv2\",\n",
      "                \"namespace\": \"namespace\",\n",
      "                \"total_vector_count\": 100,\n",
      "                \"exported_vector_count\": 100,\n",
      "                \"metric\": \"Dot\",\n",
      "                \"dimensions\": 768,\n",
      "                \"model_name\": \"jt-emb-model\",\n",
      "                \"vector_columns\": [\n",
      "                    \"vector\"\n",
      "                ],\n",
      "                \"data_path\": \"vdf_20240130_044740_6b1d0/soverflow_vvs_vectorio_pubv2\"\n",
      "            }\n",
      "        ]\n",
      "    }\n",
      "}\n"
     ]
    },
    {
     "name": "stderr",
     "output_type": "stream",
     "text": [
      "\n"
     ]
    },
    {
     "data": {
      "text/plain": [
       "True"
      ]
     },
     "execution_count": 46,
     "metadata": {},
     "output_type": "execute_result"
    }
   ],
   "source": [
    "export_vvs.get_data()"
   ]
  },
  {
   "cell_type": "code",
   "execution_count": 47,
   "id": "07d83c55-f405-4962-a86d-5b0e07b3900a",
   "metadata": {
    "tags": []
   },
   "outputs": [],
   "source": [
    "VDF_EXPORT_DIR_PATH = \"./vdf_20240130_040709_6b1d0\""
   ]
  },
  {
   "cell_type": "code",
   "execution_count": 77,
   "id": "d933fd1e-a3ec-498e-bf97-a9f2740024b3",
   "metadata": {
    "tags": []
   },
   "outputs": [
    {
     "name": "stdout",
     "output_type": "stream",
     "text": [
      "{'version': 'v1', 'file_structure': ['vdf_20240130_040709_6b1d0/soverflow_vvs_vectorio_pubv2/1.parquet', 'vdf_20240130_040709_6b1d0/VDF_META.json'], 'author': 'jupyter', 'exported_from': 'vertexai_vectorsearch', 'indexes': {'projects/934903580331/locations/us-central1/indexes/7264767993832275968': [{'index_name': 'soverflow_vvs_vectorio_pubv2', 'namespace': 'namespace', 'total_vector_count': 100, 'exported_vector_count': 100, 'metric': 'Dot', 'dimensions': 768, 'model_name': 'jt-emb-model', 'vector_columns': ['vector'], 'data_path': 'vdf_20240130_040709_6b1d0/soverflow_vvs_vectorio_pubv2'}]}}\n"
     ]
    }
   ],
   "source": [
    "with open(f\"{VDF_EXPORT_DIR_PATH}/VDF_META.json\") as f:\n",
    "    d = json.load(f)\n",
    "    print(d)"
   ]
  },
  {
   "cell_type": "code",
   "execution_count": 78,
   "id": "e1378bae-b7a3-48a2-8c52-cf8da46778a3",
   "metadata": {
    "tags": []
   },
   "outputs": [
    {
     "name": "stdout",
     "output_type": "stream",
     "text": [
      "{'data_path': 'vdf_20240130_040709_6b1d0/soverflow_vvs_vectorio_pubv2',\n",
      " 'dimensions': 768,\n",
      " 'exported_vector_count': 100,\n",
      " 'index_name': 'soverflow_vvs_vectorio_pubv2',\n",
      " 'metric': 'Dot',\n",
      " 'model_name': 'jt-emb-model',\n",
      " 'namespace': 'namespace',\n",
      " 'total_vector_count': 100,\n",
      " 'vector_columns': ['vector']}\n"
     ]
    }
   ],
   "source": [
    "for index_name, index_meta in d[\"indexes\"].items():\n",
    "    # print(index_name)\n",
    "    # print(index_meta)\n",
    "    for namespace_meta in index_meta:\n",
    "        pprint(namespace_meta)"
   ]
  },
  {
   "cell_type": "code",
   "execution_count": 79,
   "id": "10f856f5-0ef0-4fd1-8ed9-77dbca099879",
   "metadata": {
    "tags": []
   },
   "outputs": [
    {
     "data": {
      "text/html": [
       "<div>\n",
       "<style scoped>\n",
       "    .dataframe tbody tr th:only-of-type {\n",
       "        vertical-align: middle;\n",
       "    }\n",
       "\n",
       "    .dataframe tbody tr th {\n",
       "        vertical-align: top;\n",
       "    }\n",
       "\n",
       "    .dataframe thead th {\n",
       "        text-align: right;\n",
       "    }\n",
       "</style>\n",
       "<table border=\"1\" class=\"dataframe\">\n",
       "  <thead>\n",
       "    <tr style=\"text-align: right;\">\n",
       "      <th></th>\n",
       "      <th>id</th>\n",
       "      <th>vector</th>\n",
       "      <th>tags</th>\n",
       "    </tr>\n",
       "  </thead>\n",
       "  <tbody>\n",
       "    <tr>\n",
       "      <th>0</th>\n",
       "      <td>52922128</td>\n",
       "      <td>[-0.020482279360294342, -0.05063493549823761, ...</td>\n",
       "      <td>[jenkins]</td>\n",
       "    </tr>\n",
       "  </tbody>\n",
       "</table>\n",
       "</div>"
      ],
      "text/plain": [
       "         id                                             vector       tags\n",
       "0  52922128  [-0.020482279360294342, -0.05063493549823761, ...  [jenkins]"
      ]
     },
     "execution_count": 79,
     "metadata": {},
     "output_type": "execute_result"
    }
   ],
   "source": [
    "file_path = f\"{VDF_EXPORT_DIR_PATH}/{TARGET_INDEX_DISPLAY_NAME}/1.parquet\"\n",
    "\n",
    "test_parquet_df = pd.read_parquet(file_path)\n",
    "test_parquet_df.head(1)"
   ]
  },
  {
   "cell_type": "code",
   "execution_count": null,
   "id": "2995a1f8-2040-4a85-b78b-8f4c6cc9a0d6",
   "metadata": {},
   "outputs": [],
   "source": []
  }
 ],
 "metadata": {
  "environment": {
   "kernel": "python3",
   "name": "tf2-gpu.2-13.m115",
   "type": "gcloud",
   "uri": "gcr.io/deeplearning-platform-release/tf2-gpu.2-13:m115"
  },
  "kernelspec": {
   "display_name": "Python 3",
   "language": "python",
   "name": "python3"
  },
  "language_info": {
   "codemirror_mode": {
    "name": "ipython",
    "version": 3
   },
   "file_extension": ".py",
   "mimetype": "text/x-python",
   "name": "python",
   "nbconvert_exporter": "python",
   "pygments_lexer": "ipython3",
   "version": "3.10.13"
  }
 },
 "nbformat": 4,
 "nbformat_minor": 5
}
