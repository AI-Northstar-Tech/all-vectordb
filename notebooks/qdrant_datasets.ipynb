{
 "cells": [
  {
   "cell_type": "code",
   "execution_count": 1,
   "metadata": {},
   "outputs": [
    {
     "name": "stderr",
     "output_type": "stream",
     "text": [
      "/Users/dhruvanand/miniforge3/lib/python3.10/site-packages/tqdm/auto.py:21: TqdmWarning: IProgress not found. Please update jupyter and ipywidgets. See https://ipywidgets.readthedocs.io/en/stable/user_install.html\n",
      "  from .autonotebook import tqdm as notebook_tqdm\n",
      "Downloading readme: 100%|██████████| 1.18k/1.18k [00:00<00:00, 2.41MB/s]\n",
      "Resolving data files: 100%|██████████| 44/44 [00:00<00:00, 46.58it/s]\n"
     ]
    }
   ],
   "source": [
    "from datasets import load_dataset\n",
    "import os\n",
    "\n",
    "dataset = load_dataset(\n",
    "    \"Qdrant/arxiv-titles-instructorxl-embeddings\", split=\"train\", streaming=True\n",
    ")\n"
   ]
  },
  {
   "cell_type": "code",
   "execution_count": 2,
   "metadata": {},
   "outputs": [],
   "source": [
    "\n",
    "from qdrant_client import QdrantClient, models\n",
    "\n",
    "client = QdrantClient(\n",
    "  url=\"https://d57afa86-62c8-4b17-9eb5-6143a248abb7.us-east4-0.gcp.cloud.qdrant.io\",\n",
    "  api_key=os.environ[\"QDRANT_API_KEY\"],\n",
    ")\n"
   ]
  },
  {
   "cell_type": "code",
   "execution_count": 3,
   "metadata": {},
   "outputs": [
    {
     "data": {
      "text/plain": [
       "True"
      ]
     },
     "execution_count": 3,
     "metadata": {},
     "output_type": "execute_result"
    }
   ],
   "source": [
    "\n",
    "client.create_collection(\n",
    "    collection_name=\"arxiv-titles-instructorxl-embeddings\",\n",
    "    vectors_config=models.VectorParams(\n",
    "        size=768,\n",
    "        distance=models.Distance.COSINE,\n",
    "    ),\n",
    ")\n"
   ]
  },
  {
   "cell_type": "code",
   "execution_count": 4,
   "metadata": {},
   "outputs": [],
   "source": [
    "\n",
    "from itertools import islice\n",
    "\n",
    "def batched(iterable, n):\n",
    "    iterator = iter(iterable)\n",
    "    while batch := list(islice(iterator, n)):\n",
    "        yield batch\n",
    "\n",
    "\n",
    "batch_size = 100\n",
    "\n",
    "for batch in batched(dataset, batch_size):\n",
    "    ids = [point.pop(\"id\") for point in batch]\n",
    "    vectors = [point.pop(\"vector\") for point in batch]\n",
    "\n",
    "    client.upsert(\n",
    "        collection_name=\"arxiv-titles-instructorxl-embeddings\",\n",
    "        points=models.Batch(\n",
    "            ids=ids,\n",
    "            vectors=vectors,\n",
    "            payloads=batch,\n",
    "        ),\n",
    "    )\n",
    "    break"
   ]
  },
  {
   "cell_type": "code",
   "execution_count": null,
   "metadata": {},
   "outputs": [],
   "source": []
  }
 ],
 "metadata": {
  "kernelspec": {
   "display_name": "Python 3",
   "language": "python",
   "name": "python3"
  },
  "language_info": {
   "codemirror_mode": {
    "name": "ipython",
    "version": 3
   },
   "file_extension": ".py",
   "mimetype": "text/x-python",
   "name": "python",
   "nbconvert_exporter": "python",
   "pygments_lexer": "ipython3",
   "version": "3.10.12"
  }
 },
 "nbformat": 4,
 "nbformat_minor": 2
}
