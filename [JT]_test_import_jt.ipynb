{
 "cells": [
  {
   "cell_type": "markdown",
   "id": "1b771f52-8176-4a35-9bb4-7c017fd2b45b",
   "metadata": {},
   "source": [
    "# Testing import and export classes for Vertex AI Vecto Search\n",
    "\n",
    "> TODO: test public and private endpoints"
   ]
  },
  {
   "cell_type": "code",
   "execution_count": 1,
   "id": "be6ef8e4-e141-4673-8b1d-bc43770b03fb",
   "metadata": {
    "tags": []
   },
   "outputs": [
    {
     "name": "stdout",
     "output_type": "stream",
     "text": [
      "/home/jupyter/vector-io\n"
     ]
    }
   ],
   "source": [
    "!pwd"
   ]
  },
  {
   "cell_type": "code",
   "execution_count": 2,
   "id": "71130123-7986-40ca-b7fd-fca6fcba782c",
   "metadata": {
    "tags": []
   },
   "outputs": [],
   "source": [
    "# create new gcs bucket, vs index, etc.?\n",
    "CREATE_NEW_ASSETS         = False "
   ]
  },
  {
   "cell_type": "code",
   "execution_count": 3,
   "id": "de21ad21-547a-4039-ba8e-77feab44de0a",
   "metadata": {
    "tags": []
   },
   "outputs": [
    {
     "name": "stdout",
     "output_type": "stream",
     "text": [
      "PREFIX = vvs-vectorio-vpc1\n"
     ]
    }
   ],
   "source": [
    "# naming convention for all cloud resources\n",
    "VERSION        = \"vpc1\"                        # TODO\n",
    "PREFIX         = f'vvs-vectorio-{VERSION}'   # TODO\n",
    "\n",
    "print(f\"PREFIX = {PREFIX}\")"
   ]
  },
  {
   "cell_type": "markdown",
   "id": "4e9c65c4-3a2e-4724-8296-06deddfd21a0",
   "metadata": {},
   "source": [
    "## Load notebook config"
   ]
  },
  {
   "cell_type": "code",
   "execution_count": 4,
   "id": "f3a2a3d3-c1d0-48eb-bede-1939b4d77e78",
   "metadata": {
    "tags": []
   },
   "outputs": [
    {
     "name": "stdout",
     "output_type": "stream",
     "text": [
      "\n",
      "PREFIX                   = \"vvs-vectorio-vpc1\"\n",
      "VERSION                  = \"vpc1\"\n",
      "\n",
      "PROJECT_ID               = \"hybrid-vertex\"\n",
      "PROJECT_NUM              = \"934903580331\"\n",
      "\n",
      "REGION                   = \"us-central1\"\n",
      "BQ_REGION                = \"US\"\n",
      "\n",
      "VERTEX_SA                = \"934903580331-compute@developer.gserviceaccount.com\"\n",
      "\n",
      "VPC_NETWORK_NAME         = \"ucaip-haystack-vpc-network\"\n",
      "VPC_NETWORK_FULL         = \"projects/934903580331/global/networks/ucaip-haystack-vpc-network\"\n",
      "\n",
      "USE_PUBLIC_ENDPOINTS     = \"False\"\n",
      "\n",
      "BUCKET_NAME              = \"vvs-vectorio-vpc1-hybrid-vertex\"\n",
      "BUCKET_URI               = \"gs://vvs-vectorio-vpc1-hybrid-vertex\"\n",
      "\n"
     ]
    }
   ],
   "source": [
    "# staging GCS\n",
    "GCP_PROJECTS             = !gcloud config get-value project\n",
    "PROJECT_ID               = GCP_PROJECTS[0]\n",
    "\n",
    "# GCS bucket and paths\n",
    "BUCKET_NAME              = f'{PREFIX}-{PROJECT_ID}'\n",
    "BUCKET_URI               = f'gs://{BUCKET_NAME}'\n",
    "\n",
    "config = !gsutil cat {BUCKET_URI}/config/notebook_env.py\n",
    "print(config.n)\n",
    "exec(config.n)"
   ]
  },
  {
   "cell_type": "markdown",
   "id": "a29b1b2d-2129-4eb4-9459-8eaa13a2ea5e",
   "metadata": {},
   "source": [
    "## Imports"
   ]
  },
  {
   "cell_type": "code",
   "execution_count": 5,
   "id": "2c3a217d-3220-4b0b-98d7-30b3ce718680",
   "metadata": {
    "tags": []
   },
   "outputs": [
    {
     "name": "stdout",
     "output_type": "stream",
     "text": [
      "BigQuery SDK version      : 3.15.0\n",
      "Vertex AI SDK version     : 1.39.0\n",
      "Cloud Storage SDK version : 2.14.0\n"
     ]
    }
   ],
   "source": [
    "import pandas as pd\n",
    "import numpy as np\n",
    "import time \n",
    "import json\n",
    "import uuid\n",
    "\n",
    "from pprint import pprint\n",
    "\n",
    "from google.cloud import aiplatform as aip\n",
    "from google.cloud import storage\n",
    "from google.cloud import bigquery\n",
    "\n",
    "# logging\n",
    "import logging\n",
    "logging.disable(logging.WARNING)\n",
    "\n",
    "#python warning \n",
    "import warnings\n",
    "warnings.filterwarnings(\"ignore\")\n",
    "\n",
    "print(f'BigQuery SDK version      : {bigquery.__version__}')\n",
    "print(f'Vertex AI SDK version     : {aip.__version__}')\n",
    "print(f'Cloud Storage SDK version : {storage.__version__}')"
   ]
  },
  {
   "cell_type": "markdown",
   "id": "8abc7647-6323-44e9-b52e-878da310e222",
   "metadata": {},
   "source": [
    "### init Google Cloud SDK clients"
   ]
  },
  {
   "cell_type": "code",
   "execution_count": 6,
   "id": "265fc1aa-cc73-47aa-b672-ed1ca7ed71c8",
   "metadata": {
    "tags": []
   },
   "outputs": [],
   "source": [
    "# cloud storage client\n",
    "storage_client = storage.Client(project=PROJECT_ID)\n",
    "\n",
    "# Vertex client\n",
    "aip.init(project=PROJECT_ID, location=REGION)\n",
    "\n",
    "# bigquery client\n",
    "bq_client = bigquery.Client(\n",
    "    project=PROJECT_ID,\n",
    "    # location=BQ_REGION\n",
    ")"
   ]
  },
  {
   "cell_type": "markdown",
   "id": "3303f83d-36f1-4aa7-a50f-115f1e68e5b3",
   "metadata": {},
   "source": [
    "### Vertex AI import & export classes"
   ]
  },
  {
   "cell_type": "code",
   "execution_count": 7,
   "id": "1b0ee514-c92b-4c8c-ab8e-ccde62eecbd3",
   "metadata": {
    "tags": []
   },
   "outputs": [],
   "source": [
    "import sys\n",
    "import os\n",
    "\n",
    "# TODO - consolidate names: (vertexai_vector_search) vs (vertexai_vectorsearch)\n",
    "from src.import_vdf.vertexai_vector_search_import import ImportVertexAIVectorSearch\n",
    "from src.export_vdf.vertexai_vector_search_export import ExportVertexAIVectorSearch\n",
    "from src.names import DBNames"
   ]
  },
  {
   "cell_type": "markdown",
   "id": "92289e76-629f-4ab7-8cae-570d2c5b247e",
   "metadata": {},
   "source": [
    "## VDF Metadata json"
   ]
  },
  {
   "cell_type": "code",
   "execution_count": 30,
   "id": "da320e73-d942-4260-ac13-bcdb167a09a1",
   "metadata": {
    "tags": []
   },
   "outputs": [
    {
     "name": "stdout",
     "output_type": "stream",
     "text": [
      "{'author': 'jwortz',\n",
      " 'exported_from': 'vertex vector store',\n",
      " 'file_structure': '.jsonl',\n",
      " 'indexes': {'exported_at': '2024-01-28T00:00:00Z',\n",
      "             'glove100': {'data_path': 'gs://jsw-book-qa/me-json',\n",
      "                          'dimensions': 100,\n",
      "                          'exported_vector_count': 0,\n",
      "                          'metric': 'dot',\n",
      "                          'model_name': 'vertex_vector_search',\n",
      "                          'namespace': 'glove100',\n",
      "                          'total_vector_count': 0,\n",
      "                          'vector_colum   ns': 'na'}},\n",
      " 'version': '0.1'}\n"
     ]
    }
   ],
   "source": [
    "with open('VDF_META_jw.json') as f:\n",
    "    d = json.load(f)\n",
    "    pprint(d)"
   ]
  },
  {
   "cell_type": "markdown",
   "id": "30cd0776-5c7b-4257-bdae-015fb1ede48c",
   "metadata": {},
   "source": [
    "# Vertex AI Vector Search Index"
   ]
  },
  {
   "cell_type": "code",
   "execution_count": 8,
   "id": "b1b02600-49d6-4f35-9b57-cedbbadc2358",
   "metadata": {
    "tags": []
   },
   "outputs": [
    {
     "name": "stdout",
     "output_type": "stream",
     "text": [
      "INDEX_DISPLAY_NAME       : vectorstore_thd_v1\n",
      "TIMESTAMP_vdf            : 20240129-192338\n",
      "EMBEDDING_DIR_BUCKET_URI : gs://vvs-vectorio-vpc1-hybrid-vertex/init_index\n",
      "EMBEDDING_INIT_FILE_URI  : gs://vvs-vectorio-vpc1-hybrid-vertex/init_index/embeddings_0.json\n",
      "GCS_IMPORT_JSON          : gs://vvs-vectorio-vpc1-hybrid-vertex/vvs-vectorio-vpc1/embedding_indexes/tmp8ewwgaaq\n",
      "INDEX_EXPORT_DATA_PATH   : gs://vvs-vectorio-vpc1-hybrid-vertex/export/20240129-192338\n",
      "DIMENSIONS               : 768\n",
      "EXISTING_INDEX_NAME      : projects/934903580331/locations/us-central1/indexes/5271278645883699200\n"
     ]
    }
   ],
   "source": [
    "# INDEX_DISPLAY_NAME = \"soverflow_vvs_vectorio_vpc1\"\n",
    "# EXISTING_INDEX_ID = \"7417608906186162176\"\n",
    "\n",
    "INDEX_DISPLAY_NAME = \"vectorstore_thd_v1\"\n",
    "EXISTING_INDEX_ID = \"5271278645883699200\"\n",
    "\n",
    "### \n",
    "\n",
    "EXISTING_INDEX_NAME = f'projects/{PROJECT_NUM}/locations/{REGION}/indexes/{EXISTING_INDEX_ID}'\n",
    "\n",
    "TIMESTAMP_vdf = time.strftime(\"%Y%m%d-%H%M%S\")\n",
    "\n",
    "INIT_EMB_FILENAME = \"embeddings_0.json\"\n",
    "EMBEDDING_DIR_BUCKET_URI = f\"{BUCKET_URI}/init_index\"\n",
    "EMBEDDING_INIT_FILE_URI = f\"{EMBEDDING_DIR_BUCKET_URI}/{INIT_EMB_FILENAME}\"\n",
    "\n",
    "GCS_IMPORT_JSON = f\"{BUCKET_URI}/vvs-vectorio-vpc1/embedding_indexes/tmp8ewwgaaq\"\n",
    "INDEX_EXPORT_DATA_PATH = f\"{BUCKET_URI}/export/{TIMESTAMP_vdf}\"\n",
    "\n",
    "DIMENSIONS = 768\n",
    "VDF_VERSION = \"0.0.1.dev\"\n",
    "\n",
    "\n",
    "print(f\"INDEX_DISPLAY_NAME       : {INDEX_DISPLAY_NAME}\")\n",
    "print(f\"TIMESTAMP_vdf            : {TIMESTAMP_vdf}\")\n",
    "print(f\"EMBEDDING_DIR_BUCKET_URI : {EMBEDDING_DIR_BUCKET_URI}\")\n",
    "print(f\"EMBEDDING_INIT_FILE_URI  : {EMBEDDING_INIT_FILE_URI}\")\n",
    "print(f\"GCS_IMPORT_JSON          : {GCS_IMPORT_JSON}\")\n",
    "print(f\"INDEX_EXPORT_DATA_PATH   : {INDEX_EXPORT_DATA_PATH}\")\n",
    "print(f\"DIMENSIONS               : {DIMENSIONS}\")\n",
    "print(f\"EXISTING_INDEX_NAME      : {EXISTING_INDEX_NAME}\")"
   ]
  },
  {
   "cell_type": "markdown",
   "id": "556d95dc-243d-4d57-a2f2-9f6a6b306393",
   "metadata": {
    "tags": []
   },
   "source": [
    "### Create dummy file to import"
   ]
  },
  {
   "cell_type": "code",
   "execution_count": 46,
   "id": "42bc6489-85f4-4d80-93b1-9d89d3fa6bfd",
   "metadata": {
    "tags": []
   },
   "outputs": [
    {
     "name": "stdout",
     "output_type": "stream",
     "text": [
      "Copying file://embeddings_0.json [Content-Type=application/json]...\n",
      "/ [1 files][  3.8 KiB/  3.8 KiB]                                                \n",
      "Operation completed over 1 objects/3.8 KiB.                                      \n"
     ]
    }
   ],
   "source": [
    "# dummy embedding\n",
    "init_embedding = {\n",
    "    \"datapointId\": str(uuid.uuid4()),\n",
    "    \"featureVector\": list(np.zeros(DIMENSIONS))\n",
    "}\n",
    "\n",
    "# dump embedding to a local file\n",
    "with open(f\"{INIT_EMB_FILENAME}\", \"w\") as f:\n",
    "    json.dump(init_embedding, f)\n",
    "\n",
    "# write embedding to Cloud Storage\n",
    "! gsutil cp $INIT_EMB_FILENAME $EMBEDDING_INIT_FILE_URI"
   ]
  },
  {
   "cell_type": "code",
   "execution_count": 33,
   "id": "ed22fc99-3ae0-4456-9166-c6f0f4537bad",
   "metadata": {
    "tags": []
   },
   "outputs": [
    {
     "name": "stdout",
     "output_type": "stream",
     "text": [
      "gs://vvs-vectorio-vpc1-hybrid-vertex/init_index/embeddings_0.json\n"
     ]
    }
   ],
   "source": [
    "!gsutil ls $EMBEDDING_DIR_BUCKET_URI"
   ]
  },
  {
   "cell_type": "markdown",
   "id": "56ec29f9-242b-4029-adc8-ce100323a445",
   "metadata": {},
   "source": [
    "### Create VDF json"
   ]
  },
  {
   "cell_type": "code",
   "execution_count": 55,
   "id": "fef0e348-0297-4ce9-aa50-f47709b70fe9",
   "metadata": {
    "tags": []
   },
   "outputs": [
    {
     "name": "stdout",
     "output_type": "stream",
     "text": [
      "{'author': 'jordantotten',\n",
      " 'exported_from': 'vertex vector store',\n",
      " 'file_structure': '.jsonl',\n",
      " 'indexes': {'exported_at': '20240129-192026',\n",
      "             'vectorstore_thd_v1': {'data_path': 'gs://vvs-vectorio-vpc1-hybrid-vertex/init_index',\n",
      "                                    'dimensions': 768,\n",
      "                                    'exported_vector_count': 1,\n",
      "                                    'metric': 'Euclid',\n",
      "                                    'model_name': 'vertex_vector_search',\n",
      "                                    'namespace': 'so_questions',\n",
      "                                    'total_vector_count': 1,\n",
      "                                    'vector_columns': 'embedding'}},\n",
      " 'version': '0.0.1.dev'}\n"
     ]
    }
   ],
   "source": [
    "my_vdf = {\n",
    "    'author': 'jordantotten',\n",
    "    'exported_from': 'vertex vector store',\n",
    "    'file_structure': '.jsonl',\n",
    "    'version': VDF_VERSION,\n",
    "    'indexes': {\n",
    "         'exported_at': TIMESTAMP_vdf, #'2024-01-28T00:00:00Z',\n",
    "         INDEX_DISPLAY_NAME: {\n",
    "             'data_path': EMBEDDING_DIR_BUCKET_URI,\n",
    "             'dimensions': DIMENSIONS,\n",
    "             'exported_vector_count': 1,\n",
    "             'metric': 'Euclid',\n",
    "             'model_name': 'vertex_vector_search',\n",
    "             'namespace': 'so_questions',\n",
    "             'total_vector_count': 1,\n",
    "             'vector_columns': 'embedding'\n",
    "         }\n",
    "     }\n",
    "}\n",
    "pprint(my_vdf)"
   ]
  },
  {
   "cell_type": "code",
   "execution_count": 56,
   "id": "a1cba031-5fa0-433e-bc3b-e9ad3d9b41b5",
   "metadata": {
    "tags": []
   },
   "outputs": [],
   "source": [
    "import json\n",
    "with open('VDF_META.json', 'w') as fp:\n",
    "    json.dump(my_vdf, fp)"
   ]
  },
  {
   "cell_type": "markdown",
   "id": "7648600a-e6c0-42ff-859a-2223a0cb4452",
   "metadata": {},
   "source": [
    "## Initialize existing or create new index"
   ]
  },
  {
   "cell_type": "code",
   "execution_count": 57,
   "id": "1346e6de-1cda-40f0-b6c8-81ed0fe52e58",
   "metadata": {
    "tags": []
   },
   "outputs": [
    {
     "data": {
      "text/plain": [
       "<src.import_vdf.vertexai_vector_search_import.ImportVertexAIVectorSearch at 0x7f885c706ec0>"
      ]
     },
     "execution_count": 57,
     "metadata": {},
     "output_type": "execute_result"
    }
   ],
   "source": [
    "my_import_args = {\n",
    "    \"project_id\": PROJECT_ID,\n",
    "    \"location\": REGION,\n",
    "    \"index\": INDEX_DISPLAY_NAME,\n",
    "    \"library_version\": VDF_VERSION,\n",
    "    \"dir\": \".\",\n",
    "}\n",
    "\n",
    "import_vvs = ImportVertexAIVectorSearch(\n",
    "    args=my_import_args \n",
    ")\n",
    "\n",
    "import_vvs"
   ]
  },
  {
   "cell_type": "code",
   "execution_count": 58,
   "id": "238e9a87-0951-4d36-8f18-ee974bfa11b6",
   "metadata": {
    "tags": []
   },
   "outputs": [
    {
     "name": "stdout",
     "output_type": "stream",
     "text": [
      "Upserted datapoints\n"
     ]
    }
   ],
   "source": [
    "import_vvs.upsert_data(\n",
    "    index_names = EXISTING_INDEX_ID,\n",
    "    data = [init_embedding]\n",
    ")"
   ]
  },
  {
   "cell_type": "markdown",
   "id": "4b0e3067-4eac-441f-a00a-021396e70bc3",
   "metadata": {},
   "source": [
    "### check index vector count"
   ]
  },
  {
   "cell_type": "code",
   "execution_count": 59,
   "id": "d95da0ea-e243-4748-93d8-db6759009460",
   "metadata": {
    "tags": []
   },
   "outputs": [
    {
     "data": {
      "text/plain": [
       "{'name': 'projects/934903580331/locations/us-central1/indexes/5271278645883699200',\n",
       " 'displayName': 'vectorstore_thd_v1',\n",
       " 'description': 'Index for LangChain demo',\n",
       " 'metadataSchemaUri': 'gs://google-cloud-aiplatform/schema/matchingengine/metadata/nearest_neighbor_search_1.0.0.yaml',\n",
       " 'metadata': {'config': {'dimensions': 768.0,\n",
       "   'approximateNeighborsCount': 150.0,\n",
       "   'distanceMeasureType': 'DOT_PRODUCT_DISTANCE',\n",
       "   'algorithmConfig': {'treeAhConfig': {'leafNodeEmbeddingCount': '500',\n",
       "     'leafNodesToSearchPercent': 7.0}},\n",
       "   'shardSize': 'SHARD_SIZE_SMALL'}},\n",
       " 'deployedIndexes': [{'indexEndpoint': 'projects/934903580331/locations/us-central1/indexEndpoints/3260843624727838720',\n",
       "   'deployedIndexId': 'vectorstore_thd_v1_20230606140136',\n",
       "   'displayName': 'vectorstore_thd_v1_20230606140136'},\n",
       "  {'indexEndpoint': 'projects/934903580331/locations/us-central1/indexEndpoints/3260843624727838720',\n",
       "   'deployedIndexId': 'vectorstore_thd_v1_20230606143229',\n",
       "   'displayName': 'vectorstore_thd_v1_20230606143229'}],\n",
       " 'etag': 'AMEw9yOhdydY9dKyEIN69u5vsBBdHXeYDIRee-Wxj38gQroMjclAHTKBnPOI4tbiXiy7',\n",
       " 'createTime': '2023-06-06T12:43:52.904135Z',\n",
       " 'updateTime': '2023-06-09T16:35:51.682791Z',\n",
       " 'indexStats': {'vectorsCount': '631', 'shardsCount': 1},\n",
       " 'indexUpdateMethod': 'STREAM_UPDATE'}"
      ]
     },
     "execution_count": 59,
     "metadata": {},
     "output_type": "execute_result"
    }
   ],
   "source": [
    "my_vs_index = aip.MatchingEngineIndex(EXISTING_INDEX_NAME)\n",
    "\n",
    "my_vs_index.to_dict()"
   ]
  },
  {
   "cell_type": "markdown",
   "id": "475bd87d-40f6-4b50-ba24-6d420ddd6130",
   "metadata": {},
   "source": [
    "## Export from existing Vertex AI Vector Search index"
   ]
  },
  {
   "cell_type": "code",
   "execution_count": 13,
   "id": "3fe3f1f6-c170-4b67-8b2d-65f1b2f057b3",
   "metadata": {
    "tags": []
   },
   "outputs": [
    {
     "data": {
      "text/plain": [
       "<src.export_vdf.vertexai_vectorsearch_export.ExportVertexAIVectorSearch at 0x7fb2541c38b0>"
      ]
     },
     "execution_count": 13,
     "metadata": {},
     "output_type": "execute_result"
    }
   ],
   "source": [
    "# INDEX_DISPLAY_NAME = \"soverflow_vvs_vectorio_vpc1\"\n",
    "INDEX_DISPLAY_NAME = \"vectorstore_thd_v1\"\n",
    "\n",
    "my_export_args = {\n",
    "    \"project_id\": PROJECT_ID,\n",
    "    \"location\": REGION,\n",
    "    \"index\": INDEX_DISPLAY_NAME,\n",
    "    \"library_version\": VDF_VERSION,\n",
    "    \"dir\": \".\",\n",
    "    \"model_name\":\"jt-emb-model\",\n",
    "}\n",
    "\n",
    "export_vvs = ExportVertexAIVectorSearch(\n",
    "    args=my_export_args \n",
    ")\n",
    "\n",
    "export_vvs"
   ]
  },
  {
   "cell_type": "code",
   "execution_count": 14,
   "id": "c978e547-b4d6-4551-9e0e-71e3b731db77",
   "metadata": {
    "tags": []
   },
   "outputs": [
    {
     "data": {
      "text/plain": [
       "{'project_id': 'hybrid-vertex',\n",
       " 'location': 'us-central1',\n",
       " 'index': 'vectorstore_thd_v1',\n",
       " 'library_version': '0.0.1.dev',\n",
       " 'dir': '.',\n",
       " 'model_name': 'jt-emb-model'}"
      ]
     },
     "execution_count": 14,
     "metadata": {},
     "output_type": "execute_result"
    }
   ],
   "source": [
    "export_vvs.args"
   ]
  },
  {
   "cell_type": "code",
   "execution_count": 15,
   "id": "a3ed070e-12ca-463b-b29c-bd5979a2f4a4",
   "metadata": {
    "tags": []
   },
   "outputs": [
    {
     "data": {
      "text/plain": [
       "'vdf_20240129_192550_cd2e0'"
      ]
     },
     "execution_count": 15,
     "metadata": {},
     "output_type": "execute_result"
    }
   ],
   "source": [
    "export_vvs.vdf_directory"
   ]
  },
  {
   "cell_type": "code",
   "execution_count": 16,
   "id": "ee14449e-d014-483e-909e-1abb87576156",
   "metadata": {
    "tags": []
   },
   "outputs": [
    {
     "name": "stderr",
     "output_type": "stream",
     "text": [
      "Fetching indexes:   0%|          | 0/1 [00:00<?, ?it/s]\n",
      "\n",
      "Exporting vectorstore_thd_v1:   0%|          | 0/631 [00:00<?, ?it/s]\u001b[A\u001b[A\n",
      "\n",
      "Exporting vectorstore_thd_v1: 100%|██████████| 631/631 [00:00<00:00, 2058.19it/s]\u001b[A\u001b[A\n",
      "Fetching indexes: 100%|██████████| 1/1 [00:00<00:00,  1.83it/s]\n",
      "\n",
      "\u001b[A                                                                              \n",
      "Exporting vectorstore_thd_v1: 100%|██████████| 631/631 [01:37<00:00, 1622.75it/s]\u001b[A"
     ]
    },
    {
     "name": "stdout",
     "output_type": "stream",
     "text": [
      "{\n",
      "    \"version\": \"0.0.1.dev\",\n",
      "    \"file_structure\": [\n",
      "        \"vdf_20240129_192550_cd2e0/vectorstore_thd_v1/1.parquet\",\n",
      "        \"vdf_20240129_192550_cd2e0/VDF_META.json\"\n",
      "    ],\n",
      "    \"author\": \"jupyter\",\n",
      "    \"exported_from\": \"vertexai_vectorsearch\",\n",
      "    \"indexes\": {\n",
      "        \"projects/934903580331/locations/us-central1/indexes/5271278645883699200\": {\n",
      "            \"\": [\n",
      "                {\n",
      "                    \"index_name\": \"vectorstore_thd_v1\",\n",
      "                    \"namespace\": \"\",\n",
      "                    \"total_vector_count\": 631,\n",
      "                    \"exported_vector_count\": 631,\n",
      "                    \"metric\": \"Dot\",\n",
      "                    \"dimensions\": 768,\n",
      "                    \"model_name\": \"jt-emb-model\",\n",
      "                    \"vector_columns\": [\n",
      "                        \"vector\"\n",
      "                    ],\n",
      "                    \"data_path\": \"vdf_20240129_192550_cd2e0/vectorstore_thd_v1\"\n",
      "                }\n",
      "            ]\n",
      "        }\n",
      "    }\n",
      "}\n"
     ]
    },
    {
     "data": {
      "text/plain": [
       "True"
      ]
     },
     "execution_count": 16,
     "metadata": {},
     "output_type": "execute_result"
    }
   ],
   "source": [
    "export_vvs.get_data()"
   ]
  },
  {
   "cell_type": "code",
   "execution_count": null,
   "id": "07d83c55-f405-4962-a86d-5b0e07b3900a",
   "metadata": {},
   "outputs": [],
   "source": []
  }
 ],
 "metadata": {
  "environment": {
   "kernel": "python3",
   "name": "tf2-gpu.2-13.m115",
   "type": "gcloud",
   "uri": "gcr.io/deeplearning-platform-release/tf2-gpu.2-13:m115"
  },
  "kernelspec": {
   "display_name": "Python 3",
   "language": "python",
   "name": "python3"
  },
  "language_info": {
   "codemirror_mode": {
    "name": "ipython",
    "version": 3
   },
   "file_extension": ".py",
   "mimetype": "text/x-python",
   "name": "python",
   "nbconvert_exporter": "python",
   "pygments_lexer": "ipython3",
   "version": "3.10.13"
  }
 },
 "nbformat": 4,
 "nbformat_minor": 5
}
